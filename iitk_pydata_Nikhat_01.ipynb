{
  "nbformat": 4,
  "nbformat_minor": 0,
  "metadata": {
    "colab": {
      "name": "iitk_pydata_Nikhat_01.ipynb",
      "version": "0.3.2",
      "provenance": [],
      "collapsed_sections": [],
      "include_colab_link": true
    },
    "kernelspec": {
      "name": "python3",
      "display_name": "Python 3"
    }
  },
  "cells": [
    {
      "cell_type": "markdown",
      "metadata": {
        "id": "view-in-github",
        "colab_type": "text"
      },
      "source": [
        "<a href=\"https://colab.research.google.com/github/Nikhat24/myprofile/blob/master/iitk_pydata_Nikhat_01.ipynb\" target=\"_parent\"><img src=\"https://colab.research.google.com/assets/colab-badge.svg\" alt=\"Open In Colab\"/></a>"
      ]
    },
    {
      "cell_type": "code",
      "metadata": {
        "id": "D4uytmPsdE9w",
        "colab_type": "code",
        "outputId": "21fdea50-5fea-457b-916e-95c5ebb30608",
        "colab": {
          "base_uri": "https://localhost:8080/",
          "height": 34
        }
      },
      "source": [
        "list1 = [10, 21, 4, 45, 66, 93] \n",
        "num = 0\n",
        "  \n",
        "# using while loop         \n",
        "while(num < len(list1)): \n",
        "      \n",
        "    # checking condition \n",
        "    if num % 2 == 0: \n",
        "       print(list1[num], end = \" \") \n",
        "      \n",
        "    # increment num   \n",
        "    num += 1"
      ],
      "execution_count": 0,
      "outputs": [
        {
          "output_type": "stream",
          "text": [
            "10 4 66 "
          ],
          "name": "stdout"
        }
      ]
    },
    {
      "cell_type": "code",
      "metadata": {
        "id": "f0FnZpdZ9D7-",
        "colab_type": "code",
        "colab": {}
      },
      "source": [
        ""
      ],
      "execution_count": 0,
      "outputs": []
    },
    {
      "cell_type": "code",
      "metadata": {
        "id": "rvSxYutyeDNA",
        "colab_type": "code",
        "outputId": "d0377714-aa74-4f61-ee04-a93d3fe226b7",
        "colab": {
          "base_uri": "https://localhost:8080/",
          "height": 204
        }
      },
      "source": [
        "a = int(input(\"Enter the number you want print the table of: \"))\n",
        "for i in range(1,11):\n",
        "  c=a*i\n",
        "  print(\"Table of\", a, \"x\", i, \"is =\", c)"
      ],
      "execution_count": 0,
      "outputs": [
        {
          "output_type": "stream",
          "text": [
            "Enter the number you want print the table of: 2\n",
            "Table of 2 x 1 is = 2\n",
            "Table of 2 x 2 is = 4\n",
            "Table of 2 x 3 is = 6\n",
            "Table of 2 x 4 is = 8\n",
            "Table of 2 x 5 is = 10\n",
            "Table of 2 x 6 is = 12\n",
            "Table of 2 x 7 is = 14\n",
            "Table of 2 x 8 is = 16\n",
            "Table of 2 x 9 is = 18\n",
            "Table of 2 x 10 is = 20\n"
          ],
          "name": "stdout"
        }
      ]
    },
    {
      "cell_type": "code",
      "metadata": {
        "id": "6vJdrVJ-g8RE",
        "colab_type": "code",
        "outputId": "89054c3b-4dc0-44b4-8b7e-be13cec945af",
        "colab": {
          "base_uri": "https://localhost:8080/",
          "height": 119
        }
      },
      "source": [
        "a = int(input(\"Enter the number you want print the table of: \"))\n",
        "i=1\n",
        "while i<11:\n",
        "  b=a*i\n",
        "  print (\"Table of \", a,\"x\",i,\"is: \", b)\n",
        "  i=i+2"
      ],
      "execution_count": 0,
      "outputs": [
        {
          "output_type": "stream",
          "text": [
            "Enter the number you want print the table of: 3\n",
            "Table of  3 x 1 is:  3\n",
            "Table of  3 x 3 is:  9\n",
            "Table of  3 x 5 is:  15\n",
            "Table of  3 x 7 is:  21\n",
            "Table of  3 x 9 is:  27\n"
          ],
          "name": "stdout"
        }
      ]
    },
    {
      "cell_type": "code",
      "metadata": {
        "id": "LBu1tgzCkVKX",
        "colab_type": "code",
        "outputId": "73b4bd70-6b78-4e84-d82c-6ae831727d6a",
        "colab": {
          "base_uri": "https://localhost:8080/",
          "height": 34
        }
      },
      "source": [
        "x= [\"apple\", \"banana\", \"kiwi\"]\n",
        "print (x[0:1])"
      ],
      "execution_count": 0,
      "outputs": [
        {
          "output_type": "stream",
          "text": [
            "['apple']\n"
          ],
          "name": "stdout"
        }
      ]
    },
    {
      "cell_type": "code",
      "metadata": {
        "id": "6aQzskdWnkit",
        "colab_type": "code",
        "outputId": "b3bc4a4d-e270-43be-d4ab-6fd73ff325ef",
        "colab": {
          "base_uri": "https://localhost:8080/",
          "height": 34
        }
      },
      "source": [
        "x= [\"apple\", \"banana\", \"orange\", \"grapes\", \"kiwi\"]\n",
        "print (x[2:4])"
      ],
      "execution_count": 0,
      "outputs": [
        {
          "output_type": "stream",
          "text": [
            "['orange', 'grapes']\n"
          ],
          "name": "stdout"
        }
      ]
    },
    {
      "cell_type": "code",
      "metadata": {
        "id": "5aA6ybbaogbr",
        "colab_type": "code",
        "outputId": "82bf2d69-b5e1-4c25-a093-ecec8e6ec6f2",
        "colab": {
          "base_uri": "https://localhost:8080/",
          "height": 34
        }
      },
      "source": [
        "x= [\"apple\", \"banana\", \"orange\", \"grapes\", \"kiwi\"]\n",
        "x.sort()\n",
        "print(x)"
      ],
      "execution_count": 0,
      "outputs": [
        {
          "output_type": "stream",
          "text": [
            "['apple', 'banana', 'grapes', 'kiwi', 'orange']\n"
          ],
          "name": "stdout"
        }
      ]
    },
    {
      "cell_type": "code",
      "metadata": {
        "id": "HzkY7GM5pTsc",
        "colab_type": "code",
        "outputId": "078a0c47-30eb-43c5-a693-6c74b8c447a8",
        "colab": {
          "base_uri": "https://localhost:8080/",
          "height": 34
        }
      },
      "source": [
        "x= [\"apple\", \"banana\", \"orange\", \"grapes\", \"kiwi\"]\n",
        "x.append(\"watermelon\")\n",
        "print(x)"
      ],
      "execution_count": 0,
      "outputs": [
        {
          "output_type": "stream",
          "text": [
            "['apple', 'banana', 'orange', 'grapes', 'kiwi', 'watermelon']\n"
          ],
          "name": "stdout"
        }
      ]
    },
    {
      "cell_type": "code",
      "metadata": {
        "id": "Of1jn6B0qTCm",
        "colab_type": "code",
        "outputId": "e4eeb38c-ca63-42d8-8534-7e4a83bbeb4c",
        "colab": {
          "base_uri": "https://localhost:8080/",
          "height": 85
        }
      },
      "source": [
        "fruits= [\"apple\", \"orange\", \"kiwi\", \"banana\"]\n",
        "for f in fruits:\n",
        "  print(\"i found \", f)"
      ],
      "execution_count": 0,
      "outputs": [
        {
          "output_type": "stream",
          "text": [
            "i found  apple\n",
            "i found  orange\n",
            "i found  kiwi\n",
            "i found  banana\n"
          ],
          "name": "stdout"
        }
      ]
    },
    {
      "cell_type": "code",
      "metadata": {
        "id": "NfFuILdh7y55",
        "colab_type": "code",
        "outputId": "f45b9f03-7723-43ab-d8cd-38344c037667",
        "colab": {
          "base_uri": "https://localhost:8080/",
          "height": 102
        }
      },
      "source": [
        "a=[]\n",
        "for i in range(1,5):\n",
        " a.append(input(\"Enter the word: \"))\n",
        "a.sort()\n",
        "print(\"sorted list is\" , a)\n"
      ],
      "execution_count": 0,
      "outputs": [
        {
          "output_type": "stream",
          "text": [
            "Enter the word: hi\n",
            "Enter the word: my\n",
            "Enter the word: name\n",
            "Enter the word: is\n",
            "sorted list is ['hi', 'is', 'my', 'name']\n"
          ],
          "name": "stdout"
        }
      ]
    },
    {
      "cell_type": "code",
      "metadata": {
        "id": "1l2smAKb-3VX",
        "colab_type": "code",
        "outputId": "d410707c-4976-4d80-e212-263412157586",
        "colab": {
          "base_uri": "https://localhost:8080/",
          "height": 102
        }
      },
      "source": [
        "a=[]\n",
        "for i in range(1,5):\n",
        " a.append(input(\"Enter the word: \"))\n",
        "a.sort()\n",
        "a.reverse()\n",
        "print(\"sorted list is\" , a)\n"
      ],
      "execution_count": 0,
      "outputs": [
        {
          "output_type": "stream",
          "text": [
            "Enter the word: hey\n",
            "Enter the word: there\n",
            "Enter the word: wassup\n",
            "Enter the word: man\n",
            "sorted list is ['wassup', 'there', 'man', 'hey']\n"
          ],
          "name": "stdout"
        }
      ]
    },
    {
      "cell_type": "code",
      "metadata": {
        "id": "Oxfube5LBx9A",
        "colab_type": "code",
        "outputId": "4d093f05-761b-4528-fa66-f0acf083d8cf",
        "colab": {
          "base_uri": "https://localhost:8080/",
          "height": 51
        }
      },
      "source": [
        "sum=0\n",
        "n=int(input(\"Enter the limit: \"))\n",
        "i=1\n",
        "while i<n:\n",
        "  if i%2==0:\n",
        "    sum=sum+i\n",
        "  i=i+1\n",
        "print(\"Sum is: \", sum)"
      ],
      "execution_count": 0,
      "outputs": [
        {
          "output_type": "stream",
          "text": [
            "Enter the limit: 1000\n",
            "Sum is:  249500\n"
          ],
          "name": "stdout"
        }
      ]
    },
    {
      "cell_type": "code",
      "metadata": {
        "id": "cQMD5EbIDA7D",
        "colab_type": "code",
        "outputId": "1704202e-2918-4f28-d5bd-00f54de66060",
        "colab": {
          "base_uri": "https://localhost:8080/",
          "height": 34
        }
      },
      "source": [
        "car=dict({\"make\": \"BMW\", \"Year\": 2019, \"Color\": \"Red\"})\n",
        "print(car)\n",
        "     "
      ],
      "execution_count": 0,
      "outputs": [
        {
          "output_type": "stream",
          "text": [
            "{'make': 'BMW', 'Year': 2019, 'Color': 'Red'}\n"
          ],
          "name": "stdout"
        }
      ]
    },
    {
      "cell_type": "code",
      "metadata": {
        "id": "9xXYBPL_FeEa",
        "colab_type": "code",
        "outputId": "49f07d44-b174-46b1-b445-7ba41ce9a8e8",
        "colab": {
          "base_uri": "https://localhost:8080/",
          "height": 306
        }
      },
      "source": [
        "def fib(x):\n",
        "  a, b=0,1\n",
        "  while a<x:\n",
        "    print(a)\n",
        "    a,b=b, a+b\n",
        "fib(1000)\n",
        "  \n",
        "  "
      ],
      "execution_count": 0,
      "outputs": [
        {
          "output_type": "stream",
          "text": [
            "0\n",
            "1\n",
            "1\n",
            "2\n",
            "3\n",
            "5\n",
            "8\n",
            "13\n",
            "21\n",
            "34\n",
            "55\n",
            "89\n",
            "144\n",
            "233\n",
            "377\n",
            "610\n",
            "987\n"
          ],
          "name": "stdout"
        }
      ]
    },
    {
      "cell_type": "code",
      "metadata": {
        "id": "EfbuaxKsGhh7",
        "colab_type": "code",
        "outputId": "b6fc3eb9-85f1-4ffa-8d9d-df80cd365434",
        "colab": {
          "base_uri": "https://localhost:8080/",
          "height": 34
        }
      },
      "source": [
        "x=1\n",
        "y=2\n",
        "z=3\n",
        "def abc(x, y, z):\n",
        "  x=10\n",
        "  y=20\n",
        "  z=30\n",
        "abc(x, y, z)\n",
        "print(x, y, z)  "
      ],
      "execution_count": 0,
      "outputs": [
        {
          "output_type": "stream",
          "text": [
            "1 2 3\n"
          ],
          "name": "stdout"
        }
      ]
    },
    {
      "cell_type": "code",
      "metadata": {
        "id": "mGwSyZgmKgs0",
        "colab_type": "code",
        "outputId": "e0cf0b14-96ee-4768-8013-dc28eee27870",
        "colab": {
          "base_uri": "https://localhost:8080/",
          "height": 34
        }
      },
      "source": [
        "x=[1, 2, 3]\n",
        "def abc(x):\n",
        "  x[0]=10\n",
        "  x[1]=20\n",
        "  x[2]=30\n",
        "abc(x)\n",
        "print(x) "
      ],
      "execution_count": 0,
      "outputs": [
        {
          "output_type": "stream",
          "text": [
            "[10, 20, 30]\n"
          ],
          "name": "stdout"
        }
      ]
    },
    {
      "cell_type": "code",
      "metadata": {
        "id": "3rZr9hwKL-6w",
        "colab_type": "code",
        "outputId": "6abb497b-0d71-41e5-b15d-5f3c1018dbc4",
        "colab": {
          "base_uri": "https://localhost:8080/",
          "height": 51
        }
      },
      "source": [
        "x=[1, 2, 3]\n",
        "z=x.copy()     # Here Z will copy value of x and any changes in z will not change the value of x      \n",
        "def abc(z):\n",
        "  z[0]=10\n",
        "  z[1]=20\n",
        "  z[2]=30\n",
        "abc(z)\n",
        "print(x)\n",
        "print(z) "
      ],
      "execution_count": 0,
      "outputs": [
        {
          "output_type": "stream",
          "text": [
            "[1, 2, 3]\n",
            "[10, 20, 30]\n"
          ],
          "name": "stdout"
        }
      ]
    },
    {
      "cell_type": "code",
      "metadata": {
        "id": "4PQ8vs4WMsaN",
        "colab_type": "code",
        "outputId": "9f1c056a-55cd-49c3-a54a-6fe38540b648",
        "colab": {
          "base_uri": "https://localhost:8080/",
          "height": 51
        }
      },
      "source": [
        "x=[1, 2, 3]\n",
        "z=x                        # Here if we change the valyue of Z value of x will also change\n",
        "def abc(z):\n",
        "  z[0]=10\n",
        "  z[1]=20\n",
        "  z[2]=30\n",
        "abc(z)\n",
        "print(x)\n",
        "print(z) "
      ],
      "execution_count": 0,
      "outputs": [
        {
          "output_type": "stream",
          "text": [
            "[10, 20, 30]\n",
            "[10, 20, 30]\n"
          ],
          "name": "stdout"
        }
      ]
    },
    {
      "cell_type": "code",
      "metadata": {
        "id": "TvrQLjPCN0zh",
        "colab_type": "code",
        "outputId": "a1a6d4ed-51e4-4cf0-b8ea-472285bdef12",
        "colab": {
          "base_uri": "https://localhost:8080/",
          "height": 34
        }
      },
      "source": [
        "def func1(x, y, z=3):\n",
        "  return x+y+z     \n",
        "func1(10, 3)        # if we give only 2 values then func1 will take values that are initialized before"
      ],
      "execution_count": 0,
      "outputs": [
        {
          "output_type": "execute_result",
          "data": {
            "text/plain": [
              "16"
            ]
          },
          "metadata": {
            "tags": []
          },
          "execution_count": 82
        }
      ]
    },
    {
      "cell_type": "code",
      "metadata": {
        "id": "hLq_H91eP_2l",
        "colab_type": "code",
        "outputId": "50cc743d-2821-40ce-f888-0febb52ab8de",
        "colab": {
          "base_uri": "https://localhost:8080/",
          "height": 51
        }
      },
      "source": [
        "def mysum(*args):\n",
        "  print(len(args))\n",
        "  return sum(args)\n",
        "mysum(1,2,3,4,5)"
      ],
      "execution_count": 0,
      "outputs": [
        {
          "output_type": "stream",
          "text": [
            "5\n"
          ],
          "name": "stdout"
        },
        {
          "output_type": "execute_result",
          "data": {
            "text/plain": [
              "15"
            ]
          },
          "metadata": {
            "tags": []
          },
          "execution_count": 1
        }
      ]
    },
    {
      "cell_type": "code",
      "metadata": {
        "id": "kqKAbmLIQeNP",
        "colab_type": "code",
        "outputId": "f7c9dde7-87e0-4bd6-87ac-207ee26ee779",
        "colab": {
          "base_uri": "https://localhost:8080/",
          "height": 68
        }
      },
      "source": [
        "def mysum(x, y, z, *args , **kwargs):\n",
        "  print(args)\n",
        "  print(kwargs)\n",
        "  return sum(args)\n",
        "mysum(1,2,5,4, 2, t=9, h=7)      #x=1, y=2, z=5 args=4,2 kwargs=t,9,h,7"
      ],
      "execution_count": 0,
      "outputs": [
        {
          "output_type": "stream",
          "text": [
            "(4, 2)\n",
            "{'t': 9, 'h': 7}\n"
          ],
          "name": "stdout"
        },
        {
          "output_type": "execute_result",
          "data": {
            "text/plain": [
              "6"
            ]
          },
          "metadata": {
            "tags": []
          },
          "execution_count": 9
        }
      ]
    },
    {
      "cell_type": "code",
      "metadata": {
        "id": "8-PptRylQXmg",
        "colab_type": "code",
        "outputId": "98e7bbf6-3016-4400-cbc1-cab3a88078a5",
        "colab": {
          "base_uri": "https://localhost:8080/",
          "height": 34
        }
      },
      "source": [
        "x=1\n",
        "y=2\n",
        "z=3\n",
        "def myfunc(a, b, c):\n",
        "  print(x, y, z)              #x y z is wrapper for a b c\n",
        "myfunc(1,3,5)"
      ],
      "execution_count": 0,
      "outputs": [
        {
          "output_type": "stream",
          "text": [
            "1 2 3\n"
          ],
          "name": "stdout"
        }
      ]
    },
    {
      "cell_type": "code",
      "metadata": {
        "id": "weOW9cC_bgQP",
        "colab_type": "code",
        "outputId": "1baa0249-3e0b-44e0-eeee-98a2a1c01ef1",
        "colab": {
          "base_uri": "https://localhost:8080/",
          "height": 34
        }
      },
      "source": [
        "def spam():\n",
        "  eggs=77\n",
        "  bacon()\n",
        "  print(eggs)\n",
        "def bacon():\n",
        "  ham=101\n",
        "  eggs=0\n",
        "spam()\n"
      ],
      "execution_count": 0,
      "outputs": [
        {
          "output_type": "stream",
          "text": [
            "77\n"
          ],
          "name": "stdout"
        }
      ]
    },
    {
      "cell_type": "code",
      "metadata": {
        "id": "mGYmpoz1cUK8",
        "colab_type": "code",
        "outputId": "b3b2bcac-a691-4bca-bffc-3faf9c5497ba",
        "colab": {
          "base_uri": "https://localhost:8080/",
          "height": 34
        }
      },
      "source": [
        "def spam():\n",
        "  global eggs\n",
        "  eggs=\"spam\"\n",
        "def bacon():\n",
        "  eggs =\"bacon\"\n",
        "def ham():\n",
        "  print(eggs)\n",
        "eggs=42\n",
        "spam()\n",
        "print(eggs)\n"
      ],
      "execution_count": 0,
      "outputs": [
        {
          "output_type": "stream",
          "text": [
            "spam\n"
          ],
          "name": "stdout"
        }
      ]
    },
    {
      "cell_type": "code",
      "metadata": {
        "id": "Pyp_tou-dJSK",
        "colab_type": "code",
        "outputId": "f2141139-1f85-4eba-d669-89eec05f73a4",
        "colab": {
          "base_uri": "https://localhost:8080/",
          "height": 316
        }
      },
      "source": [
        "def spam():\n",
        "  print(eggs)\n",
        "  eggs=\"spam local\"\n",
        "eggs=\"global\"\n",
        "spam()\n"
      ],
      "execution_count": 0,
      "outputs": [
        {
          "output_type": "error",
          "ename": "UnboundLocalError",
          "evalue": "ignored",
          "traceback": [
            "\u001b[0;31m---------------------------------------------------------------------------\u001b[0m",
            "\u001b[0;31mUnboundLocalError\u001b[0m                         Traceback (most recent call last)",
            "\u001b[0;32m<ipython-input-18-655daec717fe>\u001b[0m in \u001b[0;36m<module>\u001b[0;34m()\u001b[0m\n\u001b[1;32m      3\u001b[0m   \u001b[0meggs\u001b[0m\u001b[0;34m=\u001b[0m\u001b[0;34m\"spam local\"\u001b[0m\u001b[0;34m\u001b[0m\u001b[0;34m\u001b[0m\u001b[0m\n\u001b[1;32m      4\u001b[0m \u001b[0meggs\u001b[0m\u001b[0;34m=\u001b[0m\u001b[0;34m\"global\"\u001b[0m\u001b[0;34m\u001b[0m\u001b[0;34m\u001b[0m\u001b[0m\n\u001b[0;32m----> 5\u001b[0;31m \u001b[0mspam\u001b[0m\u001b[0;34m(\u001b[0m\u001b[0;34m)\u001b[0m\u001b[0;34m\u001b[0m\u001b[0;34m\u001b[0m\u001b[0m\n\u001b[0m",
            "\u001b[0;32m<ipython-input-18-655daec717fe>\u001b[0m in \u001b[0;36mspam\u001b[0;34m()\u001b[0m\n\u001b[1;32m      1\u001b[0m \u001b[0;32mdef\u001b[0m \u001b[0mspam\u001b[0m\u001b[0;34m(\u001b[0m\u001b[0;34m)\u001b[0m\u001b[0;34m:\u001b[0m\u001b[0;34m\u001b[0m\u001b[0;34m\u001b[0m\u001b[0m\n\u001b[0;32m----> 2\u001b[0;31m   \u001b[0mprint\u001b[0m\u001b[0;34m(\u001b[0m\u001b[0meggs\u001b[0m\u001b[0;34m)\u001b[0m\u001b[0;34m\u001b[0m\u001b[0;34m\u001b[0m\u001b[0m\n\u001b[0m\u001b[1;32m      3\u001b[0m   \u001b[0meggs\u001b[0m\u001b[0;34m=\u001b[0m\u001b[0;34m\"spam local\"\u001b[0m\u001b[0;34m\u001b[0m\u001b[0;34m\u001b[0m\u001b[0m\n\u001b[1;32m      4\u001b[0m \u001b[0meggs\u001b[0m\u001b[0;34m=\u001b[0m\u001b[0;34m\"global\"\u001b[0m\u001b[0;34m\u001b[0m\u001b[0;34m\u001b[0m\u001b[0m\n\u001b[1;32m      5\u001b[0m \u001b[0mspam\u001b[0m\u001b[0;34m(\u001b[0m\u001b[0;34m)\u001b[0m\u001b[0;34m\u001b[0m\u001b[0;34m\u001b[0m\u001b[0m\n",
            "\u001b[0;31mUnboundLocalError\u001b[0m: local variable 'eggs' referenced before assignment"
          ]
        }
      ]
    },
    {
      "cell_type": "code",
      "metadata": {
        "id": "mI5kQPOMdooX",
        "colab_type": "code",
        "outputId": "1f89af2d-33a8-407b-9166-1594eed44d7d",
        "colab": {
          "base_uri": "https://localhost:8080/",
          "height": 54
        }
      },
      "source": [
        "f= open('/content/py.zen.txt')\n",
        "words = f.read().split()\n",
        "words.sort()\n",
        "print(words)"
      ],
      "execution_count": 0,
      "outputs": [
        {
          "output_type": "stream",
          "text": [
            "['*right*', '--', '--obvious', 'Although', 'Although', 'Although', 'Beautiful', 'Complex', 'Dutch.', 'Errors', 'Explicit', 'Flat', 'If', 'If', 'In', 'Namespaces', 'Now', 'Peters', 'Python,', 'Readability', 'Simple', 'Sparse', 'Special', 'The', 'There', 'Tim', 'Unless', 'Zen', 'a', 'a', 'ambiguity,', 'and', 'are', \"aren't\", 'at', 'bad', 'be', 'be', 'be', 'beats', 'better', 'better', 'better', 'better', 'better', 'better', 'better', 'better', 'break', 'by', 'cases', 'complex.', 'complicated.', 'counts.', 'dense.', 'do', 'do', 'easy', 'enough', 'explain,', 'explain,', 'explicitly', 'face', 'first', 'good', 'great', 'guess.', 'hard', 'honking', 'idea', 'idea.', 'idea.', 'implementation', 'implementation', 'implicit.', 'is', 'is', 'is', 'is', 'is', 'is', 'is', 'is', 'is', 'is', 'it', \"it's\", 'it.', \"let's\", 'may', 'may', 'more', 'nested.', 'never', 'never', 'never.', 'not', 'now.', 'obvious', 'of', 'of', 'of', 'often', 'one', 'one', 'one--', 'only', 'pass', 'practicality', 'preferably', 'purity.', 'refuse', 'rules.', 'should', 'should', 'silenced.', 'silently.', 'special', 'temptation', 'than', 'than', 'than', 'than', 'than', 'than', 'than', 'than', 'that', 'the', 'the', 'the', 'the', 'the', 'those!', 'to', 'to', 'to', 'to', 'to', 'ugly.', 'unless', 'way', 'way', \"you're\"]\n"
          ],
          "name": "stdout"
        }
      ]
    },
    {
      "cell_type": "code",
      "metadata": {
        "id": "Y_cRgaPphBBb",
        "colab_type": "code",
        "outputId": "61f680ec-7733-41b6-db3c-7f5e1297b604",
        "colab": {
          "base_uri": "https://localhost:8080/",
          "height": 34
        }
      },
      "source": [
        "len(words)"
      ],
      "execution_count": 0,
      "outputs": [
        {
          "output_type": "execute_result",
          "data": {
            "text/plain": [
              "144"
            ]
          },
          "metadata": {
            "tags": []
          },
          "execution_count": 30
        }
      ]
    },
    {
      "cell_type": "code",
      "metadata": {
        "id": "VpbDb0JGDPJ_",
        "colab_type": "code",
        "outputId": "b46c24c3-e682-4e6c-9479-7fee5bf6528e",
        "colab": {
          "base_uri": "https://localhost:8080/",
          "height": 54
        }
      },
      "source": [
        "def keyfunc(t):\n",
        "  return t[-1]\n",
        "f= open('/content/py.zen.txt')\n",
        "words = f.read().split()\n",
        "freq={}\n",
        "for word in words:\n",
        "  word=word.lower()\n",
        "  if word in freq:\n",
        "    freq[word]=freq[word]+1\n",
        "  else:\n",
        "    freq[word]=1\n",
        "sorted_words=sorted(freq.items(), key=keyfunc, reverse=True)\n",
        "print(sorted_words)"
      ],
      "execution_count": 0,
      "outputs": [
        {
          "output_type": "stream",
          "text": [
            "[('is', 10), ('better', 8), ('than', 8), ('the', 6), ('to', 5), ('of', 3), ('although', 3), ('be', 3), ('special', 2), ('should', 2), ('never', 2), ('unless', 2), ('one', 2), ('way', 2), ('do', 2), ('may', 2), ('if', 2), ('implementation', 2), ('explain,', 2), ('a', 2), ('idea.', 2), ('zen', 1), ('python,', 1), ('by', 1), ('tim', 1), ('peters', 1), ('beautiful', 1), ('ugly.', 1), ('explicit', 1), ('implicit.', 1), ('simple', 1), ('complex.', 1), ('complex', 1), ('complicated.', 1), ('flat', 1), ('nested.', 1), ('sparse', 1), ('dense.', 1), ('readability', 1), ('counts.', 1), ('cases', 1), (\"aren't\", 1), ('enough', 1), ('break', 1), ('rules.', 1), ('practicality', 1), ('beats', 1), ('purity.', 1), ('errors', 1), ('pass', 1), ('silently.', 1), ('explicitly', 1), ('silenced.', 1), ('in', 1), ('face', 1), ('ambiguity,', 1), ('refuse', 1), ('temptation', 1), ('guess.', 1), ('there', 1), ('one--', 1), ('and', 1), ('preferably', 1), ('only', 1), ('--obvious', 1), ('it.', 1), ('that', 1), ('not', 1), ('obvious', 1), ('at', 1), ('first', 1), (\"you're\", 1), ('dutch.', 1), ('now', 1), ('never.', 1), ('often', 1), ('*right*', 1), ('now.', 1), ('hard', 1), (\"it's\", 1), ('bad', 1), ('easy', 1), ('it', 1), ('good', 1), ('namespaces', 1), ('are', 1), ('honking', 1), ('great', 1), ('idea', 1), ('--', 1), (\"let's\", 1), ('more', 1), ('those!', 1)]\n"
          ],
          "name": "stdout"
        }
      ]
    }
  ]
}