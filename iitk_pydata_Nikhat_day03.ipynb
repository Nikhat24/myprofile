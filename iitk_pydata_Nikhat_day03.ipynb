{
  "nbformat": 4,
  "nbformat_minor": 0,
  "metadata": {
    "colab": {
      "name": "iitk_pydata_Nikhat_day03.ipynb",
      "version": "0.3.2",
      "provenance": [],
      "collapsed_sections": [],
      "machine_shape": "hm",
      "include_colab_link": true
    },
    "kernelspec": {
      "name": "python3",
      "display_name": "Python 3"
    }
  },
  "cells": [
    {
      "cell_type": "markdown",
      "metadata": {
        "id": "view-in-github",
        "colab_type": "text"
      },
      "source": [
        "<a href=\"https://colab.research.google.com/github/Nikhat24/myprofile/blob/master/iitk_pydata_Nikhat_day03.ipynb\" target=\"_parent\"><img src=\"https://colab.research.google.com/assets/colab-badge.svg\" alt=\"Open In Colab\"/></a>"
      ]
    },
    {
      "cell_type": "code",
      "metadata": {
        "id": "vMagsdh4LQcP",
        "colab_type": "code",
        "outputId": "6c48f206-cedc-472d-d95e-f39ca93c8ec9",
        "colab": {
          "base_uri": "https://localhost:8080/",
          "height": 51
        }
      },
      "source": [
        "import numpy as np\n",
        "np_arr= np.arange(1000000000)\n",
        "%time z= np_arr*2"
      ],
      "execution_count": 0,
      "outputs": [
        {
          "output_type": "stream",
          "text": [
            "CPU times: user 1.67 s, sys: 2.11 ms, total: 1.67 s\n",
            "Wall time: 1.67 s\n"
          ],
          "name": "stdout"
        }
      ]
    },
    {
      "cell_type": "code",
      "metadata": {
        "id": "fdwvBr-WSjqw",
        "colab_type": "code",
        "outputId": "9ea5e266-f2f6-4d5a-fd06-19676a74cb2d",
        "colab": {
          "base_uri": "https://localhost:8080/",
          "height": 51
        }
      },
      "source": [
        "%%time \n",
        "for i in y:\n",
        "  i*3"
      ],
      "execution_count": 0,
      "outputs": [
        {
          "output_type": "stream",
          "text": [
            "CPU times: user 13 ms, sys: 58 µs, total: 13.1 ms\n",
            "Wall time: 12.9 ms\n"
          ],
          "name": "stdout"
        }
      ]
    },
    {
      "cell_type": "code",
      "metadata": {
        "id": "aSuNVSYJTQOx",
        "colab_type": "code",
        "outputId": "f9c8085a-8ebd-40ce-aa58-64c383250c79",
        "colab": {
          "base_uri": "https://localhost:8080/",
          "height": 1000
        }
      },
      "source": [
        "[i*2 for i in y]"
      ],
      "execution_count": 0,
      "outputs": [
        {
          "output_type": "execute_result",
          "data": {
            "text/plain": [
              "[0,\n",
              " 2,\n",
              " 4,\n",
              " 6,\n",
              " 8,\n",
              " 10,\n",
              " 12,\n",
              " 14,\n",
              " 16,\n",
              " 18,\n",
              " 20,\n",
              " 22,\n",
              " 24,\n",
              " 26,\n",
              " 28,\n",
              " 30,\n",
              " 32,\n",
              " 34,\n",
              " 36,\n",
              " 38,\n",
              " 40,\n",
              " 42,\n",
              " 44,\n",
              " 46,\n",
              " 48,\n",
              " 50,\n",
              " 52,\n",
              " 54,\n",
              " 56,\n",
              " 58,\n",
              " 60,\n",
              " 62,\n",
              " 64,\n",
              " 66,\n",
              " 68,\n",
              " 70,\n",
              " 72,\n",
              " 74,\n",
              " 76,\n",
              " 78,\n",
              " 80,\n",
              " 82,\n",
              " 84,\n",
              " 86,\n",
              " 88,\n",
              " 90,\n",
              " 92,\n",
              " 94,\n",
              " 96,\n",
              " 98,\n",
              " 100,\n",
              " 102,\n",
              " 104,\n",
              " 106,\n",
              " 108,\n",
              " 110,\n",
              " 112,\n",
              " 114,\n",
              " 116,\n",
              " 118,\n",
              " 120,\n",
              " 122,\n",
              " 124,\n",
              " 126,\n",
              " 128,\n",
              " 130,\n",
              " 132,\n",
              " 134,\n",
              " 136,\n",
              " 138,\n",
              " 140,\n",
              " 142,\n",
              " 144,\n",
              " 146,\n",
              " 148,\n",
              " 150,\n",
              " 152,\n",
              " 154,\n",
              " 156,\n",
              " 158,\n",
              " 160,\n",
              " 162,\n",
              " 164,\n",
              " 166,\n",
              " 168,\n",
              " 170,\n",
              " 172,\n",
              " 174,\n",
              " 176,\n",
              " 178,\n",
              " 180,\n",
              " 182,\n",
              " 184,\n",
              " 186,\n",
              " 188,\n",
              " 190,\n",
              " 192,\n",
              " 194,\n",
              " 196,\n",
              " 198,\n",
              " 200,\n",
              " 202,\n",
              " 204,\n",
              " 206,\n",
              " 208,\n",
              " 210,\n",
              " 212,\n",
              " 214,\n",
              " 216,\n",
              " 218,\n",
              " 220,\n",
              " 222,\n",
              " 224,\n",
              " 226,\n",
              " 228,\n",
              " 230,\n",
              " 232,\n",
              " 234,\n",
              " 236,\n",
              " 238,\n",
              " 240,\n",
              " 242,\n",
              " 244,\n",
              " 246,\n",
              " 248,\n",
              " 250,\n",
              " 252,\n",
              " 254,\n",
              " 256,\n",
              " 258,\n",
              " 260,\n",
              " 262,\n",
              " 264,\n",
              " 266,\n",
              " 268,\n",
              " 270,\n",
              " 272,\n",
              " 274,\n",
              " 276,\n",
              " 278,\n",
              " 280,\n",
              " 282,\n",
              " 284,\n",
              " 286,\n",
              " 288,\n",
              " 290,\n",
              " 292,\n",
              " 294,\n",
              " 296,\n",
              " 298,\n",
              " 300,\n",
              " 302,\n",
              " 304,\n",
              " 306,\n",
              " 308,\n",
              " 310,\n",
              " 312,\n",
              " 314,\n",
              " 316,\n",
              " 318,\n",
              " 320,\n",
              " 322,\n",
              " 324,\n",
              " 326,\n",
              " 328,\n",
              " 330,\n",
              " 332,\n",
              " 334,\n",
              " 336,\n",
              " 338,\n",
              " 340,\n",
              " 342,\n",
              " 344,\n",
              " 346,\n",
              " 348,\n",
              " 350,\n",
              " 352,\n",
              " 354,\n",
              " 356,\n",
              " 358,\n",
              " 360,\n",
              " 362,\n",
              " 364,\n",
              " 366,\n",
              " 368,\n",
              " 370,\n",
              " 372,\n",
              " 374,\n",
              " 376,\n",
              " 378,\n",
              " 380,\n",
              " 382,\n",
              " 384,\n",
              " 386,\n",
              " 388,\n",
              " 390,\n",
              " 392,\n",
              " 394,\n",
              " 396,\n",
              " 398,\n",
              " 400,\n",
              " 402,\n",
              " 404,\n",
              " 406,\n",
              " 408,\n",
              " 410,\n",
              " 412,\n",
              " 414,\n",
              " 416,\n",
              " 418,\n",
              " 420,\n",
              " 422,\n",
              " 424,\n",
              " 426,\n",
              " 428,\n",
              " 430,\n",
              " 432,\n",
              " 434,\n",
              " 436,\n",
              " 438,\n",
              " 440,\n",
              " 442,\n",
              " 444,\n",
              " 446,\n",
              " 448,\n",
              " 450,\n",
              " 452,\n",
              " 454,\n",
              " 456,\n",
              " 458,\n",
              " 460,\n",
              " 462,\n",
              " 464,\n",
              " 466,\n",
              " 468,\n",
              " 470,\n",
              " 472,\n",
              " 474,\n",
              " 476,\n",
              " 478,\n",
              " 480,\n",
              " 482,\n",
              " 484,\n",
              " 486,\n",
              " 488,\n",
              " 490,\n",
              " 492,\n",
              " 494,\n",
              " 496,\n",
              " 498,\n",
              " 500,\n",
              " 502,\n",
              " 504,\n",
              " 506,\n",
              " 508,\n",
              " 510,\n",
              " 512,\n",
              " 514,\n",
              " 516,\n",
              " 518,\n",
              " 520,\n",
              " 522,\n",
              " 524,\n",
              " 526,\n",
              " 528,\n",
              " 530,\n",
              " 532,\n",
              " 534,\n",
              " 536,\n",
              " 538,\n",
              " 540,\n",
              " 542,\n",
              " 544,\n",
              " 546,\n",
              " 548,\n",
              " 550,\n",
              " 552,\n",
              " 554,\n",
              " 556,\n",
              " 558,\n",
              " 560,\n",
              " 562,\n",
              " 564,\n",
              " 566,\n",
              " 568,\n",
              " 570,\n",
              " 572,\n",
              " 574,\n",
              " 576,\n",
              " 578,\n",
              " 580,\n",
              " 582,\n",
              " 584,\n",
              " 586,\n",
              " 588,\n",
              " 590,\n",
              " 592,\n",
              " 594,\n",
              " 596,\n",
              " 598,\n",
              " 600,\n",
              " 602,\n",
              " 604,\n",
              " 606,\n",
              " 608,\n",
              " 610,\n",
              " 612,\n",
              " 614,\n",
              " 616,\n",
              " 618,\n",
              " 620,\n",
              " 622,\n",
              " 624,\n",
              " 626,\n",
              " 628,\n",
              " 630,\n",
              " 632,\n",
              " 634,\n",
              " 636,\n",
              " 638,\n",
              " 640,\n",
              " 642,\n",
              " 644,\n",
              " 646,\n",
              " 648,\n",
              " 650,\n",
              " 652,\n",
              " 654,\n",
              " 656,\n",
              " 658,\n",
              " 660,\n",
              " 662,\n",
              " 664,\n",
              " 666,\n",
              " 668,\n",
              " 670,\n",
              " 672,\n",
              " 674,\n",
              " 676,\n",
              " 678,\n",
              " 680,\n",
              " 682,\n",
              " 684,\n",
              " 686,\n",
              " 688,\n",
              " 690,\n",
              " 692,\n",
              " 694,\n",
              " 696,\n",
              " 698,\n",
              " 700,\n",
              " 702,\n",
              " 704,\n",
              " 706,\n",
              " 708,\n",
              " 710,\n",
              " 712,\n",
              " 714,\n",
              " 716,\n",
              " 718,\n",
              " 720,\n",
              " 722,\n",
              " 724,\n",
              " 726,\n",
              " 728,\n",
              " 730,\n",
              " 732,\n",
              " 734,\n",
              " 736,\n",
              " 738,\n",
              " 740,\n",
              " 742,\n",
              " 744,\n",
              " 746,\n",
              " 748,\n",
              " 750,\n",
              " 752,\n",
              " 754,\n",
              " 756,\n",
              " 758,\n",
              " 760,\n",
              " 762,\n",
              " 764,\n",
              " 766,\n",
              " 768,\n",
              " 770,\n",
              " 772,\n",
              " 774,\n",
              " 776,\n",
              " 778,\n",
              " 780,\n",
              " 782,\n",
              " 784,\n",
              " 786,\n",
              " 788,\n",
              " 790,\n",
              " 792,\n",
              " 794,\n",
              " 796,\n",
              " 798,\n",
              " 800,\n",
              " 802,\n",
              " 804,\n",
              " 806,\n",
              " 808,\n",
              " 810,\n",
              " 812,\n",
              " 814,\n",
              " 816,\n",
              " 818,\n",
              " 820,\n",
              " 822,\n",
              " 824,\n",
              " 826,\n",
              " 828,\n",
              " 830,\n",
              " 832,\n",
              " 834,\n",
              " 836,\n",
              " 838,\n",
              " 840,\n",
              " 842,\n",
              " 844,\n",
              " 846,\n",
              " 848,\n",
              " 850,\n",
              " 852,\n",
              " 854,\n",
              " 856,\n",
              " 858,\n",
              " 860,\n",
              " 862,\n",
              " 864,\n",
              " 866,\n",
              " 868,\n",
              " 870,\n",
              " 872,\n",
              " 874,\n",
              " 876,\n",
              " 878,\n",
              " 880,\n",
              " 882,\n",
              " 884,\n",
              " 886,\n",
              " 888,\n",
              " 890,\n",
              " 892,\n",
              " 894,\n",
              " 896,\n",
              " 898,\n",
              " 900,\n",
              " 902,\n",
              " 904,\n",
              " 906,\n",
              " 908,\n",
              " 910,\n",
              " 912,\n",
              " 914,\n",
              " 916,\n",
              " 918,\n",
              " 920,\n",
              " 922,\n",
              " 924,\n",
              " 926,\n",
              " 928,\n",
              " 930,\n",
              " 932,\n",
              " 934,\n",
              " 936,\n",
              " 938,\n",
              " 940,\n",
              " 942,\n",
              " 944,\n",
              " 946,\n",
              " 948,\n",
              " 950,\n",
              " 952,\n",
              " 954,\n",
              " 956,\n",
              " 958,\n",
              " 960,\n",
              " 962,\n",
              " 964,\n",
              " 966,\n",
              " 968,\n",
              " 970,\n",
              " 972,\n",
              " 974,\n",
              " 976,\n",
              " 978,\n",
              " 980,\n",
              " 982,\n",
              " 984,\n",
              " 986,\n",
              " 988,\n",
              " 990,\n",
              " 992,\n",
              " 994,\n",
              " 996,\n",
              " 998,\n",
              " 1000,\n",
              " 1002,\n",
              " 1004,\n",
              " 1006,\n",
              " 1008,\n",
              " 1010,\n",
              " 1012,\n",
              " 1014,\n",
              " 1016,\n",
              " 1018,\n",
              " 1020,\n",
              " 1022,\n",
              " 1024,\n",
              " 1026,\n",
              " 1028,\n",
              " 1030,\n",
              " 1032,\n",
              " 1034,\n",
              " 1036,\n",
              " 1038,\n",
              " 1040,\n",
              " 1042,\n",
              " 1044,\n",
              " 1046,\n",
              " 1048,\n",
              " 1050,\n",
              " 1052,\n",
              " 1054,\n",
              " 1056,\n",
              " 1058,\n",
              " 1060,\n",
              " 1062,\n",
              " 1064,\n",
              " 1066,\n",
              " 1068,\n",
              " 1070,\n",
              " 1072,\n",
              " 1074,\n",
              " 1076,\n",
              " 1078,\n",
              " 1080,\n",
              " 1082,\n",
              " 1084,\n",
              " 1086,\n",
              " 1088,\n",
              " 1090,\n",
              " 1092,\n",
              " 1094,\n",
              " 1096,\n",
              " 1098,\n",
              " 1100,\n",
              " 1102,\n",
              " 1104,\n",
              " 1106,\n",
              " 1108,\n",
              " 1110,\n",
              " 1112,\n",
              " 1114,\n",
              " 1116,\n",
              " 1118,\n",
              " 1120,\n",
              " 1122,\n",
              " 1124,\n",
              " 1126,\n",
              " 1128,\n",
              " 1130,\n",
              " 1132,\n",
              " 1134,\n",
              " 1136,\n",
              " 1138,\n",
              " 1140,\n",
              " 1142,\n",
              " 1144,\n",
              " 1146,\n",
              " 1148,\n",
              " 1150,\n",
              " 1152,\n",
              " 1154,\n",
              " 1156,\n",
              " 1158,\n",
              " 1160,\n",
              " 1162,\n",
              " 1164,\n",
              " 1166,\n",
              " 1168,\n",
              " 1170,\n",
              " 1172,\n",
              " 1174,\n",
              " 1176,\n",
              " 1178,\n",
              " 1180,\n",
              " 1182,\n",
              " 1184,\n",
              " 1186,\n",
              " 1188,\n",
              " 1190,\n",
              " 1192,\n",
              " 1194,\n",
              " 1196,\n",
              " 1198,\n",
              " 1200,\n",
              " 1202,\n",
              " 1204,\n",
              " 1206,\n",
              " 1208,\n",
              " 1210,\n",
              " 1212,\n",
              " 1214,\n",
              " 1216,\n",
              " 1218,\n",
              " 1220,\n",
              " 1222,\n",
              " 1224,\n",
              " 1226,\n",
              " 1228,\n",
              " 1230,\n",
              " 1232,\n",
              " 1234,\n",
              " 1236,\n",
              " 1238,\n",
              " 1240,\n",
              " 1242,\n",
              " 1244,\n",
              " 1246,\n",
              " 1248,\n",
              " 1250,\n",
              " 1252,\n",
              " 1254,\n",
              " 1256,\n",
              " 1258,\n",
              " 1260,\n",
              " 1262,\n",
              " 1264,\n",
              " 1266,\n",
              " 1268,\n",
              " 1270,\n",
              " 1272,\n",
              " 1274,\n",
              " 1276,\n",
              " 1278,\n",
              " 1280,\n",
              " 1282,\n",
              " 1284,\n",
              " 1286,\n",
              " 1288,\n",
              " 1290,\n",
              " 1292,\n",
              " 1294,\n",
              " 1296,\n",
              " 1298,\n",
              " 1300,\n",
              " 1302,\n",
              " 1304,\n",
              " 1306,\n",
              " 1308,\n",
              " 1310,\n",
              " 1312,\n",
              " 1314,\n",
              " 1316,\n",
              " 1318,\n",
              " 1320,\n",
              " 1322,\n",
              " 1324,\n",
              " 1326,\n",
              " 1328,\n",
              " 1330,\n",
              " 1332,\n",
              " 1334,\n",
              " 1336,\n",
              " 1338,\n",
              " 1340,\n",
              " 1342,\n",
              " 1344,\n",
              " 1346,\n",
              " 1348,\n",
              " 1350,\n",
              " 1352,\n",
              " 1354,\n",
              " 1356,\n",
              " 1358,\n",
              " 1360,\n",
              " 1362,\n",
              " 1364,\n",
              " 1366,\n",
              " 1368,\n",
              " 1370,\n",
              " 1372,\n",
              " 1374,\n",
              " 1376,\n",
              " 1378,\n",
              " 1380,\n",
              " 1382,\n",
              " 1384,\n",
              " 1386,\n",
              " 1388,\n",
              " 1390,\n",
              " 1392,\n",
              " 1394,\n",
              " 1396,\n",
              " 1398,\n",
              " 1400,\n",
              " 1402,\n",
              " 1404,\n",
              " 1406,\n",
              " 1408,\n",
              " 1410,\n",
              " 1412,\n",
              " 1414,\n",
              " 1416,\n",
              " 1418,\n",
              " 1420,\n",
              " 1422,\n",
              " 1424,\n",
              " 1426,\n",
              " 1428,\n",
              " 1430,\n",
              " 1432,\n",
              " 1434,\n",
              " 1436,\n",
              " 1438,\n",
              " 1440,\n",
              " 1442,\n",
              " 1444,\n",
              " 1446,\n",
              " 1448,\n",
              " 1450,\n",
              " 1452,\n",
              " 1454,\n",
              " 1456,\n",
              " 1458,\n",
              " 1460,\n",
              " 1462,\n",
              " 1464,\n",
              " 1466,\n",
              " 1468,\n",
              " 1470,\n",
              " 1472,\n",
              " 1474,\n",
              " 1476,\n",
              " 1478,\n",
              " 1480,\n",
              " 1482,\n",
              " 1484,\n",
              " 1486,\n",
              " 1488,\n",
              " 1490,\n",
              " 1492,\n",
              " 1494,\n",
              " 1496,\n",
              " 1498,\n",
              " 1500,\n",
              " 1502,\n",
              " 1504,\n",
              " 1506,\n",
              " 1508,\n",
              " 1510,\n",
              " 1512,\n",
              " 1514,\n",
              " 1516,\n",
              " 1518,\n",
              " 1520,\n",
              " 1522,\n",
              " 1524,\n",
              " 1526,\n",
              " 1528,\n",
              " 1530,\n",
              " 1532,\n",
              " 1534,\n",
              " 1536,\n",
              " 1538,\n",
              " 1540,\n",
              " 1542,\n",
              " 1544,\n",
              " 1546,\n",
              " 1548,\n",
              " 1550,\n",
              " 1552,\n",
              " 1554,\n",
              " 1556,\n",
              " 1558,\n",
              " 1560,\n",
              " 1562,\n",
              " 1564,\n",
              " 1566,\n",
              " 1568,\n",
              " 1570,\n",
              " 1572,\n",
              " 1574,\n",
              " 1576,\n",
              " 1578,\n",
              " 1580,\n",
              " 1582,\n",
              " 1584,\n",
              " 1586,\n",
              " 1588,\n",
              " 1590,\n",
              " 1592,\n",
              " 1594,\n",
              " 1596,\n",
              " 1598,\n",
              " 1600,\n",
              " 1602,\n",
              " 1604,\n",
              " 1606,\n",
              " 1608,\n",
              " 1610,\n",
              " 1612,\n",
              " 1614,\n",
              " 1616,\n",
              " 1618,\n",
              " 1620,\n",
              " 1622,\n",
              " 1624,\n",
              " 1626,\n",
              " 1628,\n",
              " 1630,\n",
              " 1632,\n",
              " 1634,\n",
              " 1636,\n",
              " 1638,\n",
              " 1640,\n",
              " 1642,\n",
              " 1644,\n",
              " 1646,\n",
              " 1648,\n",
              " 1650,\n",
              " 1652,\n",
              " 1654,\n",
              " 1656,\n",
              " 1658,\n",
              " 1660,\n",
              " 1662,\n",
              " 1664,\n",
              " 1666,\n",
              " 1668,\n",
              " 1670,\n",
              " 1672,\n",
              " 1674,\n",
              " 1676,\n",
              " 1678,\n",
              " 1680,\n",
              " 1682,\n",
              " 1684,\n",
              " 1686,\n",
              " 1688,\n",
              " 1690,\n",
              " 1692,\n",
              " 1694,\n",
              " 1696,\n",
              " 1698,\n",
              " 1700,\n",
              " 1702,\n",
              " 1704,\n",
              " 1706,\n",
              " 1708,\n",
              " 1710,\n",
              " 1712,\n",
              " 1714,\n",
              " 1716,\n",
              " 1718,\n",
              " 1720,\n",
              " 1722,\n",
              " 1724,\n",
              " 1726,\n",
              " 1728,\n",
              " 1730,\n",
              " 1732,\n",
              " 1734,\n",
              " 1736,\n",
              " 1738,\n",
              " 1740,\n",
              " 1742,\n",
              " 1744,\n",
              " 1746,\n",
              " 1748,\n",
              " 1750,\n",
              " 1752,\n",
              " 1754,\n",
              " 1756,\n",
              " 1758,\n",
              " 1760,\n",
              " 1762,\n",
              " 1764,\n",
              " 1766,\n",
              " 1768,\n",
              " 1770,\n",
              " 1772,\n",
              " 1774,\n",
              " 1776,\n",
              " 1778,\n",
              " 1780,\n",
              " 1782,\n",
              " 1784,\n",
              " 1786,\n",
              " 1788,\n",
              " 1790,\n",
              " 1792,\n",
              " 1794,\n",
              " 1796,\n",
              " 1798,\n",
              " 1800,\n",
              " 1802,\n",
              " 1804,\n",
              " 1806,\n",
              " 1808,\n",
              " 1810,\n",
              " 1812,\n",
              " 1814,\n",
              " 1816,\n",
              " 1818,\n",
              " 1820,\n",
              " 1822,\n",
              " 1824,\n",
              " 1826,\n",
              " 1828,\n",
              " 1830,\n",
              " 1832,\n",
              " 1834,\n",
              " 1836,\n",
              " 1838,\n",
              " 1840,\n",
              " 1842,\n",
              " 1844,\n",
              " 1846,\n",
              " 1848,\n",
              " 1850,\n",
              " 1852,\n",
              " 1854,\n",
              " 1856,\n",
              " 1858,\n",
              " 1860,\n",
              " 1862,\n",
              " 1864,\n",
              " 1866,\n",
              " 1868,\n",
              " 1870,\n",
              " 1872,\n",
              " 1874,\n",
              " 1876,\n",
              " 1878,\n",
              " 1880,\n",
              " 1882,\n",
              " 1884,\n",
              " 1886,\n",
              " 1888,\n",
              " 1890,\n",
              " 1892,\n",
              " 1894,\n",
              " 1896,\n",
              " 1898,\n",
              " 1900,\n",
              " 1902,\n",
              " 1904,\n",
              " 1906,\n",
              " 1908,\n",
              " 1910,\n",
              " 1912,\n",
              " 1914,\n",
              " 1916,\n",
              " 1918,\n",
              " 1920,\n",
              " 1922,\n",
              " 1924,\n",
              " 1926,\n",
              " 1928,\n",
              " 1930,\n",
              " 1932,\n",
              " 1934,\n",
              " 1936,\n",
              " 1938,\n",
              " 1940,\n",
              " 1942,\n",
              " 1944,\n",
              " 1946,\n",
              " 1948,\n",
              " 1950,\n",
              " 1952,\n",
              " 1954,\n",
              " 1956,\n",
              " 1958,\n",
              " 1960,\n",
              " 1962,\n",
              " 1964,\n",
              " 1966,\n",
              " 1968,\n",
              " 1970,\n",
              " 1972,\n",
              " 1974,\n",
              " 1976,\n",
              " 1978,\n",
              " 1980,\n",
              " 1982,\n",
              " 1984,\n",
              " 1986,\n",
              " 1988,\n",
              " 1990,\n",
              " 1992,\n",
              " 1994,\n",
              " 1996,\n",
              " 1998,\n",
              " ...]"
            ]
          },
          "metadata": {
            "tags": []
          },
          "execution_count": 10
        }
      ]
    },
    {
      "cell_type": "code",
      "metadata": {
        "id": "KBnf_FRTUk7j",
        "colab_type": "code",
        "outputId": "56610a14-e494-4c7d-aff6-6181d8029037",
        "colab": {
          "base_uri": "https://localhost:8080/",
          "height": 68
        }
      },
      "source": [
        "z=np.random.randn(3,3)    \n",
        "z"
      ],
      "execution_count": 0,
      "outputs": [
        {
          "output_type": "execute_result",
          "data": {
            "text/plain": [
              "array([[-0.83763217,  0.92863988,  0.55572932],\n",
              "       [ 1.1808999 , -0.23254816, -1.86970586],\n",
              "       [ 0.25564005, -0.75631628,  1.18035843]])"
            ]
          },
          "metadata": {
            "tags": []
          },
          "execution_count": 16
        }
      ]
    },
    {
      "cell_type": "code",
      "metadata": {
        "id": "8Umq-_uyVIIF",
        "colab_type": "code",
        "outputId": "a0a25f2b-4aa8-47ae-99ec-06e541202b90",
        "colab": {
          "base_uri": "https://localhost:8080/",
          "height": 34
        }
      },
      "source": [
        "z.ndim     #no of dimensions"
      ],
      "execution_count": 0,
      "outputs": [
        {
          "output_type": "execute_result",
          "data": {
            "text/plain": [
              "2"
            ]
          },
          "metadata": {
            "tags": []
          },
          "execution_count": 24
        }
      ]
    },
    {
      "cell_type": "code",
      "metadata": {
        "id": "_O2-tPUZWFkV",
        "colab_type": "code",
        "outputId": "245783da-554d-4f52-bc01-c927d4883cce",
        "colab": {
          "base_uri": "https://localhost:8080/",
          "height": 34
        }
      },
      "source": [
        "z.shape   #size of each dimensions"
      ],
      "execution_count": 0,
      "outputs": [
        {
          "output_type": "execute_result",
          "data": {
            "text/plain": [
              "(3, 3)"
            ]
          },
          "metadata": {
            "tags": []
          },
          "execution_count": 23
        }
      ]
    },
    {
      "cell_type": "code",
      "metadata": {
        "id": "Ek3dmoVuVVaB",
        "colab_type": "code",
        "outputId": "f5e68c36-968b-49d4-da12-a515d7bb8d1c",
        "colab": {
          "base_uri": "https://localhost:8080/",
          "height": 34
        }
      },
      "source": [
        "z.dtype    #data type of each value"
      ],
      "execution_count": 0,
      "outputs": [
        {
          "output_type": "execute_result",
          "data": {
            "text/plain": [
              "dtype('float64')"
            ]
          },
          "metadata": {
            "tags": []
          },
          "execution_count": 22
        }
      ]
    },
    {
      "cell_type": "code",
      "metadata": {
        "id": "YFBJsjOJWBbV",
        "colab_type": "code",
        "outputId": "c48a76aa-6e51-410c-e080-1ba003314a35",
        "colab": {
          "base_uri": "https://localhost:8080/",
          "height": 51
        }
      },
      "source": [
        "x=np.random.randn(2,4)    #to print a matrix of 2X4 with random values\n",
        "x\n"
      ],
      "execution_count": 0,
      "outputs": [
        {
          "output_type": "execute_result",
          "data": {
            "text/plain": [
              "array([[ 0.39733398, -1.30639707, -0.0634597 ,  0.25563042],\n",
              "       [-0.2801648 ,  0.89688422,  1.47663944, -1.28845949]])"
            ]
          },
          "metadata": {
            "tags": []
          },
          "execution_count": 30
        }
      ]
    },
    {
      "cell_type": "code",
      "metadata": {
        "id": "YiPEqBivXCgh",
        "colab_type": "code",
        "outputId": "5b20f3d8-0eea-4429-da55-3f9c4d811c3f",
        "colab": {
          "base_uri": "https://localhost:8080/",
          "height": 51
        }
      },
      "source": [
        "np.ones(((2,3)), dtype=np.int16)    #to print a matrix of 2X4 with 1s"
      ],
      "execution_count": 0,
      "outputs": [
        {
          "output_type": "execute_result",
          "data": {
            "text/plain": [
              "array([[1, 1, 1],\n",
              "       [1, 1, 1]], dtype=int16)"
            ]
          },
          "metadata": {
            "tags": []
          },
          "execution_count": 39
        }
      ]
    },
    {
      "cell_type": "code",
      "metadata": {
        "id": "Htdd_dHaYLbQ",
        "colab_type": "code",
        "outputId": "da4b9e66-4c7e-4094-8b56-321a9ad20b3b",
        "colab": {
          "base_uri": "https://localhost:8080/",
          "height": 68
        }
      },
      "source": [
        "z= np.random.randn(3,4)\n",
        "np.ones(z.shape)"
      ],
      "execution_count": 0,
      "outputs": [
        {
          "output_type": "execute_result",
          "data": {
            "text/plain": [
              "array([[1., 1., 1., 1.],\n",
              "       [1., 1., 1., 1.],\n",
              "       [1., 1., 1., 1.]])"
            ]
          },
          "metadata": {
            "tags": []
          },
          "execution_count": 46
        }
      ]
    },
    {
      "cell_type": "code",
      "metadata": {
        "id": "7SRj8Y1dZHZI",
        "colab_type": "code",
        "outputId": "c5ac3004-4b5d-488e-921b-ba899374f48d",
        "colab": {
          "base_uri": "https://localhost:8080/",
          "height": 51
        }
      },
      "source": [
        "z= np.random.randint(0,2,(2,4))       #to print matrix od 2X4 having 0 n 1 in randomn manner\n",
        "z"
      ],
      "execution_count": 0,
      "outputs": [
        {
          "output_type": "execute_result",
          "data": {
            "text/plain": [
              "array([[0, 1, 1, 0],\n",
              "       [1, 0, 0, 1]])"
            ]
          },
          "metadata": {
            "tags": []
          },
          "execution_count": 79
        }
      ]
    },
    {
      "cell_type": "code",
      "metadata": {
        "id": "89qvm4waZqmO",
        "colab_type": "code",
        "outputId": "ad5b9d6d-3577-4b8d-be29-eb7b592e0603",
        "colab": {
          "base_uri": "https://localhost:8080/",
          "height": 51
        }
      },
      "source": [
        "np.random.seed(2)           #to print psuedo-random number in a matrix of 2X5(it will print the same set of values everytime)\n",
        "z= np.random.randn(2,5)\n",
        "z"
      ],
      "execution_count": 0,
      "outputs": [
        {
          "output_type": "execute_result",
          "data": {
            "text/plain": [
              "array([[-0.41675785, -0.05626683, -2.1361961 ,  1.64027081, -1.79343559],\n",
              "       [-0.84174737,  0.50288142, -1.24528809, -1.05795222, -0.90900761]])"
            ]
          },
          "metadata": {
            "tags": []
          },
          "execution_count": 57
        }
      ]
    },
    {
      "cell_type": "code",
      "metadata": {
        "id": "Dsi96oWGavi9",
        "colab_type": "code",
        "outputId": "454f6dac-2742-4086-f1e1-7b1dff0f9d18",
        "colab": {
          "base_uri": "https://localhost:8080/",
          "height": 34
        }
      },
      "source": [
        "arr= np.array([1,2,4])\n",
        "z= arr.astype(np.float32)\n",
        "z"
      ],
      "execution_count": 0,
      "outputs": [
        {
          "output_type": "execute_result",
          "data": {
            "text/plain": [
              "array([1., 2., 4.], dtype=float32)"
            ]
          },
          "metadata": {
            "tags": []
          },
          "execution_count": 60
        }
      ]
    },
    {
      "cell_type": "code",
      "metadata": {
        "id": "uBTAb3EVbKZN",
        "colab_type": "code",
        "outputId": "2abb482c-e2e3-4782-d0f1-7200e85aae6c",
        "colab": {
          "base_uri": "https://localhost:8080/",
          "height": 85
        }
      },
      "source": [
        "a= np.random.randint(0,6, (4,4))\n",
        "b= np.random.randint(0,5, (4,4))\n",
        "a"
      ],
      "execution_count": 0,
      "outputs": [
        {
          "output_type": "execute_result",
          "data": {
            "text/plain": [
              "array([[3, 4, 3, 3],\n",
              "       [1, 4, 2, 3],\n",
              "       [0, 0, 2, 5],\n",
              "       [4, 4, 3, 2]])"
            ]
          },
          "metadata": {
            "tags": []
          },
          "execution_count": 70
        }
      ]
    },
    {
      "cell_type": "code",
      "metadata": {
        "id": "pFu6e3YabqUr",
        "colab_type": "code",
        "outputId": "c27656fb-8d9c-4ea0-fcdd-b21059cd32f0",
        "colab": {
          "base_uri": "https://localhost:8080/",
          "height": 85
        }
      },
      "source": [
        "b"
      ],
      "execution_count": 0,
      "outputs": [
        {
          "output_type": "execute_result",
          "data": {
            "text/plain": [
              "array([[1, 1, 1, 2],\n",
              "       [1, 3, 0, 1],\n",
              "       [0, 4, 3, 1],\n",
              "       [3, 0, 0, 3]])"
            ]
          },
          "metadata": {
            "tags": []
          },
          "execution_count": 71
        }
      ]
    },
    {
      "cell_type": "code",
      "metadata": {
        "id": "kIcCZiOobuGX",
        "colab_type": "code",
        "outputId": "5b903122-d4b3-4af5-a4b3-518e1a4b5077",
        "colab": {
          "base_uri": "https://localhost:8080/",
          "height": 85
        }
      },
      "source": [
        "a*10"
      ],
      "execution_count": 0,
      "outputs": [
        {
          "output_type": "execute_result",
          "data": {
            "text/plain": [
              "array([[30, 40, 30, 30],\n",
              "       [10, 40, 20, 30],\n",
              "       [ 0,  0, 20, 50],\n",
              "       [40, 40, 30, 20]])"
            ]
          },
          "metadata": {
            "tags": []
          },
          "execution_count": 72
        }
      ]
    },
    {
      "cell_type": "code",
      "metadata": {
        "id": "Ztr2wWZHbzpH",
        "colab_type": "code",
        "outputId": "e45c27af-6e8f-4b10-c70f-6ece4a5ecd20",
        "colab": {
          "base_uri": "https://localhost:8080/",
          "height": 85
        }
      },
      "source": [
        "np.dot(a,b)"
      ],
      "execution_count": 0,
      "outputs": [
        {
          "output_type": "execute_result",
          "data": {
            "text/plain": [
              "array([[16, 27, 12, 22],\n",
              "       [14, 21,  7, 17],\n",
              "       [15,  8,  6, 17],\n",
              "       [14, 28, 13, 21]])"
            ]
          },
          "metadata": {
            "tags": []
          },
          "execution_count": 74
        }
      ]
    },
    {
      "cell_type": "code",
      "metadata": {
        "id": "J-XT0WnNcS_G",
        "colab_type": "code",
        "outputId": "c6ce5173-e0c8-45dc-da98-a5fe919b5cab",
        "colab": {
          "base_uri": "https://localhost:8080/",
          "height": 85
        }
      },
      "source": [
        "a"
      ],
      "execution_count": 0,
      "outputs": [
        {
          "output_type": "execute_result",
          "data": {
            "text/plain": [
              "array([[3, 4, 3, 3],\n",
              "       [1, 4, 2, 3],\n",
              "       [0, 0, 2, 5],\n",
              "       [4, 4, 3, 2]])"
            ]
          },
          "metadata": {
            "tags": []
          },
          "execution_count": 76
        }
      ]
    },
    {
      "cell_type": "code",
      "metadata": {
        "id": "8hs_vUMAcV06",
        "colab_type": "code",
        "outputId": "339ebbfd-a0e6-434a-ca33-b8d7fb83f2b8",
        "colab": {
          "base_uri": "https://localhost:8080/",
          "height": 85
        }
      },
      "source": [
        "b"
      ],
      "execution_count": 0,
      "outputs": [
        {
          "output_type": "execute_result",
          "data": {
            "text/plain": [
              "array([[1, 1, 1, 2],\n",
              "       [1, 3, 0, 1],\n",
              "       [0, 4, 3, 1],\n",
              "       [3, 0, 0, 3]])"
            ]
          },
          "metadata": {
            "tags": []
          },
          "execution_count": 80
        }
      ]
    },
    {
      "cell_type": "code",
      "metadata": {
        "id": "kKwCaMC-civR",
        "colab_type": "code",
        "outputId": "ee195827-10b5-4d34-f4f7-4e234450c4d6",
        "colab": {
          "base_uri": "https://localhost:8080/",
          "height": 34
        }
      },
      "source": [
        "np.linalg.det(a)"
      ],
      "execution_count": 0,
      "outputs": [
        {
          "output_type": "execute_result",
          "data": {
            "text/plain": [
              "4.000000000000008"
            ]
          },
          "metadata": {
            "tags": []
          },
          "execution_count": 82
        }
      ]
    },
    {
      "cell_type": "code",
      "metadata": {
        "id": "MCEtAcUicrLu",
        "colab_type": "code",
        "outputId": "c59e1d0c-8997-45e4-dd2c-e9d5379ead03",
        "colab": {
          "base_uri": "https://localhost:8080/",
          "height": 85
        }
      },
      "source": [
        "a/3"
      ],
      "execution_count": 0,
      "outputs": [
        {
          "output_type": "execute_result",
          "data": {
            "text/plain": [
              "array([[1.        , 1.33333333, 1.        , 1.        ],\n",
              "       [0.33333333, 1.33333333, 0.66666667, 1.        ],\n",
              "       [0.        , 0.        , 0.66666667, 1.66666667],\n",
              "       [1.33333333, 1.33333333, 1.        , 0.66666667]])"
            ]
          },
          "metadata": {
            "tags": []
          },
          "execution_count": 84
        }
      ]
    },
    {
      "cell_type": "code",
      "metadata": {
        "id": "lp4H4kiZcvsC",
        "colab_type": "code",
        "outputId": "ba25a400-aa4a-4dde-e22c-94110a24ed56",
        "colab": {
          "base_uri": "https://localhost:8080/",
          "height": 85
        }
      },
      "source": [
        "a>2           #elementwise comparison"
      ],
      "execution_count": 0,
      "outputs": [
        {
          "output_type": "execute_result",
          "data": {
            "text/plain": [
              "array([[ True,  True,  True,  True],\n",
              "       [False,  True, False,  True],\n",
              "       [False, False, False,  True],\n",
              "       [ True,  True,  True, False]])"
            ]
          },
          "metadata": {
            "tags": []
          },
          "execution_count": 85
        }
      ]
    },
    {
      "cell_type": "code",
      "metadata": {
        "id": "pCLH_q8pc-Lt",
        "colab_type": "code",
        "outputId": "30acc263-171f-4ea6-dbf1-8c8499ef30e4",
        "colab": {
          "base_uri": "https://localhost:8080/",
          "height": 51
        }
      },
      "source": [
        "z= np.arange(15) \n",
        "z[2:4]= 100   #it will print 100 in 2 n 3 rest all random\n",
        "z"
      ],
      "execution_count": 0,
      "outputs": [
        {
          "output_type": "execute_result",
          "data": {
            "text/plain": [
              "array([  0,   1, 100, 100,   4,   5,   6,   7,   8,   9,  10,  11,  12,\n",
              "        13,  14])"
            ]
          },
          "metadata": {
            "tags": []
          },
          "execution_count": 87
        }
      ]
    },
    {
      "cell_type": "code",
      "metadata": {
        "id": "hdXvxkm3dUP6",
        "colab_type": "code",
        "outputId": "91ba608c-8c1f-4b6e-fe67-e7bf5f42415a",
        "colab": {
          "base_uri": "https://localhost:8080/",
          "height": 153
        }
      },
      "source": [
        "z[:]=300000      #print all values as 3000\n",
        "z"
      ],
      "execution_count": 0,
      "outputs": [
        {
          "output_type": "execute_result",
          "data": {
            "text/plain": [
              "array([[300000., 300000., 300000., 300000.],\n",
              "       [300000., 300000., 300000., 300000.],\n",
              "       [300000., 300000., 300000., 300000.],\n",
              "       [300000., 300000., 300000., 300000.],\n",
              "       [300000., 300000., 300000., 300000.],\n",
              "       [300000., 300000., 300000., 300000.],\n",
              "       [300000., 300000., 300000., 300000.],\n",
              "       [300000., 300000., 300000., 300000.]])"
            ]
          },
          "metadata": {
            "tags": []
          },
          "execution_count": 284
        }
      ]
    },
    {
      "cell_type": "code",
      "metadata": {
        "id": "bdGAixJVdhQ0",
        "colab_type": "code",
        "outputId": "c369bdc3-289d-432e-8551-ddc0bfcbdee7",
        "colab": {
          "base_uri": "https://localhost:8080/",
          "height": 51
        }
      },
      "source": [
        "z= np.arange(20)\n",
        "y= z.copy()\n",
        "z[:]= 1\n",
        "z\n",
        "y       #assign value of z to y and then changes all value of z to 1 and y remains teh old z"
      ],
      "execution_count": 0,
      "outputs": [
        {
          "output_type": "execute_result",
          "data": {
            "text/plain": [
              "array([ 0,  1,  2,  3,  4,  5,  6,  7,  8,  9, 10, 11, 12, 13, 14, 15, 16,\n",
              "       17, 18, 19])"
            ]
          },
          "metadata": {
            "tags": []
          },
          "execution_count": 96
        }
      ]
    },
    {
      "cell_type": "code",
      "metadata": {
        "id": "XMtpbKU5eAIT",
        "colab_type": "code",
        "outputId": "6bdda864-8b82-45d4-f7e3-bec77b58e246",
        "colab": {
          "base_uri": "https://localhost:8080/",
          "height": 51
        }
      },
      "source": [
        "w=y[0:20].copy()\n",
        "w"
      ],
      "execution_count": 0,
      "outputs": [
        {
          "output_type": "execute_result",
          "data": {
            "text/plain": [
              "array([ 0,  1,  2,  3,  4,  5,  6,  7,  8,  9, 10, 11, 12, 13, 14, 15, 16,\n",
              "       17, 18, 19])"
            ]
          },
          "metadata": {
            "tags": []
          },
          "execution_count": 101
        }
      ]
    },
    {
      "cell_type": "code",
      "metadata": {
        "id": "4pgObb8tfGmo",
        "colab_type": "code",
        "outputId": "8b5235e8-25d4-4413-af41-079ec378e569",
        "colab": {
          "base_uri": "https://localhost:8080/",
          "height": 85
        }
      },
      "source": [
        "a"
      ],
      "execution_count": 0,
      "outputs": [
        {
          "output_type": "execute_result",
          "data": {
            "text/plain": [
              "array([[3, 4, 3, 3],\n",
              "       [1, 4, 2, 3],\n",
              "       [0, 0, 2, 5],\n",
              "       [4, 4, 3, 2]])"
            ]
          },
          "metadata": {
            "tags": []
          },
          "execution_count": 110
        }
      ]
    },
    {
      "cell_type": "code",
      "metadata": {
        "id": "n1njuw2Kf6FN",
        "colab_type": "code",
        "outputId": "e7896cd7-a44b-4dd2-dc74-724b25ece9c8",
        "colab": {
          "base_uri": "https://localhost:8080/",
          "height": 51
        }
      },
      "source": [
        "a[:2,1:]      #print row 1 and all column apart from 1"
      ],
      "execution_count": 0,
      "outputs": [
        {
          "output_type": "execute_result",
          "data": {
            "text/plain": [
              "array([[4, 3, 3],\n",
              "       [4, 2, 3]])"
            ]
          },
          "metadata": {
            "tags": []
          },
          "execution_count": 113
        }
      ]
    },
    {
      "cell_type": "code",
      "metadata": {
        "id": "lQ0t5Bt5gMm3",
        "colab_type": "code",
        "outputId": "8d85d694-9632-43d5-c04d-376c534dffae",
        "colab": {
          "base_uri": "https://localhost:8080/",
          "height": 34
        }
      },
      "source": [
        "a[2]"
      ],
      "execution_count": 0,
      "outputs": [
        {
          "output_type": "execute_result",
          "data": {
            "text/plain": [
              "array([0, 0, 2, 5])"
            ]
          },
          "metadata": {
            "tags": []
          },
          "execution_count": 115
        }
      ]
    },
    {
      "cell_type": "code",
      "metadata": {
        "id": "OWhx8J1RlX6n",
        "colab_type": "code",
        "outputId": "8ac0104b-1274-4a16-b530-3c3351467961",
        "colab": {
          "base_uri": "https://localhost:8080/",
          "height": 85
        }
      },
      "source": [
        "a[::-1]"
      ],
      "execution_count": 0,
      "outputs": [
        {
          "output_type": "execute_result",
          "data": {
            "text/plain": [
              "array([[4, 4, 3, 2],\n",
              "       [0, 0, 2, 5],\n",
              "       [1, 4, 2, 3],\n",
              "       [3, 4, 3, 3]])"
            ]
          },
          "metadata": {
            "tags": []
          },
          "execution_count": 117
        }
      ]
    },
    {
      "cell_type": "code",
      "metadata": {
        "id": "kNkNpIG4lgi-",
        "colab_type": "code",
        "outputId": "43a5275f-b6df-4acb-c898-8bb762d20cac",
        "colab": {
          "base_uri": "https://localhost:8080/",
          "height": 119
        }
      },
      "source": [
        "q= np.arange(100)      #to print array of fist 100 numbers in serial order\n",
        "q"
      ],
      "execution_count": 0,
      "outputs": [
        {
          "output_type": "execute_result",
          "data": {
            "text/plain": [
              "array([ 0,  1,  2,  3,  4,  5,  6,  7,  8,  9, 10, 11, 12, 13, 14, 15, 16,\n",
              "       17, 18, 19, 20, 21, 22, 23, 24, 25, 26, 27, 28, 29, 30, 31, 32, 33,\n",
              "       34, 35, 36, 37, 38, 39, 40, 41, 42, 43, 44, 45, 46, 47, 48, 49, 50,\n",
              "       51, 52, 53, 54, 55, 56, 57, 58, 59, 60, 61, 62, 63, 64, 65, 66, 67,\n",
              "       68, 69, 70, 71, 72, 73, 74, 75, 76, 77, 78, 79, 80, 81, 82, 83, 84,\n",
              "       85, 86, 87, 88, 89, 90, 91, 92, 93, 94, 95, 96, 97, 98, 99])"
            ]
          },
          "metadata": {
            "tags": []
          },
          "execution_count": 124
        }
      ]
    },
    {
      "cell_type": "code",
      "metadata": {
        "id": "nlQM-1xemVJ3",
        "colab_type": "code",
        "outputId": "cac8d328-0039-411f-8a79-227c1ec3203a",
        "colab": {
          "base_uri": "https://localhost:8080/",
          "height": 119
        }
      },
      "source": [
        "q[::-1]       #reverse of q"
      ],
      "execution_count": 0,
      "outputs": [
        {
          "output_type": "execute_result",
          "data": {
            "text/plain": [
              "array([99, 98, 97, 96, 95, 94, 93, 92, 91, 90, 89, 88, 87, 86, 85, 84, 83,\n",
              "       82, 81, 80, 79, 78, 77, 76, 75, 74, 73, 72, 71, 70, 69, 68, 67, 66,\n",
              "       65, 64, 63, 62, 61, 60, 59, 58, 57, 56, 55, 54, 53, 52, 51, 50, 49,\n",
              "       48, 47, 46, 45, 44, 43, 42, 41, 40, 39, 38, 37, 36, 35, 34, 33, 32,\n",
              "       31, 30, 29, 28, 27, 26, 25, 24, 23, 22, 21, 20, 19, 18, 17, 16, 15,\n",
              "       14, 13, 12, 11, 10,  9,  8,  7,  6,  5,  4,  3,  2,  1,  0])"
            ]
          },
          "metadata": {
            "tags": []
          },
          "execution_count": 126
        }
      ]
    },
    {
      "cell_type": "code",
      "metadata": {
        "id": "Ppt77Qqdmd1p",
        "colab_type": "code",
        "outputId": "f83a79d3-0310-4096-cbd8-1dea1101bfb7",
        "colab": {
          "base_uri": "https://localhost:8080/",
          "height": 153
        }
      },
      "source": [
        "z= np.random.rand(8,4)\n",
        "z"
      ],
      "execution_count": 0,
      "outputs": [
        {
          "output_type": "execute_result",
          "data": {
            "text/plain": [
              "array([[0.66809934, 0.50300677, 0.37800241, 0.33736829],\n",
              "       [0.95201071, 0.69333383, 0.5341017 , 0.0434897 ],\n",
              "       [0.24755088, 0.94317072, 0.55686017, 0.35751823],\n",
              "       [0.00945037, 0.25354827, 0.25422669, 0.17068553],\n",
              "       [0.34497996, 0.20264905, 0.06290154, 0.0979604 ],\n",
              "       [0.4967275 , 0.06966059, 0.93515356, 0.20609764],\n",
              "       [0.46421235, 0.41466826, 0.29133772, 0.32352851],\n",
              "       [0.21159758, 0.28026829, 0.11710504, 0.68925187]])"
            ]
          },
          "metadata": {
            "tags": []
          },
          "execution_count": 135
        }
      ]
    },
    {
      "cell_type": "code",
      "metadata": {
        "id": "IhJMsffcnBYM",
        "colab_type": "code",
        "outputId": "d2d43ea6-5e44-4b64-d497-64a1ae1b4391",
        "colab": {
          "base_uri": "https://localhost:8080/",
          "height": 68
        }
      },
      "source": [
        "z[z>0]\n",
        "mask = (z>0)&(z>0.4)\n",
        "z[mask]     #only print the values between 0 n 0.4\n",
        "#mask         #prints the boolean values for all values of z"
      ],
      "execution_count": 0,
      "outputs": [
        {
          "output_type": "execute_result",
          "data": {
            "text/plain": [
              "array([0.66809934, 0.50300677, 0.95201071, 0.69333383, 0.5341017 ,\n",
              "       0.94317072, 0.55686017, 0.4967275 , 0.93515356, 0.46421235,\n",
              "       0.41466826, 0.68925187])"
            ]
          },
          "metadata": {
            "tags": []
          },
          "execution_count": 162
        }
      ]
    },
    {
      "cell_type": "code",
      "metadata": {
        "id": "2s5XyIhGn2MV",
        "colab_type": "code",
        "outputId": "9c13ecb0-5297-4205-da6b-68fedbac0121",
        "colab": {
          "base_uri": "https://localhost:8080/",
          "height": 85
        }
      },
      "source": [
        "z[[1,2,4,5]]   #prints row 1, 2, 4, 5 rows"
      ],
      "execution_count": 0,
      "outputs": [
        {
          "output_type": "execute_result",
          "data": {
            "text/plain": [
              "array([[0.95201071, 0.69333383, 0.5341017 , 0.0434897 ],\n",
              "       [0.24755088, 0.94317072, 0.55686017, 0.35751823],\n",
              "       [0.34497996, 0.20264905, 0.06290154, 0.0979604 ],\n",
              "       [0.4967275 , 0.06966059, 0.93515356, 0.20609764]])"
            ]
          },
          "metadata": {
            "tags": []
          },
          "execution_count": 143
        }
      ]
    },
    {
      "cell_type": "code",
      "metadata": {
        "id": "2USLmcDPoBnR",
        "colab_type": "code",
        "outputId": "110ff5fe-15ff-467c-b5ae-34bc4a370651",
        "colab": {
          "base_uri": "https://localhost:8080/",
          "height": 34
        }
      },
      "source": [
        "z[[1,2,4,5],[0,0,0,0]]    #first element of 1, 2, 4, 5"
      ],
      "execution_count": 0,
      "outputs": [
        {
          "output_type": "execute_result",
          "data": {
            "text/plain": [
              "array([0.95201071, 0.24755088, 0.34497996, 0.4967275 ])"
            ]
          },
          "metadata": {
            "tags": []
          },
          "execution_count": 150
        }
      ]
    },
    {
      "cell_type": "code",
      "metadata": {
        "id": "t8ITN9cnpEqK",
        "colab_type": "code",
        "outputId": "03aa288e-1269-4a5b-d791-ba26286c843b",
        "colab": {
          "base_uri": "https://localhost:8080/",
          "height": 1000
        }
      },
      "source": [
        "v= np.random.randint(0,9, (8,8,8))\n",
        "v"
      ],
      "execution_count": 0,
      "outputs": [
        {
          "output_type": "execute_result",
          "data": {
            "text/plain": [
              "array([[[0, 0, 6, 0, 8, 6, 1, 2],\n",
              "        [5, 0, 4, 5, 7, 2, 2, 8],\n",
              "        [7, 5, 2, 3, 1, 5, 3, 1],\n",
              "        [0, 7, 6, 5, 8, 0, 7, 1],\n",
              "        [1, 2, 3, 0, 8, 6, 6, 1],\n",
              "        [2, 7, 6, 4, 3, 5, 1, 2],\n",
              "        [3, 7, 3, 5, 4, 4, 1, 4],\n",
              "        [4, 0, 2, 7, 0, 3, 8, 1]],\n",
              "\n",
              "       [[6, 2, 4, 3, 6, 4, 4, 2],\n",
              "        [8, 2, 8, 2, 0, 4, 8, 8],\n",
              "        [3, 3, 8, 0, 5, 2, 5, 0],\n",
              "        [3, 5, 2, 5, 2, 1, 8, 8],\n",
              "        [0, 6, 5, 4, 3, 1, 0, 8],\n",
              "        [2, 8, 4, 4, 1, 0, 1, 7],\n",
              "        [4, 7, 5, 4, 4, 7, 5, 1],\n",
              "        [5, 1, 2, 7, 6, 3, 0, 8]],\n",
              "\n",
              "       [[6, 1, 5, 5, 5, 3, 7, 7],\n",
              "        [1, 4, 3, 6, 8, 5, 2, 6],\n",
              "        [1, 0, 1, 6, 6, 8, 4, 6],\n",
              "        [6, 1, 5, 7, 0, 4, 7, 5],\n",
              "        [2, 1, 0, 8, 7, 6, 3, 6],\n",
              "        [6, 4, 3, 6, 1, 0, 2, 5],\n",
              "        [8, 8, 3, 1, 6, 1, 8, 8],\n",
              "        [2, 3, 7, 0, 3, 1, 7, 1]],\n",
              "\n",
              "       [[5, 5, 3, 3, 3, 4, 8, 0],\n",
              "        [4, 1, 8, 1, 2, 4, 6, 4],\n",
              "        [7, 4, 2, 6, 1, 7, 8, 4],\n",
              "        [2, 6, 6, 4, 3, 0, 0, 5],\n",
              "        [6, 2, 8, 6, 2, 0, 2, 0],\n",
              "        [6, 4, 2, 0, 6, 5, 3, 5],\n",
              "        [3, 0, 3, 4, 3, 5, 3, 6],\n",
              "        [0, 4, 4, 6, 1, 7, 6, 7]],\n",
              "\n",
              "       [[3, 1, 4, 3, 3, 1, 4, 4],\n",
              "        [2, 2, 8, 1, 3, 3, 0, 1],\n",
              "        [7, 8, 8, 4, 3, 8, 2, 8],\n",
              "        [8, 7, 8, 8, 3, 5, 6, 0],\n",
              "        [4, 2, 6, 4, 1, 3, 3, 8],\n",
              "        [0, 8, 0, 8, 2, 8, 4, 0],\n",
              "        [2, 1, 1, 0, 1, 3, 8, 0],\n",
              "        [7, 3, 5, 1, 2, 3, 5, 5]],\n",
              "\n",
              "       [[6, 3, 4, 8, 5, 2, 7, 8],\n",
              "        [8, 5, 8, 3, 5, 5, 2, 1],\n",
              "        [5, 0, 7, 0, 6, 8, 8, 7],\n",
              "        [0, 0, 3, 1, 2, 5, 2, 3],\n",
              "        [8, 8, 7, 5, 0, 0, 3, 5],\n",
              "        [8, 3, 5, 6, 3, 0, 7, 6],\n",
              "        [5, 1, 0, 4, 5, 6, 0, 3],\n",
              "        [8, 3, 4, 1, 8, 6, 4, 3]],\n",
              "\n",
              "       [[0, 7, 0, 2, 3, 1, 7, 3],\n",
              "        [4, 6, 3, 4, 8, 2, 2, 6],\n",
              "        [7, 2, 2, 3, 2, 3, 4, 0],\n",
              "        [8, 5, 5, 8, 2, 7, 3, 2],\n",
              "        [8, 1, 2, 8, 7, 6, 3, 5],\n",
              "        [1, 0, 4, 7, 5, 4, 7, 4],\n",
              "        [5, 7, 0, 7, 4, 8, 1, 3],\n",
              "        [0, 8, 8, 1, 2, 4, 4, 1]],\n",
              "\n",
              "       [[1, 5, 8, 6, 5, 0, 1, 5],\n",
              "        [8, 1, 5, 4, 7, 7, 3, 8],\n",
              "        [2, 6, 8, 6, 1, 2, 2, 2],\n",
              "        [8, 0, 7, 3, 3, 2, 0, 0],\n",
              "        [0, 5, 8, 0, 3, 3, 0, 8],\n",
              "        [0, 0, 4, 2, 4, 6, 6, 6],\n",
              "        [7, 7, 8, 8, 3, 8, 7, 8],\n",
              "        [2, 4, 8, 8, 7, 3, 8, 0]]])"
            ]
          },
          "metadata": {
            "tags": []
          },
          "execution_count": 183
        }
      ]
    },
    {
      "cell_type": "code",
      "metadata": {
        "id": "bGxxzVoipbhX",
        "colab_type": "code",
        "outputId": "82368c77-6c83-4c9b-e679-f81bb720550c",
        "colab": {
          "base_uri": "https://localhost:8080/",
          "height": 1000
        }
      },
      "source": [
        "mask = (v>3) & (v<8)\n",
        "v[mask]= -1*v[mask]\n",
        "v     #negate the numbers between range 3-8"
      ],
      "execution_count": 0,
      "outputs": [
        {
          "output_type": "execute_result",
          "data": {
            "text/plain": [
              "array([[[ 0,  0, -6,  0,  8, -6,  1,  2],\n",
              "        [-5,  0, -4, -5, -7,  2,  2,  8],\n",
              "        [-7, -5,  2,  3,  1, -5,  3,  1],\n",
              "        [ 0, -7, -6, -5,  8,  0, -7,  1],\n",
              "        [ 1,  2,  3,  0,  8, -6, -6,  1],\n",
              "        [ 2, -7, -6, -4,  3, -5,  1,  2],\n",
              "        [ 3, -7,  3, -5, -4, -4,  1, -4],\n",
              "        [-4,  0,  2, -7,  0,  3,  8,  1]],\n",
              "\n",
              "       [[-6,  2, -4,  3, -6, -4, -4,  2],\n",
              "        [ 8,  2,  8,  2,  0, -4,  8,  8],\n",
              "        [ 3,  3,  8,  0, -5,  2, -5,  0],\n",
              "        [ 3, -5,  2, -5,  2,  1,  8,  8],\n",
              "        [ 0, -6, -5, -4,  3,  1,  0,  8],\n",
              "        [ 2,  8, -4, -4,  1,  0,  1, -7],\n",
              "        [-4, -7, -5, -4, -4, -7, -5,  1],\n",
              "        [-5,  1,  2, -7, -6,  3,  0,  8]],\n",
              "\n",
              "       [[-6,  1, -5, -5, -5,  3, -7, -7],\n",
              "        [ 1, -4,  3, -6,  8, -5,  2, -6],\n",
              "        [ 1,  0,  1, -6, -6,  8, -4, -6],\n",
              "        [-6,  1, -5, -7,  0, -4, -7, -5],\n",
              "        [ 2,  1,  0,  8, -7, -6,  3, -6],\n",
              "        [-6, -4,  3, -6,  1,  0,  2, -5],\n",
              "        [ 8,  8,  3,  1, -6,  1,  8,  8],\n",
              "        [ 2,  3, -7,  0,  3,  1, -7,  1]],\n",
              "\n",
              "       [[-5, -5,  3,  3,  3, -4,  8,  0],\n",
              "        [-4,  1,  8,  1,  2, -4, -6, -4],\n",
              "        [-7, -4,  2, -6,  1, -7,  8, -4],\n",
              "        [ 2, -6, -6, -4,  3,  0,  0, -5],\n",
              "        [-6,  2,  8, -6,  2,  0,  2,  0],\n",
              "        [-6, -4,  2,  0, -6, -5,  3, -5],\n",
              "        [ 3,  0,  3, -4,  3, -5,  3, -6],\n",
              "        [ 0, -4, -4, -6,  1, -7, -6, -7]],\n",
              "\n",
              "       [[ 3,  1, -4,  3,  3,  1, -4, -4],\n",
              "        [ 2,  2,  8,  1,  3,  3,  0,  1],\n",
              "        [-7,  8,  8, -4,  3,  8,  2,  8],\n",
              "        [ 8, -7,  8,  8,  3, -5, -6,  0],\n",
              "        [-4,  2, -6, -4,  1,  3,  3,  8],\n",
              "        [ 0,  8,  0,  8,  2,  8, -4,  0],\n",
              "        [ 2,  1,  1,  0,  1,  3,  8,  0],\n",
              "        [-7,  3, -5,  1,  2,  3, -5, -5]],\n",
              "\n",
              "       [[-6,  3, -4,  8, -5,  2, -7,  8],\n",
              "        [ 8, -5,  8,  3, -5, -5,  2,  1],\n",
              "        [-5,  0, -7,  0, -6,  8,  8, -7],\n",
              "        [ 0,  0,  3,  1,  2, -5,  2,  3],\n",
              "        [ 8,  8, -7, -5,  0,  0,  3, -5],\n",
              "        [ 8,  3, -5, -6,  3,  0, -7, -6],\n",
              "        [-5,  1,  0, -4, -5, -6,  0,  3],\n",
              "        [ 8,  3, -4,  1,  8, -6, -4,  3]],\n",
              "\n",
              "       [[ 0, -7,  0,  2,  3,  1, -7,  3],\n",
              "        [-4, -6,  3, -4,  8,  2,  2, -6],\n",
              "        [-7,  2,  2,  3,  2,  3, -4,  0],\n",
              "        [ 8, -5, -5,  8,  2, -7,  3,  2],\n",
              "        [ 8,  1,  2,  8, -7, -6,  3, -5],\n",
              "        [ 1,  0, -4, -7, -5, -4, -7, -4],\n",
              "        [-5, -7,  0, -7, -4,  8,  1,  3],\n",
              "        [ 0,  8,  8,  1,  2, -4, -4,  1]],\n",
              "\n",
              "       [[ 1, -5,  8, -6, -5,  0,  1, -5],\n",
              "        [ 8,  1, -5, -4, -7, -7,  3,  8],\n",
              "        [ 2, -6,  8, -6,  1,  2,  2,  2],\n",
              "        [ 8,  0, -7,  3,  3,  2,  0,  0],\n",
              "        [ 0, -5,  8,  0,  3,  3,  0,  8],\n",
              "        [ 0,  0, -4,  2, -4, -6, -6, -6],\n",
              "        [-7, -7,  8,  8,  3,  8, -7,  8],\n",
              "        [ 2, -4,  8,  8, -7,  3,  8,  0]]])"
            ]
          },
          "metadata": {
            "tags": []
          },
          "execution_count": 185
        }
      ]
    },
    {
      "cell_type": "code",
      "metadata": {
        "id": "MINYe6_EtCim",
        "colab_type": "code",
        "outputId": "26ad1246-bd94-4c6d-8ecf-95801852a015",
        "colab": {
          "base_uri": "https://localhost:8080/",
          "height": 153
        }
      },
      "source": [
        "a= np.random.randint(0,9, (8,3))\n",
        "a"
      ],
      "execution_count": 0,
      "outputs": [
        {
          "output_type": "execute_result",
          "data": {
            "text/plain": [
              "array([[1, 6, 1],\n",
              "       [6, 0, 7],\n",
              "       [1, 6, 3],\n",
              "       [0, 0, 0],\n",
              "       [7, 2, 5],\n",
              "       [4, 2, 1],\n",
              "       [3, 0, 5],\n",
              "       [8, 0, 6]])"
            ]
          },
          "metadata": {
            "tags": []
          },
          "execution_count": 187
        }
      ]
    },
    {
      "cell_type": "code",
      "metadata": {
        "id": "we4YvlG6tRhn",
        "colab_type": "code",
        "outputId": "5f6b4cfb-de8f-421d-87e7-4c65ff1497ba",
        "colab": {
          "base_uri": "https://localhost:8080/",
          "height": 68
        }
      },
      "source": [
        "b= np.random.randint(0,9, (3,8))\n",
        "b"
      ],
      "execution_count": 0,
      "outputs": [
        {
          "output_type": "execute_result",
          "data": {
            "text/plain": [
              "array([[3, 0, 7, 6, 3, 7, 2, 8],\n",
              "       [4, 0, 0, 7, 3, 5, 1, 2],\n",
              "       [3, 4, 0, 7, 5, 3, 8, 6]])"
            ]
          },
          "metadata": {
            "tags": []
          },
          "execution_count": 189
        }
      ]
    },
    {
      "cell_type": "code",
      "metadata": {
        "id": "yToc4hoDtcF4",
        "colab_type": "code",
        "outputId": "fc3e25cd-0872-402c-a5c2-a43b081f9ff9",
        "colab": {
          "base_uri": "https://localhost:8080/",
          "height": 102
        }
      },
      "source": [
        "c=np.dot(a,b)    #product of a n b\n",
        "c.flatten()      #flatten() converts 2D array into 1D"
      ],
      "execution_count": 0,
      "outputs": [
        {
          "output_type": "execute_result",
          "data": {
            "text/plain": [
              "array([ 30,   4,   7,  55,  26,  40,  16,  26,  39,  28,  42,  85,  53,\n",
              "        63,  68,  90,  36,  12,   7,  69,  36,  46,  32,  38,   0,   0,\n",
              "         0,   0,   0,   0,   0,   0,  44,  20,  49,  91,  52,  74,  56,\n",
              "        90,  23,   4,  28,  45,  23,  41,  18,  42,  24,  20,  21,  53,\n",
              "        34,  36,  46,  54,  42,  24,  56,  90,  54,  74,  64, 100])"
            ]
          },
          "metadata": {
            "tags": []
          },
          "execution_count": 192
        }
      ]
    },
    {
      "cell_type": "code",
      "metadata": {
        "id": "xxypCWMsue2n",
        "colab_type": "code",
        "outputId": "84924f37-b33a-488c-bf82-6bd557fc1bed",
        "colab": {
          "base_uri": "https://localhost:8080/",
          "height": 425
        }
      },
      "source": [
        "s= np.arange(100)\n",
        "s.reshape((10,10))\n",
        "s.reshape(((5,4,5)))"
      ],
      "execution_count": 0,
      "outputs": [
        {
          "output_type": "execute_result",
          "data": {
            "text/plain": [
              "array([[[ 0,  1,  2,  3,  4],\n",
              "        [ 5,  6,  7,  8,  9],\n",
              "        [10, 11, 12, 13, 14],\n",
              "        [15, 16, 17, 18, 19]],\n",
              "\n",
              "       [[20, 21, 22, 23, 24],\n",
              "        [25, 26, 27, 28, 29],\n",
              "        [30, 31, 32, 33, 34],\n",
              "        [35, 36, 37, 38, 39]],\n",
              "\n",
              "       [[40, 41, 42, 43, 44],\n",
              "        [45, 46, 47, 48, 49],\n",
              "        [50, 51, 52, 53, 54],\n",
              "        [55, 56, 57, 58, 59]],\n",
              "\n",
              "       [[60, 61, 62, 63, 64],\n",
              "        [65, 66, 67, 68, 69],\n",
              "        [70, 71, 72, 73, 74],\n",
              "        [75, 76, 77, 78, 79]],\n",
              "\n",
              "       [[80, 81, 82, 83, 84],\n",
              "        [85, 86, 87, 88, 89],\n",
              "        [90, 91, 92, 93, 94],\n",
              "        [95, 96, 97, 98, 99]]])"
            ]
          },
          "metadata": {
            "tags": []
          },
          "execution_count": 210
        }
      ]
    },
    {
      "cell_type": "code",
      "metadata": {
        "id": "-hcL0PM3whYC",
        "colab_type": "code",
        "outputId": "9acb9c40-d132-4f9a-a3a6-de77cac55e5a",
        "colab": {
          "base_uri": "https://localhost:8080/",
          "height": 153
        }
      },
      "source": [
        "c.T"
      ],
      "execution_count": 0,
      "outputs": [
        {
          "output_type": "execute_result",
          "data": {
            "text/plain": [
              "array([[ 30,  39,  36,   0,  44,  23,  24,  42],\n",
              "       [  4,  28,  12,   0,  20,   4,  20,  24],\n",
              "       [  7,  42,   7,   0,  49,  28,  21,  56],\n",
              "       [ 55,  85,  69,   0,  91,  45,  53,  90],\n",
              "       [ 26,  53,  36,   0,  52,  23,  34,  54],\n",
              "       [ 40,  63,  46,   0,  74,  41,  36,  74],\n",
              "       [ 16,  68,  32,   0,  56,  18,  46,  64],\n",
              "       [ 26,  90,  38,   0,  90,  42,  54, 100]])"
            ]
          },
          "metadata": {
            "tags": []
          },
          "execution_count": 212
        }
      ]
    },
    {
      "cell_type": "code",
      "metadata": {
        "id": "NT7-Ja4owqC_",
        "colab_type": "code",
        "outputId": "14e13384-5bd1-40ab-9a26-d9f677d43ff9",
        "colab": {
          "base_uri": "https://localhost:8080/",
          "height": 34
        }
      },
      "source": [
        "p= np.arange(8)\n",
        "p\n"
      ],
      "execution_count": 0,
      "outputs": [
        {
          "output_type": "execute_result",
          "data": {
            "text/plain": [
              "array([0, 1, 2, 3, 4, 5, 6, 7])"
            ]
          },
          "metadata": {
            "tags": []
          },
          "execution_count": 220
        }
      ]
    },
    {
      "cell_type": "code",
      "metadata": {
        "id": "uAug-h_gxUmQ",
        "colab_type": "code",
        "outputId": "351f83e3-1de8-4fd3-9290-115d8f74e4b8",
        "colab": {
          "base_uri": "https://localhost:8080/",
          "height": 34
        }
      },
      "source": [
        "np.square(p)"
      ],
      "execution_count": 0,
      "outputs": [
        {
          "output_type": "execute_result",
          "data": {
            "text/plain": [
              "array([ 0,  1,  4,  9, 16, 25, 36, 49])"
            ]
          },
          "metadata": {
            "tags": []
          },
          "execution_count": 222
        }
      ]
    },
    {
      "cell_type": "code",
      "metadata": {
        "id": "HPWndh9YxL8f",
        "colab_type": "code",
        "outputId": "6b62ddf2-f230-4419-caf6-65d865ab5d53",
        "colab": {
          "base_uri": "https://localhost:8080/",
          "height": 51
        }
      },
      "source": [
        "np.sqrt(p)"
      ],
      "execution_count": 0,
      "outputs": [
        {
          "output_type": "execute_result",
          "data": {
            "text/plain": [
              "array([0.        , 1.        , 1.41421356, 1.73205081, 2.        ,\n",
              "       2.23606798, 2.44948974, 2.64575131])"
            ]
          },
          "metadata": {
            "tags": []
          },
          "execution_count": 218
        }
      ]
    },
    {
      "cell_type": "code",
      "metadata": {
        "id": "0cvQmcFAxDgH",
        "colab_type": "code",
        "outputId": "782cf96a-9c7e-492a-c0e6-5e8fb0836c09",
        "colab": {
          "base_uri": "https://localhost:8080/",
          "height": 34
        }
      },
      "source": [
        "np.add(p,p)"
      ],
      "execution_count": 0,
      "outputs": [
        {
          "output_type": "execute_result",
          "data": {
            "text/plain": [
              "array([ 0,  2,  4,  6,  8, 10, 12, 14])"
            ]
          },
          "metadata": {
            "tags": []
          },
          "execution_count": 223
        }
      ]
    },
    {
      "cell_type": "code",
      "metadata": {
        "id": "-WF5D_fwxgEG",
        "colab_type": "code",
        "outputId": "9e31df9b-782d-41c2-d07f-be37e109b491",
        "colab": {
          "base_uri": "https://localhost:8080/",
          "height": 51
        }
      },
      "source": [
        "np.exp(p)"
      ],
      "execution_count": 0,
      "outputs": [
        {
          "output_type": "execute_result",
          "data": {
            "text/plain": [
              "array([1.00000000e+00, 2.71828183e+00, 7.38905610e+00, 2.00855369e+01,\n",
              "       5.45981500e+01, 1.48413159e+02, 4.03428793e+02, 1.09663316e+03])"
            ]
          },
          "metadata": {
            "tags": []
          },
          "execution_count": 225
        }
      ]
    },
    {
      "cell_type": "code",
      "metadata": {
        "id": "xyxpDPYdxr-e",
        "colab_type": "code",
        "outputId": "e3ab6063-cc2e-49f8-d4c9-e31148a9b4a3",
        "colab": {
          "base_uri": "https://localhost:8080/",
          "height": 34
        }
      },
      "source": [
        "np.sign(p)"
      ],
      "execution_count": 0,
      "outputs": [
        {
          "output_type": "execute_result",
          "data": {
            "text/plain": [
              "array([0, 1, 1, 1, 1, 1, 1, 1])"
            ]
          },
          "metadata": {
            "tags": []
          },
          "execution_count": 229
        }
      ]
    },
    {
      "cell_type": "code",
      "metadata": {
        "id": "69Givdhtx807",
        "colab_type": "code",
        "outputId": "26382071-ae35-49fc-bf11-d72edff290f3",
        "colab": {
          "base_uri": "https://localhost:8080/",
          "height": 34
        }
      },
      "source": [
        "np.isnan(p)"
      ],
      "execution_count": 0,
      "outputs": [
        {
          "output_type": "execute_result",
          "data": {
            "text/plain": [
              "array([False, False, False, False, False, False, False, False])"
            ]
          },
          "metadata": {
            "tags": []
          },
          "execution_count": 232
        }
      ]
    },
    {
      "cell_type": "code",
      "metadata": {
        "id": "3JXBaiThyGRj",
        "colab_type": "code",
        "outputId": "9192b64b-7325-49f1-f168-ff1e6e589079",
        "colab": {
          "base_uri": "https://localhost:8080/",
          "height": 34
        }
      },
      "source": [
        "np.power(p, 3)"
      ],
      "execution_count": 0,
      "outputs": [
        {
          "output_type": "execute_result",
          "data": {
            "text/plain": [
              "array([  0,   1,   8,  27,  64, 125, 216, 343])"
            ]
          },
          "metadata": {
            "tags": []
          },
          "execution_count": 235
        }
      ]
    },
    {
      "cell_type": "code",
      "metadata": {
        "id": "k3aNS4dUyPzs",
        "colab_type": "code",
        "outputId": "415f7063-36d2-456f-d88d-7953c45a0ea6",
        "colab": {
          "base_uri": "https://localhost:8080/",
          "height": 34
        }
      },
      "source": [
        "np.logical_and(p, p)"
      ],
      "execution_count": 0,
      "outputs": [
        {
          "output_type": "execute_result",
          "data": {
            "text/plain": [
              "array([False,  True,  True,  True,  True,  True,  True,  True])"
            ]
          },
          "metadata": {
            "tags": []
          },
          "execution_count": 238
        }
      ]
    },
    {
      "cell_type": "code",
      "metadata": {
        "id": "zb0cX4jByraB",
        "colab_type": "code",
        "outputId": "51b27c4e-7635-4cab-f4ae-af425fc3f9b9",
        "colab": {
          "base_uri": "https://localhost:8080/",
          "height": 187
        }
      },
      "source": [
        "r=np.random.randn(50,2)\n",
        "r\n",
        "o=(r*r).copy()\n",
        "o\n",
        "t= np.empty((50), float)\n",
        "t[:]= o.sum(axis=1)\n",
        "d= np.argsort(t)\n",
        "d[40:50]\n",
        "print(r[d[40:50]])"
      ],
      "execution_count": 0,
      "outputs": [
        {
          "output_type": "stream",
          "text": [
            "[[-0.83497014 -1.29325991]\n",
            " [ 1.50745343 -0.37804486]\n",
            " [ 1.54144273  0.41159065]\n",
            " [ 0.99489261  1.24933705]\n",
            " [ 1.32882143 -0.92824513]\n",
            " [ 1.41095195 -1.23394522]\n",
            " [-1.68873201  0.97526641]\n",
            " [-0.50670724  2.03094352]\n",
            " [ 1.46011547  2.25618456]\n",
            " [ 2.88617256 -0.96543075]]\n"
          ],
          "name": "stdout"
        }
      ]
    },
    {
      "cell_type": "code",
      "metadata": {
        "id": "6RGf5Po1JNUr",
        "colab_type": "code",
        "outputId": "3db01208-a134-4e20-9756-aae4ebadd920",
        "colab": {
          "base_uri": "https://localhost:8080/",
          "height": 187
        }
      },
      "source": [
        "np.random.seed(0)          #print 10 ponts closest to origin from 100 values in an array\n",
        "points=np.random.randn(100,2)\n",
        "origin=np.sqrt(np.sum(points*points, axis=1))\n",
        "points[origin.argsort()][:10]"
      ],
      "execution_count": 0,
      "outputs": [
        {
          "output_type": "execute_result",
          "data": {
            "text/plain": [
              "array([[ 0.04575852, -0.18718385],\n",
              "       [ 0.06651722,  0.3024719 ],\n",
              "       [-0.31155253,  0.05616534],\n",
              "       [-0.34791215,  0.15634897],\n",
              "       [ 0.15494743,  0.37816252],\n",
              "       [ 0.12691209,  0.40198936],\n",
              "       [-0.10321885,  0.4105985 ],\n",
              "       [-0.02818223,  0.42833187],\n",
              "       [ 0.17742614, -0.40178094],\n",
              "       [-0.4555325 ,  0.01747916]])"
            ]
          },
          "metadata": {
            "tags": []
          },
          "execution_count": 288
        }
      ]
    },
    {
      "cell_type": "code",
      "metadata": {
        "id": "9xo-svBsQNUz",
        "colab_type": "code",
        "outputId": "a03a8d1a-abdf-49b9-efa5-ced8dd1f3d25",
        "colab": {
          "base_uri": "https://localhost:8080/",
          "height": 221
        }
      },
      "source": [
        "mask= origin <=1\n",
        "points[mask].shape\n",
        "mask"
      ],
      "execution_count": 0,
      "outputs": [
        {
          "output_type": "execute_result",
          "data": {
            "text/plain": [
              "array([False, False, False,  True,  True, False,  True,  True, False,\n",
              "        True, False, False, False,  True, False,  True, False,  True,\n",
              "       False,  True, False, False,  True, False, False,  True, False,\n",
              "        True,  True,  True,  True, False,  True, False,  True,  True,\n",
              "       False,  True, False,  True, False, False, False, False, False,\n",
              "       False,  True,  True, False,  True, False, False, False,  True,\n",
              "       False, False, False,  True,  True, False, False, False,  True,\n",
              "       False,  True,  True,  True,  True,  True, False, False,  True,\n",
              "       False, False, False, False, False,  True, False, False, False,\n",
              "        True, False, False, False,  True, False, False, False,  True,\n",
              "       False, False, False, False, False, False, False,  True, False,\n",
              "       False])"
            ]
          },
          "metadata": {
            "tags": []
          },
          "execution_count": 290
        }
      ]
    },
    {
      "cell_type": "code",
      "metadata": {
        "id": "-jfH8VyVTb9t",
        "colab_type": "code",
        "outputId": "08b50cac-cc8a-499b-b3f8-6ca4b6b2abf3",
        "colab": {
          "base_uri": "https://localhost:8080/",
          "height": 34
        }
      },
      "source": [
        "np.random.seed(0)\n",
        "points= np.random.uniform(-1, 1, (100,2))\n",
        "origin= np.sqrt(np.sum(points*points, axis=1))\n",
        "mask= origin <=1\n",
        "points[mask].shape[0]"
      ],
      "execution_count": 0,
      "outputs": [
        {
          "output_type": "execute_result",
          "data": {
            "text/plain": [
              "78"
            ]
          },
          "metadata": {
            "tags": []
          },
          "execution_count": 297
        }
      ]
    },
    {
      "cell_type": "code",
      "metadata": {
        "id": "qE7bP4VRUa2I",
        "colab_type": "code",
        "outputId": "0218f90a-1e8f-4f9d-83d5-c77f73ce18e9",
        "colab": {
          "base_uri": "https://localhost:8080/",
          "height": 1000
        }
      },
      "source": [
        "\n",
        "g=np.random.randint(5,9, (8,8,8))\n",
        "g"
      ],
      "execution_count": 0,
      "outputs": [
        {
          "output_type": "execute_result",
          "data": {
            "text/plain": [
              "array([[[7, 8, 6, 6, 8, 7, 7, 8],\n",
              "        [5, 7, 5, 7, 8, 6, 6, 6],\n",
              "        [7, 8, 5, 6, 5, 6, 5, 7],\n",
              "        [7, 5, 7, 5, 7, 7, 5, 6],\n",
              "        [6, 8, 8, 6, 5, 8, 6, 7],\n",
              "        [6, 8, 7, 6, 6, 5, 7, 7],\n",
              "        [7, 6, 6, 8, 5, 8, 5, 8],\n",
              "        [5, 8, 6, 5, 7, 5, 8, 6]],\n",
              "\n",
              "       [[5, 7, 7, 7, 6, 7, 5, 8],\n",
              "        [8, 5, 8, 7, 6, 8, 7, 8],\n",
              "        [5, 5, 8, 8, 7, 8, 6, 8],\n",
              "        [5, 6, 8, 7, 8, 5, 5, 5],\n",
              "        [5, 8, 5, 5, 7, 8, 5, 5],\n",
              "        [7, 5, 5, 7, 5, 5, 7, 5],\n",
              "        [7, 5, 8, 8, 5, 8, 8, 8],\n",
              "        [7, 8, 6, 7, 6, 8, 8, 6]],\n",
              "\n",
              "       [[5, 8, 7, 6, 6, 8, 6, 6],\n",
              "        [7, 5, 5, 6, 5, 6, 5, 5],\n",
              "        [7, 6, 7, 8, 5, 8, 6, 6],\n",
              "        [6, 8, 8, 6, 6, 8, 6, 5],\n",
              "        [6, 5, 7, 8, 5, 8, 8, 7],\n",
              "        [6, 5, 5, 5, 7, 6, 8, 8],\n",
              "        [5, 8, 7, 5, 5, 5, 5, 7],\n",
              "        [8, 6, 6, 5, 7, 6, 6, 8]],\n",
              "\n",
              "       [[5, 8, 8, 5, 7, 8, 6, 5],\n",
              "        [7, 7, 7, 6, 8, 8, 6, 6],\n",
              "        [7, 7, 8, 5, 8, 8, 8, 8],\n",
              "        [5, 6, 8, 6, 5, 6, 5, 5],\n",
              "        [8, 5, 7, 6, 8, 7, 6, 7],\n",
              "        [8, 6, 6, 5, 7, 7, 6, 7],\n",
              "        [6, 6, 5, 6, 7, 8, 5, 8],\n",
              "        [6, 5, 5, 6, 7, 6, 6, 6]],\n",
              "\n",
              "       [[6, 6, 7, 5, 7, 6, 5, 5],\n",
              "        [5, 8, 7, 7, 7, 6, 7, 8],\n",
              "        [8, 7, 8, 7, 8, 5, 5, 6],\n",
              "        [5, 6, 5, 8, 6, 8, 8, 6],\n",
              "        [5, 5, 8, 7, 7, 6, 8, 6],\n",
              "        [6, 5, 5, 8, 7, 5, 6, 7],\n",
              "        [5, 6, 5, 5, 5, 6, 6, 5],\n",
              "        [6, 5, 8, 7, 6, 5, 5, 8]],\n",
              "\n",
              "       [[5, 7, 6, 8, 5, 5, 5, 8],\n",
              "        [6, 7, 7, 5, 5, 6, 5, 7],\n",
              "        [6, 8, 8, 6, 5, 7, 6, 6],\n",
              "        [5, 7, 7, 8, 8, 6, 7, 5],\n",
              "        [5, 6, 6, 7, 5, 8, 8, 8],\n",
              "        [7, 7, 6, 5, 8, 5, 7, 5],\n",
              "        [8, 5, 8, 7, 6, 8, 6, 8],\n",
              "        [6, 7, 5, 8, 8, 8, 7, 8]],\n",
              "\n",
              "       [[7, 6, 5, 6, 5, 5, 6, 8],\n",
              "        [8, 6, 7, 5, 5, 5, 5, 5],\n",
              "        [8, 7, 5, 7, 6, 7, 8, 7],\n",
              "        [7, 6, 5, 7, 8, 6, 7, 7],\n",
              "        [6, 8, 8, 8, 7, 7, 8, 5],\n",
              "        [8, 6, 7, 6, 6, 5, 5, 8],\n",
              "        [5, 7, 7, 7, 7, 7, 8, 7],\n",
              "        [8, 6, 6, 5, 7, 6, 8, 8]],\n",
              "\n",
              "       [[8, 5, 8, 5, 8, 5, 5, 6],\n",
              "        [6, 8, 6, 5, 5, 7, 7, 5],\n",
              "        [6, 5, 8, 7, 7, 6, 5, 7],\n",
              "        [6, 7, 6, 7, 8, 7, 5, 6],\n",
              "        [6, 7, 5, 7, 7, 7, 8, 6],\n",
              "        [5, 8, 8, 7, 7, 7, 6, 7],\n",
              "        [8, 6, 8, 6, 6, 6, 8, 6],\n",
              "        [8, 5, 8, 8, 6, 6, 7, 5]]])"
            ]
          },
          "metadata": {
            "tags": []
          },
          "execution_count": 302
        }
      ]
    },
    {
      "cell_type": "code",
      "metadata": {
        "id": "8zZEganEWN1I",
        "colab_type": "code",
        "outputId": "822e1a11-d543-437b-83f2-4741f2881ddf",
        "colab": {
          "base_uri": "https://localhost:8080/",
          "height": 102
        }
      },
      "source": [
        "g=np.random.randint(0, 5, (5,5))\n",
        "h=np.random.randint(0, 5, (5,5))\n",
        "i=np.dot(g,h)\n",
        "i\n",
        "\n"
      ],
      "execution_count": 0,
      "outputs": [
        {
          "output_type": "execute_result",
          "data": {
            "text/plain": [
              "array([[10,  6,  8,  6, 10],\n",
              "       [30, 27, 20, 18, 31],\n",
              "       [33, 27, 26, 11, 35],\n",
              "       [ 6,  3,  1, 14,  3],\n",
              "       [28, 22, 23, 24, 37]])"
            ]
          },
          "metadata": {
            "tags": []
          },
          "execution_count": 313
        }
      ]
    },
    {
      "cell_type": "code",
      "metadata": {
        "id": "Qi-eoHfyXgKQ",
        "colab_type": "code",
        "outputId": "ac9cfc14-c207-437f-8f3a-acc5806c4838",
        "colab": {
          "base_uri": "https://localhost:8080/",
          "height": 34
        }
      },
      "source": [
        "np.diag(i)    #print diagonal"
      ],
      "execution_count": 0,
      "outputs": [
        {
          "output_type": "execute_result",
          "data": {
            "text/plain": [
              "array([10, 27, 26, 14, 37])"
            ]
          },
          "metadata": {
            "tags": []
          },
          "execution_count": 314
        }
      ]
    },
    {
      "cell_type": "code",
      "metadata": {
        "id": "t99TjbqPXpl9",
        "colab_type": "code",
        "outputId": "9b1a2055-b86e-4f2a-ea7d-94db3854a0bd",
        "colab": {
          "base_uri": "https://localhost:8080/",
          "height": 68
        }
      },
      "source": [
        "z= np.random.randint(0,9,(3,3))       #negate boolean value in its own place\n",
        "z\n",
        "mask= z>5\n",
        "mask\n"
      ],
      "execution_count": 0,
      "outputs": [
        {
          "output_type": "execute_result",
          "data": {
            "text/plain": [
              "array([[ True,  True, False],\n",
              "       [ True, False, False],\n",
              "       [False, False, False]])"
            ]
          },
          "metadata": {
            "tags": []
          },
          "execution_count": 320
        }
      ]
    },
    {
      "cell_type": "code",
      "metadata": {
        "id": "8Ek4atKPY_n8",
        "colab_type": "code",
        "outputId": "ab13ad5d-58ba-481c-d0e8-e3312267e5a7",
        "colab": {
          "base_uri": "https://localhost:8080/",
          "height": 68
        }
      },
      "source": [
        "np.logical_not(mask,mask)"
      ],
      "execution_count": 0,
      "outputs": [
        {
          "output_type": "execute_result",
          "data": {
            "text/plain": [
              "array([[False, False,  True],\n",
              "       [False,  True,  True],\n",
              "       [ True,  True,  True]])"
            ]
          },
          "metadata": {
            "tags": []
          },
          "execution_count": 321
        }
      ]
    },
    {
      "cell_type": "code",
      "metadata": {
        "id": "6534g5CXaGF_",
        "colab_type": "code",
        "outputId": "acc816b1-11d1-4309-c60d-d25858decb28",
        "colab": {
          "base_uri": "https://localhost:8080/",
          "height": 85
        }
      },
      "source": [
        "arr= np.random.randn(4, 4)\n",
        "arr"
      ],
      "execution_count": 0,
      "outputs": [
        {
          "output_type": "execute_result",
          "data": {
            "text/plain": [
              "array([[ 0.45659076,  0.11249504,  0.40599608,  1.17448563],\n",
              "       [ 0.32100233, -0.44059648, -1.76077643,  0.94845643],\n",
              "       [ 0.75465227,  0.00320806, -0.89705847, -0.35761398],\n",
              "       [-0.60184032,  0.74221159,  0.79784547, -0.79179744]])"
            ]
          },
          "metadata": {
            "tags": []
          },
          "execution_count": 322
        }
      ]
    },
    {
      "cell_type": "code",
      "metadata": {
        "id": "0GMqS6Joaicg",
        "colab_type": "code",
        "outputId": "2d6e768d-fd46-40da-e6cc-b57cad81e5a3",
        "colab": {
          "base_uri": "https://localhost:8080/",
          "height": 85
        }
      },
      "source": [
        "np.where(arr>0, \"X8i\", \"0\")"
      ],
      "execution_count": 0,
      "outputs": [
        {
          "output_type": "execute_result",
          "data": {
            "text/plain": [
              "array([['X8i', 'X8i', 'X8i', 'X8i'],\n",
              "       ['X8i', '0', '0', 'X8i'],\n",
              "       ['X8i', 'X8i', '0', '0'],\n",
              "       ['0', 'X8i', 'X8i', '0']], dtype='<U3')"
            ]
          },
          "metadata": {
            "tags": []
          },
          "execution_count": 328
        }
      ]
    },
    {
      "cell_type": "code",
      "metadata": {
        "id": "B1puP3isbqNu",
        "colab_type": "code",
        "outputId": "e0263448-6b7c-44c2-bc99-02aae8158c9b",
        "colab": {
          "base_uri": "https://localhost:8080/",
          "height": 102
        }
      },
      "source": [
        "z= np.random.randint(0, 9, (5,5))\n",
        "z"
      ],
      "execution_count": 0,
      "outputs": [
        {
          "output_type": "execute_result",
          "data": {
            "text/plain": [
              "array([[6, 3, 7, 2, 6],\n",
              "       [3, 5, 8, 5, 0],\n",
              "       [6, 1, 4, 7, 5],\n",
              "       [2, 6, 4, 7, 3],\n",
              "       [6, 7, 0, 6, 4]])"
            ]
          },
          "metadata": {
            "tags": []
          },
          "execution_count": 337
        }
      ]
    },
    {
      "cell_type": "code",
      "metadata": {
        "id": "n7_yeviLcvgp",
        "colab_type": "code",
        "outputId": "6d02f13e-a599-4163-c727-21cf606f79d1",
        "colab": {
          "base_uri": "https://localhost:8080/",
          "height": 102
        }
      },
      "source": [
        "np.sort(z)"
      ],
      "execution_count": 0,
      "outputs": [
        {
          "output_type": "execute_result",
          "data": {
            "text/plain": [
              "array([[0, 1, 3, 5, 8],\n",
              "       [1, 1, 6, 7, 8],\n",
              "       [4, 5, 6, 7, 8],\n",
              "       [1, 4, 5, 7, 8],\n",
              "       [0, 7, 7, 7, 8]])"
            ]
          },
          "metadata": {
            "tags": []
          },
          "execution_count": 334
        }
      ]
    },
    {
      "cell_type": "code",
      "metadata": {
        "id": "9uLlrAHHc8Wp",
        "colab_type": "code",
        "outputId": "53f5c50d-d157-4012-a1da-b9128562a5b5",
        "colab": {
          "base_uri": "https://localhost:8080/",
          "height": 102
        }
      },
      "source": [
        "z.sort(0)\n",
        "z"
      ],
      "execution_count": 0,
      "outputs": [
        {
          "output_type": "execute_result",
          "data": {
            "text/plain": [
              "array([[2, 1, 0, 2, 0],\n",
              "       [3, 3, 4, 5, 3],\n",
              "       [6, 5, 4, 6, 4],\n",
              "       [6, 6, 7, 7, 5],\n",
              "       [6, 7, 8, 7, 6]])"
            ]
          },
          "metadata": {
            "tags": []
          },
          "execution_count": 340
        }
      ]
    },
    {
      "cell_type": "code",
      "metadata": {
        "id": "oDUIx-INeBO7",
        "colab_type": "code",
        "outputId": "210e6bb4-a5b0-4938-9c50-b5bf92a51a87",
        "colab": {
          "base_uri": "https://localhost:8080/",
          "height": 34
        }
      },
      "source": [
        "!pwd"
      ],
      "execution_count": 0,
      "outputs": [
        {
          "output_type": "stream",
          "text": [
            "/content\n"
          ],
          "name": "stdout"
        }
      ]
    },
    {
      "cell_type": "code",
      "metadata": {
        "id": "PNbPW9xMjO4w",
        "colab_type": "code",
        "colab": {}
      },
      "source": [
        ""
      ],
      "execution_count": 0,
      "outputs": []
    },
    {
      "cell_type": "markdown",
      "metadata": {
        "id": "q_Z8Ukbjjhzy",
        "colab_type": "text"
      },
      "source": [
        "# **Pandas**"
      ]
    },
    {
      "cell_type": "code",
      "metadata": {
        "id": "KnNGOxpmj1AO",
        "colab_type": "code",
        "colab": {}
      },
      "source": [
        "import pandas as pd"
      ],
      "execution_count": 0,
      "outputs": []
    },
    {
      "cell_type": "code",
      "metadata": {
        "id": "Q5oqErX_kQmI",
        "colab_type": "code",
        "outputId": "5bee3643-1915-4641-dd0f-344629c4e9c2",
        "colab": {
          "base_uri": "https://localhost:8080/",
          "height": 102
        }
      },
      "source": [
        "z= pd.Series([1,2,3,4])\n",
        "z*2\n"
      ],
      "execution_count": 0,
      "outputs": [
        {
          "output_type": "execute_result",
          "data": {
            "text/plain": [
              "0    2\n",
              "1    4\n",
              "2    6\n",
              "3    8\n",
              "dtype: int64"
            ]
          },
          "metadata": {
            "tags": []
          },
          "execution_count": 348
        }
      ]
    },
    {
      "cell_type": "code",
      "metadata": {
        "id": "cPUIL_Q3kS22",
        "colab_type": "code",
        "outputId": "edfae441-9eef-45d6-b05e-f85807cdd0ab",
        "colab": {
          "base_uri": "https://localhost:8080/",
          "height": 102
        }
      },
      "source": [
        "np.exp(z)"
      ],
      "execution_count": 0,
      "outputs": [
        {
          "output_type": "execute_result",
          "data": {
            "text/plain": [
              "0     2.718282\n",
              "1     7.389056\n",
              "2    20.085537\n",
              "3    54.598150\n",
              "dtype: float64"
            ]
          },
          "metadata": {
            "tags": []
          },
          "execution_count": 350
        }
      ]
    },
    {
      "cell_type": "code",
      "metadata": {
        "id": "IsXD_Y5KkqqQ",
        "colab_type": "code",
        "outputId": "dbf8c54b-cfa3-482a-f0d2-f70952d1b6aa",
        "colab": {
          "base_uri": "https://localhost:8080/",
          "height": 85
        }
      },
      "source": [
        "pd.Series([1,2,3])"
      ],
      "execution_count": 0,
      "outputs": [
        {
          "output_type": "execute_result",
          "data": {
            "text/plain": [
              "0    1\n",
              "1    2\n",
              "2    3\n",
              "dtype: int64"
            ]
          },
          "metadata": {
            "tags": []
          },
          "execution_count": 354
        }
      ]
    },
    {
      "cell_type": "code",
      "metadata": {
        "id": "Vsg0anv8lpzC",
        "colab_type": "code",
        "outputId": "8510da32-35f5-4120-cbbc-514782835c55",
        "colab": {
          "base_uri": "https://localhost:8080/",
          "height": 68
        }
      },
      "source": [
        "z= pd.Series([1.0,2.0], index=[1,2])\n",
        "z"
      ],
      "execution_count": 0,
      "outputs": [
        {
          "output_type": "execute_result",
          "data": {
            "text/plain": [
              "1    1.0\n",
              "2    2.0\n",
              "dtype: float64"
            ]
          },
          "metadata": {
            "tags": []
          },
          "execution_count": 356
        }
      ]
    },
    {
      "cell_type": "code",
      "metadata": {
        "id": "Dg5ra9ibl51i",
        "colab_type": "code",
        "outputId": "008aa844-f204-4b62-db12-74eca228257a",
        "colab": {
          "base_uri": "https://localhost:8080/",
          "height": 68
        }
      },
      "source": [
        "s= pd.Series([1.0,2.0], index=[3,4])\n",
        "s"
      ],
      "execution_count": 0,
      "outputs": [
        {
          "output_type": "execute_result",
          "data": {
            "text/plain": [
              "3    1.0\n",
              "4    2.0\n",
              "dtype: float64"
            ]
          },
          "metadata": {
            "tags": []
          },
          "execution_count": 357
        }
      ]
    },
    {
      "cell_type": "code",
      "metadata": {
        "id": "ZmJb__5VmoKx",
        "colab_type": "code",
        "outputId": "137480d2-449c-45b3-96f5-04b08f3eee8d",
        "colab": {
          "base_uri": "https://localhost:8080/",
          "height": 102
        }
      },
      "source": [
        "pd.Series([1,2,3,'x'], index = ['a','b','c','d'])"
      ],
      "execution_count": 0,
      "outputs": [
        {
          "output_type": "execute_result",
          "data": {
            "text/plain": [
              "a    1\n",
              "b    2\n",
              "c    3\n",
              "d    x\n",
              "dtype: object"
            ]
          },
          "metadata": {
            "tags": []
          },
          "execution_count": 359
        }
      ]
    },
    {
      "cell_type": "code",
      "metadata": {
        "id": "aPF4scAJsHzS",
        "colab_type": "code",
        "outputId": "d1dcc1fd-6cb6-4beb-fc16-d05cedf04bea",
        "colab": {
          "base_uri": "https://localhost:8080/",
          "height": 102
        }
      },
      "source": [
        "z = pd.Series([1,2,3,4])\n",
        "z*2"
      ],
      "execution_count": 0,
      "outputs": [
        {
          "output_type": "execute_result",
          "data": {
            "text/plain": [
              "0    2\n",
              "1    4\n",
              "2    6\n",
              "3    8\n",
              "dtype: int64"
            ]
          },
          "metadata": {
            "tags": []
          },
          "execution_count": 360
        }
      ]
    },
    {
      "cell_type": "code",
      "metadata": {
        "id": "zhW4IcKisQKk",
        "colab_type": "code",
        "outputId": "f410baa3-e3d3-48c7-a6c3-178bcfe51ffb",
        "colab": {
          "base_uri": "https://localhost:8080/",
          "height": 102
        }
      },
      "source": [
        "z = pd.Series({'b':1,'a':2,'d':3,'c':4}, index = ['a','b','c','d'])\n",
        "z"
      ],
      "execution_count": 0,
      "outputs": [
        {
          "output_type": "execute_result",
          "data": {
            "text/plain": [
              "a    2\n",
              "b    1\n",
              "c    4\n",
              "d    3\n",
              "dtype: int64"
            ]
          },
          "metadata": {
            "tags": []
          },
          "execution_count": 362
        }
      ]
    },
    {
      "cell_type": "code",
      "metadata": {
        "id": "pPxNQfTbs4DJ",
        "colab_type": "code",
        "outputId": "51daf933-1851-45ae-f0a3-a90acf04b692",
        "colab": {
          "base_uri": "https://localhost:8080/",
          "height": 85
        }
      },
      "source": [
        "pd.Series([1,2,3])+pd.Series([1.0,2.0], index = [1,2])"
      ],
      "execution_count": 0,
      "outputs": [
        {
          "output_type": "execute_result",
          "data": {
            "text/plain": [
              "0    NaN\n",
              "1    3.0\n",
              "2    5.0\n",
              "dtype: float64"
            ]
          },
          "metadata": {
            "tags": []
          },
          "execution_count": 363
        }
      ]
    },
    {
      "cell_type": "code",
      "metadata": {
        "id": "T4Su_DaEs_xR",
        "colab_type": "code",
        "outputId": "604deae0-9875-4d17-89b2-c0b7f761e989",
        "colab": {
          "base_uri": "https://localhost:8080/",
          "height": 111
        }
      },
      "source": [
        "data = {\n",
        "   'state':['Ohio','Nevada'],\n",
        "    'year':[2001,2009]\n",
        "}\n",
        "frame = pd.DataFrame(data)\n",
        "frame"
      ],
      "execution_count": 0,
      "outputs": [
        {
          "output_type": "execute_result",
          "data": {
            "text/html": [
              "<div>\n",
              "<style scoped>\n",
              "    .dataframe tbody tr th:only-of-type {\n",
              "        vertical-align: middle;\n",
              "    }\n",
              "\n",
              "    .dataframe tbody tr th {\n",
              "        vertical-align: top;\n",
              "    }\n",
              "\n",
              "    .dataframe thead th {\n",
              "        text-align: right;\n",
              "    }\n",
              "</style>\n",
              "<table border=\"1\" class=\"dataframe\">\n",
              "  <thead>\n",
              "    <tr style=\"text-align: right;\">\n",
              "      <th></th>\n",
              "      <th>state</th>\n",
              "      <th>year</th>\n",
              "    </tr>\n",
              "  </thead>\n",
              "  <tbody>\n",
              "    <tr>\n",
              "      <th>0</th>\n",
              "      <td>Ohio</td>\n",
              "      <td>2001</td>\n",
              "    </tr>\n",
              "    <tr>\n",
              "      <th>1</th>\n",
              "      <td>Nevada</td>\n",
              "      <td>2009</td>\n",
              "    </tr>\n",
              "  </tbody>\n",
              "</table>\n",
              "</div>"
            ],
            "text/plain": [
              "    state  year\n",
              "0    Ohio  2001\n",
              "1  Nevada  2009"
            ]
          },
          "metadata": {
            "tags": []
          },
          "execution_count": 364
        }
      ]
    },
    {
      "cell_type": "code",
      "metadata": {
        "id": "6I4pZsYvtJJY",
        "colab_type": "code",
        "outputId": "bbc1749e-bf99-4e43-e86c-9557bfeb0233",
        "colab": {
          "base_uri": "https://localhost:8080/",
          "height": 111
        }
      },
      "source": [
        "frame['income_cat']=pd.DataFrame([100,200])\n",
        "frame"
      ],
      "execution_count": 0,
      "outputs": [
        {
          "output_type": "execute_result",
          "data": {
            "text/html": [
              "<div>\n",
              "<style scoped>\n",
              "    .dataframe tbody tr th:only-of-type {\n",
              "        vertical-align: middle;\n",
              "    }\n",
              "\n",
              "    .dataframe tbody tr th {\n",
              "        vertical-align: top;\n",
              "    }\n",
              "\n",
              "    .dataframe thead th {\n",
              "        text-align: right;\n",
              "    }\n",
              "</style>\n",
              "<table border=\"1\" class=\"dataframe\">\n",
              "  <thead>\n",
              "    <tr style=\"text-align: right;\">\n",
              "      <th></th>\n",
              "      <th>state</th>\n",
              "      <th>year</th>\n",
              "      <th>income_cat</th>\n",
              "    </tr>\n",
              "  </thead>\n",
              "  <tbody>\n",
              "    <tr>\n",
              "      <th>0</th>\n",
              "      <td>Ohio</td>\n",
              "      <td>2001</td>\n",
              "      <td>100</td>\n",
              "    </tr>\n",
              "    <tr>\n",
              "      <th>1</th>\n",
              "      <td>Nevada</td>\n",
              "      <td>2009</td>\n",
              "      <td>200</td>\n",
              "    </tr>\n",
              "  </tbody>\n",
              "</table>\n",
              "</div>"
            ],
            "text/plain": [
              "    state  year  income_cat\n",
              "0    Ohio  2001         100\n",
              "1  Nevada  2009         200"
            ]
          },
          "metadata": {
            "tags": []
          },
          "execution_count": 365
        }
      ]
    },
    {
      "cell_type": "code",
      "metadata": {
        "id": "ZWtMRY6jtOv5",
        "colab_type": "code",
        "outputId": "8eb8e4d4-3ca3-45aa-b324-406a531142ec",
        "colab": {
          "base_uri": "https://localhost:8080/",
          "height": 111
        }
      },
      "source": [
        "del frame['income_cat']\n",
        "frame"
      ],
      "execution_count": 0,
      "outputs": [
        {
          "output_type": "execute_result",
          "data": {
            "text/html": [
              "<div>\n",
              "<style scoped>\n",
              "    .dataframe tbody tr th:only-of-type {\n",
              "        vertical-align: middle;\n",
              "    }\n",
              "\n",
              "    .dataframe tbody tr th {\n",
              "        vertical-align: top;\n",
              "    }\n",
              "\n",
              "    .dataframe thead th {\n",
              "        text-align: right;\n",
              "    }\n",
              "</style>\n",
              "<table border=\"1\" class=\"dataframe\">\n",
              "  <thead>\n",
              "    <tr style=\"text-align: right;\">\n",
              "      <th></th>\n",
              "      <th>state</th>\n",
              "      <th>year</th>\n",
              "    </tr>\n",
              "  </thead>\n",
              "  <tbody>\n",
              "    <tr>\n",
              "      <th>0</th>\n",
              "      <td>Ohio</td>\n",
              "      <td>2001</td>\n",
              "    </tr>\n",
              "    <tr>\n",
              "      <th>1</th>\n",
              "      <td>Nevada</td>\n",
              "      <td>2009</td>\n",
              "    </tr>\n",
              "  </tbody>\n",
              "</table>\n",
              "</div>"
            ],
            "text/plain": [
              "    state  year\n",
              "0    Ohio  2001\n",
              "1  Nevada  2009"
            ]
          },
          "metadata": {
            "tags": []
          },
          "execution_count": 366
        }
      ]
    },
    {
      "cell_type": "code",
      "metadata": {
        "id": "4LQAXjCItUiz",
        "colab_type": "code",
        "outputId": "06fd79cf-a87f-47fd-d393-552775015332",
        "colab": {
          "base_uri": "https://localhost:8080/",
          "height": 204
        }
      },
      "source": [
        "pd.DataFrame(np.random.randn(5,5))"
      ],
      "execution_count": 0,
      "outputs": [
        {
          "output_type": "execute_result",
          "data": {
            "text/html": [
              "<div>\n",
              "<style scoped>\n",
              "    .dataframe tbody tr th:only-of-type {\n",
              "        vertical-align: middle;\n",
              "    }\n",
              "\n",
              "    .dataframe tbody tr th {\n",
              "        vertical-align: top;\n",
              "    }\n",
              "\n",
              "    .dataframe thead th {\n",
              "        text-align: right;\n",
              "    }\n",
              "</style>\n",
              "<table border=\"1\" class=\"dataframe\">\n",
              "  <thead>\n",
              "    <tr style=\"text-align: right;\">\n",
              "      <th></th>\n",
              "      <th>0</th>\n",
              "      <th>1</th>\n",
              "      <th>2</th>\n",
              "      <th>3</th>\n",
              "      <th>4</th>\n",
              "    </tr>\n",
              "  </thead>\n",
              "  <tbody>\n",
              "    <tr>\n",
              "      <th>0</th>\n",
              "      <td>-0.182797</td>\n",
              "      <td>0.701234</td>\n",
              "      <td>-0.610579</td>\n",
              "      <td>0.849227</td>\n",
              "      <td>-1.567303</td>\n",
              "    </tr>\n",
              "    <tr>\n",
              "      <th>1</th>\n",
              "      <td>1.844362</td>\n",
              "      <td>-0.839065</td>\n",
              "      <td>-0.400909</td>\n",
              "      <td>-0.914107</td>\n",
              "      <td>2.283512</td>\n",
              "    </tr>\n",
              "    <tr>\n",
              "      <th>2</th>\n",
              "      <td>0.546077</td>\n",
              "      <td>-0.921580</td>\n",
              "      <td>-0.889048</td>\n",
              "      <td>-0.071025</td>\n",
              "      <td>-0.240574</td>\n",
              "    </tr>\n",
              "    <tr>\n",
              "      <th>3</th>\n",
              "      <td>0.007376</td>\n",
              "      <td>-1.335613</td>\n",
              "      <td>-0.052451</td>\n",
              "      <td>0.319063</td>\n",
              "      <td>1.716086</td>\n",
              "    </tr>\n",
              "    <tr>\n",
              "      <th>4</th>\n",
              "      <td>1.611755</td>\n",
              "      <td>0.088389</td>\n",
              "      <td>-0.177068</td>\n",
              "      <td>0.733894</td>\n",
              "      <td>0.867819</td>\n",
              "    </tr>\n",
              "  </tbody>\n",
              "</table>\n",
              "</div>"
            ],
            "text/plain": [
              "          0         1         2         3         4\n",
              "0 -0.182797  0.701234 -0.610579  0.849227 -1.567303\n",
              "1  1.844362 -0.839065 -0.400909 -0.914107  2.283512\n",
              "2  0.546077 -0.921580 -0.889048 -0.071025 -0.240574\n",
              "3  0.007376 -1.335613 -0.052451  0.319063  1.716086\n",
              "4  1.611755  0.088389 -0.177068  0.733894  0.867819"
            ]
          },
          "metadata": {
            "tags": []
          },
          "execution_count": 367
        }
      ]
    },
    {
      "cell_type": "code",
      "metadata": {
        "id": "nQtNIwczvVye",
        "colab_type": "code",
        "outputId": "7667a500-6e86-4cc6-dd66-212a429daad0",
        "colab": {
          "base_uri": "https://localhost:8080/",
          "height": 1000
        }
      },
      "source": [
        "x= pd.read_csv(\"https://bit.ly/2JIORnq\", sep=\"|\")\n",
        "x"
      ],
      "execution_count": 0,
      "outputs": [
        {
          "output_type": "execute_result",
          "data": {
            "text/html": [
              "<div>\n",
              "<style scoped>\n",
              "    .dataframe tbody tr th:only-of-type {\n",
              "        vertical-align: middle;\n",
              "    }\n",
              "\n",
              "    .dataframe tbody tr th {\n",
              "        vertical-align: top;\n",
              "    }\n",
              "\n",
              "    .dataframe thead th {\n",
              "        text-align: right;\n",
              "    }\n",
              "</style>\n",
              "<table border=\"1\" class=\"dataframe\">\n",
              "  <thead>\n",
              "    <tr style=\"text-align: right;\">\n",
              "      <th></th>\n",
              "      <th>user_id</th>\n",
              "      <th>age</th>\n",
              "      <th>gender</th>\n",
              "      <th>occupation</th>\n",
              "      <th>zip_code</th>\n",
              "    </tr>\n",
              "  </thead>\n",
              "  <tbody>\n",
              "    <tr>\n",
              "      <th>0</th>\n",
              "      <td>1</td>\n",
              "      <td>24</td>\n",
              "      <td>M</td>\n",
              "      <td>technician</td>\n",
              "      <td>85711</td>\n",
              "    </tr>\n",
              "    <tr>\n",
              "      <th>1</th>\n",
              "      <td>2</td>\n",
              "      <td>53</td>\n",
              "      <td>F</td>\n",
              "      <td>other</td>\n",
              "      <td>94043</td>\n",
              "    </tr>\n",
              "    <tr>\n",
              "      <th>2</th>\n",
              "      <td>3</td>\n",
              "      <td>23</td>\n",
              "      <td>M</td>\n",
              "      <td>writer</td>\n",
              "      <td>32067</td>\n",
              "    </tr>\n",
              "    <tr>\n",
              "      <th>3</th>\n",
              "      <td>4</td>\n",
              "      <td>24</td>\n",
              "      <td>M</td>\n",
              "      <td>technician</td>\n",
              "      <td>43537</td>\n",
              "    </tr>\n",
              "    <tr>\n",
              "      <th>4</th>\n",
              "      <td>5</td>\n",
              "      <td>33</td>\n",
              "      <td>F</td>\n",
              "      <td>other</td>\n",
              "      <td>15213</td>\n",
              "    </tr>\n",
              "    <tr>\n",
              "      <th>5</th>\n",
              "      <td>6</td>\n",
              "      <td>42</td>\n",
              "      <td>M</td>\n",
              "      <td>executive</td>\n",
              "      <td>98101</td>\n",
              "    </tr>\n",
              "    <tr>\n",
              "      <th>6</th>\n",
              "      <td>7</td>\n",
              "      <td>57</td>\n",
              "      <td>M</td>\n",
              "      <td>administrator</td>\n",
              "      <td>91344</td>\n",
              "    </tr>\n",
              "    <tr>\n",
              "      <th>7</th>\n",
              "      <td>8</td>\n",
              "      <td>36</td>\n",
              "      <td>M</td>\n",
              "      <td>administrator</td>\n",
              "      <td>05201</td>\n",
              "    </tr>\n",
              "    <tr>\n",
              "      <th>8</th>\n",
              "      <td>9</td>\n",
              "      <td>29</td>\n",
              "      <td>M</td>\n",
              "      <td>student</td>\n",
              "      <td>01002</td>\n",
              "    </tr>\n",
              "    <tr>\n",
              "      <th>9</th>\n",
              "      <td>10</td>\n",
              "      <td>53</td>\n",
              "      <td>M</td>\n",
              "      <td>lawyer</td>\n",
              "      <td>90703</td>\n",
              "    </tr>\n",
              "    <tr>\n",
              "      <th>10</th>\n",
              "      <td>11</td>\n",
              "      <td>39</td>\n",
              "      <td>F</td>\n",
              "      <td>other</td>\n",
              "      <td>30329</td>\n",
              "    </tr>\n",
              "    <tr>\n",
              "      <th>11</th>\n",
              "      <td>12</td>\n",
              "      <td>28</td>\n",
              "      <td>F</td>\n",
              "      <td>other</td>\n",
              "      <td>06405</td>\n",
              "    </tr>\n",
              "    <tr>\n",
              "      <th>12</th>\n",
              "      <td>13</td>\n",
              "      <td>47</td>\n",
              "      <td>M</td>\n",
              "      <td>educator</td>\n",
              "      <td>29206</td>\n",
              "    </tr>\n",
              "    <tr>\n",
              "      <th>13</th>\n",
              "      <td>14</td>\n",
              "      <td>45</td>\n",
              "      <td>M</td>\n",
              "      <td>scientist</td>\n",
              "      <td>55106</td>\n",
              "    </tr>\n",
              "    <tr>\n",
              "      <th>14</th>\n",
              "      <td>15</td>\n",
              "      <td>49</td>\n",
              "      <td>F</td>\n",
              "      <td>educator</td>\n",
              "      <td>97301</td>\n",
              "    </tr>\n",
              "    <tr>\n",
              "      <th>15</th>\n",
              "      <td>16</td>\n",
              "      <td>21</td>\n",
              "      <td>M</td>\n",
              "      <td>entertainment</td>\n",
              "      <td>10309</td>\n",
              "    </tr>\n",
              "    <tr>\n",
              "      <th>16</th>\n",
              "      <td>17</td>\n",
              "      <td>30</td>\n",
              "      <td>M</td>\n",
              "      <td>programmer</td>\n",
              "      <td>06355</td>\n",
              "    </tr>\n",
              "    <tr>\n",
              "      <th>17</th>\n",
              "      <td>18</td>\n",
              "      <td>35</td>\n",
              "      <td>F</td>\n",
              "      <td>other</td>\n",
              "      <td>37212</td>\n",
              "    </tr>\n",
              "    <tr>\n",
              "      <th>18</th>\n",
              "      <td>19</td>\n",
              "      <td>40</td>\n",
              "      <td>M</td>\n",
              "      <td>librarian</td>\n",
              "      <td>02138</td>\n",
              "    </tr>\n",
              "    <tr>\n",
              "      <th>19</th>\n",
              "      <td>20</td>\n",
              "      <td>42</td>\n",
              "      <td>F</td>\n",
              "      <td>homemaker</td>\n",
              "      <td>95660</td>\n",
              "    </tr>\n",
              "    <tr>\n",
              "      <th>20</th>\n",
              "      <td>21</td>\n",
              "      <td>26</td>\n",
              "      <td>M</td>\n",
              "      <td>writer</td>\n",
              "      <td>30068</td>\n",
              "    </tr>\n",
              "    <tr>\n",
              "      <th>21</th>\n",
              "      <td>22</td>\n",
              "      <td>25</td>\n",
              "      <td>M</td>\n",
              "      <td>writer</td>\n",
              "      <td>40206</td>\n",
              "    </tr>\n",
              "    <tr>\n",
              "      <th>22</th>\n",
              "      <td>23</td>\n",
              "      <td>30</td>\n",
              "      <td>F</td>\n",
              "      <td>artist</td>\n",
              "      <td>48197</td>\n",
              "    </tr>\n",
              "    <tr>\n",
              "      <th>23</th>\n",
              "      <td>24</td>\n",
              "      <td>21</td>\n",
              "      <td>F</td>\n",
              "      <td>artist</td>\n",
              "      <td>94533</td>\n",
              "    </tr>\n",
              "    <tr>\n",
              "      <th>24</th>\n",
              "      <td>25</td>\n",
              "      <td>39</td>\n",
              "      <td>M</td>\n",
              "      <td>engineer</td>\n",
              "      <td>55107</td>\n",
              "    </tr>\n",
              "    <tr>\n",
              "      <th>25</th>\n",
              "      <td>26</td>\n",
              "      <td>49</td>\n",
              "      <td>M</td>\n",
              "      <td>engineer</td>\n",
              "      <td>21044</td>\n",
              "    </tr>\n",
              "    <tr>\n",
              "      <th>26</th>\n",
              "      <td>27</td>\n",
              "      <td>40</td>\n",
              "      <td>F</td>\n",
              "      <td>librarian</td>\n",
              "      <td>30030</td>\n",
              "    </tr>\n",
              "    <tr>\n",
              "      <th>27</th>\n",
              "      <td>28</td>\n",
              "      <td>32</td>\n",
              "      <td>M</td>\n",
              "      <td>writer</td>\n",
              "      <td>55369</td>\n",
              "    </tr>\n",
              "    <tr>\n",
              "      <th>28</th>\n",
              "      <td>29</td>\n",
              "      <td>41</td>\n",
              "      <td>M</td>\n",
              "      <td>programmer</td>\n",
              "      <td>94043</td>\n",
              "    </tr>\n",
              "    <tr>\n",
              "      <th>29</th>\n",
              "      <td>30</td>\n",
              "      <td>7</td>\n",
              "      <td>M</td>\n",
              "      <td>student</td>\n",
              "      <td>55436</td>\n",
              "    </tr>\n",
              "    <tr>\n",
              "      <th>...</th>\n",
              "      <td>...</td>\n",
              "      <td>...</td>\n",
              "      <td>...</td>\n",
              "      <td>...</td>\n",
              "      <td>...</td>\n",
              "    </tr>\n",
              "    <tr>\n",
              "      <th>913</th>\n",
              "      <td>914</td>\n",
              "      <td>44</td>\n",
              "      <td>F</td>\n",
              "      <td>other</td>\n",
              "      <td>08105</td>\n",
              "    </tr>\n",
              "    <tr>\n",
              "      <th>914</th>\n",
              "      <td>915</td>\n",
              "      <td>50</td>\n",
              "      <td>M</td>\n",
              "      <td>entertainment</td>\n",
              "      <td>60614</td>\n",
              "    </tr>\n",
              "    <tr>\n",
              "      <th>915</th>\n",
              "      <td>916</td>\n",
              "      <td>27</td>\n",
              "      <td>M</td>\n",
              "      <td>engineer</td>\n",
              "      <td>N2L5N</td>\n",
              "    </tr>\n",
              "    <tr>\n",
              "      <th>916</th>\n",
              "      <td>917</td>\n",
              "      <td>22</td>\n",
              "      <td>F</td>\n",
              "      <td>student</td>\n",
              "      <td>20006</td>\n",
              "    </tr>\n",
              "    <tr>\n",
              "      <th>917</th>\n",
              "      <td>918</td>\n",
              "      <td>40</td>\n",
              "      <td>M</td>\n",
              "      <td>scientist</td>\n",
              "      <td>70116</td>\n",
              "    </tr>\n",
              "    <tr>\n",
              "      <th>918</th>\n",
              "      <td>919</td>\n",
              "      <td>25</td>\n",
              "      <td>M</td>\n",
              "      <td>other</td>\n",
              "      <td>14216</td>\n",
              "    </tr>\n",
              "    <tr>\n",
              "      <th>919</th>\n",
              "      <td>920</td>\n",
              "      <td>30</td>\n",
              "      <td>F</td>\n",
              "      <td>artist</td>\n",
              "      <td>90008</td>\n",
              "    </tr>\n",
              "    <tr>\n",
              "      <th>920</th>\n",
              "      <td>921</td>\n",
              "      <td>20</td>\n",
              "      <td>F</td>\n",
              "      <td>student</td>\n",
              "      <td>98801</td>\n",
              "    </tr>\n",
              "    <tr>\n",
              "      <th>921</th>\n",
              "      <td>922</td>\n",
              "      <td>29</td>\n",
              "      <td>F</td>\n",
              "      <td>administrator</td>\n",
              "      <td>21114</td>\n",
              "    </tr>\n",
              "    <tr>\n",
              "      <th>922</th>\n",
              "      <td>923</td>\n",
              "      <td>21</td>\n",
              "      <td>M</td>\n",
              "      <td>student</td>\n",
              "      <td>E2E3R</td>\n",
              "    </tr>\n",
              "    <tr>\n",
              "      <th>923</th>\n",
              "      <td>924</td>\n",
              "      <td>29</td>\n",
              "      <td>M</td>\n",
              "      <td>other</td>\n",
              "      <td>11753</td>\n",
              "    </tr>\n",
              "    <tr>\n",
              "      <th>924</th>\n",
              "      <td>925</td>\n",
              "      <td>18</td>\n",
              "      <td>F</td>\n",
              "      <td>salesman</td>\n",
              "      <td>49036</td>\n",
              "    </tr>\n",
              "    <tr>\n",
              "      <th>925</th>\n",
              "      <td>926</td>\n",
              "      <td>49</td>\n",
              "      <td>M</td>\n",
              "      <td>entertainment</td>\n",
              "      <td>01701</td>\n",
              "    </tr>\n",
              "    <tr>\n",
              "      <th>926</th>\n",
              "      <td>927</td>\n",
              "      <td>23</td>\n",
              "      <td>M</td>\n",
              "      <td>programmer</td>\n",
              "      <td>55428</td>\n",
              "    </tr>\n",
              "    <tr>\n",
              "      <th>927</th>\n",
              "      <td>928</td>\n",
              "      <td>21</td>\n",
              "      <td>M</td>\n",
              "      <td>student</td>\n",
              "      <td>55408</td>\n",
              "    </tr>\n",
              "    <tr>\n",
              "      <th>928</th>\n",
              "      <td>929</td>\n",
              "      <td>44</td>\n",
              "      <td>M</td>\n",
              "      <td>scientist</td>\n",
              "      <td>53711</td>\n",
              "    </tr>\n",
              "    <tr>\n",
              "      <th>929</th>\n",
              "      <td>930</td>\n",
              "      <td>28</td>\n",
              "      <td>F</td>\n",
              "      <td>scientist</td>\n",
              "      <td>07310</td>\n",
              "    </tr>\n",
              "    <tr>\n",
              "      <th>930</th>\n",
              "      <td>931</td>\n",
              "      <td>60</td>\n",
              "      <td>M</td>\n",
              "      <td>educator</td>\n",
              "      <td>33556</td>\n",
              "    </tr>\n",
              "    <tr>\n",
              "      <th>931</th>\n",
              "      <td>932</td>\n",
              "      <td>58</td>\n",
              "      <td>M</td>\n",
              "      <td>educator</td>\n",
              "      <td>06437</td>\n",
              "    </tr>\n",
              "    <tr>\n",
              "      <th>932</th>\n",
              "      <td>933</td>\n",
              "      <td>28</td>\n",
              "      <td>M</td>\n",
              "      <td>student</td>\n",
              "      <td>48105</td>\n",
              "    </tr>\n",
              "    <tr>\n",
              "      <th>933</th>\n",
              "      <td>934</td>\n",
              "      <td>61</td>\n",
              "      <td>M</td>\n",
              "      <td>engineer</td>\n",
              "      <td>22902</td>\n",
              "    </tr>\n",
              "    <tr>\n",
              "      <th>934</th>\n",
              "      <td>935</td>\n",
              "      <td>42</td>\n",
              "      <td>M</td>\n",
              "      <td>doctor</td>\n",
              "      <td>66221</td>\n",
              "    </tr>\n",
              "    <tr>\n",
              "      <th>935</th>\n",
              "      <td>936</td>\n",
              "      <td>24</td>\n",
              "      <td>M</td>\n",
              "      <td>other</td>\n",
              "      <td>32789</td>\n",
              "    </tr>\n",
              "    <tr>\n",
              "      <th>936</th>\n",
              "      <td>937</td>\n",
              "      <td>48</td>\n",
              "      <td>M</td>\n",
              "      <td>educator</td>\n",
              "      <td>98072</td>\n",
              "    </tr>\n",
              "    <tr>\n",
              "      <th>937</th>\n",
              "      <td>938</td>\n",
              "      <td>38</td>\n",
              "      <td>F</td>\n",
              "      <td>technician</td>\n",
              "      <td>55038</td>\n",
              "    </tr>\n",
              "    <tr>\n",
              "      <th>938</th>\n",
              "      <td>939</td>\n",
              "      <td>26</td>\n",
              "      <td>F</td>\n",
              "      <td>student</td>\n",
              "      <td>33319</td>\n",
              "    </tr>\n",
              "    <tr>\n",
              "      <th>939</th>\n",
              "      <td>940</td>\n",
              "      <td>32</td>\n",
              "      <td>M</td>\n",
              "      <td>administrator</td>\n",
              "      <td>02215</td>\n",
              "    </tr>\n",
              "    <tr>\n",
              "      <th>940</th>\n",
              "      <td>941</td>\n",
              "      <td>20</td>\n",
              "      <td>M</td>\n",
              "      <td>student</td>\n",
              "      <td>97229</td>\n",
              "    </tr>\n",
              "    <tr>\n",
              "      <th>941</th>\n",
              "      <td>942</td>\n",
              "      <td>48</td>\n",
              "      <td>F</td>\n",
              "      <td>librarian</td>\n",
              "      <td>78209</td>\n",
              "    </tr>\n",
              "    <tr>\n",
              "      <th>942</th>\n",
              "      <td>943</td>\n",
              "      <td>22</td>\n",
              "      <td>M</td>\n",
              "      <td>student</td>\n",
              "      <td>77841</td>\n",
              "    </tr>\n",
              "  </tbody>\n",
              "</table>\n",
              "<p>943 rows × 5 columns</p>\n",
              "</div>"
            ],
            "text/plain": [
              "     user_id  age gender     occupation zip_code\n",
              "0          1   24      M     technician    85711\n",
              "1          2   53      F          other    94043\n",
              "2          3   23      M         writer    32067\n",
              "3          4   24      M     technician    43537\n",
              "4          5   33      F          other    15213\n",
              "5          6   42      M      executive    98101\n",
              "6          7   57      M  administrator    91344\n",
              "7          8   36      M  administrator    05201\n",
              "8          9   29      M        student    01002\n",
              "9         10   53      M         lawyer    90703\n",
              "10        11   39      F          other    30329\n",
              "11        12   28      F          other    06405\n",
              "12        13   47      M       educator    29206\n",
              "13        14   45      M      scientist    55106\n",
              "14        15   49      F       educator    97301\n",
              "15        16   21      M  entertainment    10309\n",
              "16        17   30      M     programmer    06355\n",
              "17        18   35      F          other    37212\n",
              "18        19   40      M      librarian    02138\n",
              "19        20   42      F      homemaker    95660\n",
              "20        21   26      M         writer    30068\n",
              "21        22   25      M         writer    40206\n",
              "22        23   30      F         artist    48197\n",
              "23        24   21      F         artist    94533\n",
              "24        25   39      M       engineer    55107\n",
              "25        26   49      M       engineer    21044\n",
              "26        27   40      F      librarian    30030\n",
              "27        28   32      M         writer    55369\n",
              "28        29   41      M     programmer    94043\n",
              "29        30    7      M        student    55436\n",
              "..       ...  ...    ...            ...      ...\n",
              "913      914   44      F          other    08105\n",
              "914      915   50      M  entertainment    60614\n",
              "915      916   27      M       engineer    N2L5N\n",
              "916      917   22      F        student    20006\n",
              "917      918   40      M      scientist    70116\n",
              "918      919   25      M          other    14216\n",
              "919      920   30      F         artist    90008\n",
              "920      921   20      F        student    98801\n",
              "921      922   29      F  administrator    21114\n",
              "922      923   21      M        student    E2E3R\n",
              "923      924   29      M          other    11753\n",
              "924      925   18      F       salesman    49036\n",
              "925      926   49      M  entertainment    01701\n",
              "926      927   23      M     programmer    55428\n",
              "927      928   21      M        student    55408\n",
              "928      929   44      M      scientist    53711\n",
              "929      930   28      F      scientist    07310\n",
              "930      931   60      M       educator    33556\n",
              "931      932   58      M       educator    06437\n",
              "932      933   28      M        student    48105\n",
              "933      934   61      M       engineer    22902\n",
              "934      935   42      M         doctor    66221\n",
              "935      936   24      M          other    32789\n",
              "936      937   48      M       educator    98072\n",
              "937      938   38      F     technician    55038\n",
              "938      939   26      F        student    33319\n",
              "939      940   32      M  administrator    02215\n",
              "940      941   20      M        student    97229\n",
              "941      942   48      F      librarian    78209\n",
              "942      943   22      M        student    77841\n",
              "\n",
              "[943 rows x 5 columns]"
            ]
          },
          "metadata": {
            "tags": []
          },
          "execution_count": 369
        }
      ]
    }
  ]
}