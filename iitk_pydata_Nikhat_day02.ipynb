{
  "nbformat": 4,
  "nbformat_minor": 0,
  "metadata": {
    "colab": {
      "name": "iitk_pydata_Nikhat_day02.ipynb",
      "version": "0.3.2",
      "provenance": [],
      "collapsed_sections": [],
      "include_colab_link": true
    },
    "kernelspec": {
      "name": "python3",
      "display_name": "Python 3"
    }
  },
  "cells": [
    {
      "cell_type": "markdown",
      "metadata": {
        "id": "view-in-github",
        "colab_type": "text"
      },
      "source": [
        "<a href=\"https://colab.research.google.com/github/Nikhat24/myprofile/blob/master/iitk_pydata_Nikhat_day02.ipynb\" target=\"_parent\"><img src=\"https://colab.research.google.com/assets/colab-badge.svg\" alt=\"Open In Colab\"/></a>"
      ]
    },
    {
      "cell_type": "code",
      "metadata": {
        "id": "jqLvzMNeHvnv",
        "colab_type": "code",
        "outputId": "1337cdc0-8fae-4cc4-fd82-c1d1d2589bd1",
        "colab": {
          "base_uri": "https://localhost:8080/",
          "height": 34
        }
      },
      "source": [
        "'{1} {0}' .format('one', 'two')"
      ],
      "execution_count": 0,
      "outputs": [
        {
          "output_type": "execute_result",
          "data": {
            "text/plain": [
              "'two one'"
            ]
          },
          "metadata": {
            "tags": []
          },
          "execution_count": 5
        }
      ]
    },
    {
      "cell_type": "code",
      "metadata": {
        "id": "NUDDCN2hH9ao",
        "colab_type": "code",
        "outputId": "ea4020f6-366a-4b9e-ee02-45ed9728a112",
        "colab": {
          "base_uri": "https://localhost:8080/",
          "height": 34
        }
      },
      "source": [
        "'{:<15}'.format('Nikhat')"
      ],
      "execution_count": 0,
      "outputs": [
        {
          "output_type": "execute_result",
          "data": {
            "text/plain": [
              "'Nikhat         '"
            ]
          },
          "metadata": {
            "tags": []
          },
          "execution_count": 12
        }
      ]
    },
    {
      "cell_type": "code",
      "metadata": {
        "id": "GhSfKBmXJIL4",
        "colab_type": "code",
        "outputId": "c1dc9756-e2d5-42a8-fa7d-cda1bcd65364",
        "colab": {
          "base_uri": "https://localhost:8080/",
          "height": 34
        }
      },
      "source": [
        "x=['Nikhat','Ikram']\n",
        "\"\".join(x)"
      ],
      "execution_count": 0,
      "outputs": [
        {
          "output_type": "execute_result",
          "data": {
            "text/plain": [
              "'NikhatIkram'"
            ]
          },
          "metadata": {
            "tags": []
          },
          "execution_count": 14
        }
      ]
    },
    {
      "cell_type": "code",
      "metadata": {
        "id": "DU08JpIjKQ9P",
        "colab_type": "code",
        "outputId": "c78bd66f-9687-468b-b4e2-4f1caf550597",
        "colab": {
          "base_uri": "https://localhost:8080/",
          "height": 34
        }
      },
      "source": [
        "x=('hey', 'this', \"is\", 'Nikhat','Ikram')\n",
        "type(x[0])"
      ],
      "execution_count": 0,
      "outputs": [
        {
          "output_type": "execute_result",
          "data": {
            "text/plain": [
              "str"
            ]
          },
          "metadata": {
            "tags": []
          },
          "execution_count": 20
        }
      ]
    },
    {
      "cell_type": "code",
      "metadata": {
        "id": "S6Pj0ftzLKmb",
        "colab_type": "code",
        "outputId": "607ce414-736a-44b2-b44f-99f99ef34671",
        "colab": {
          "base_uri": "https://localhost:8080/",
          "height": 34
        }
      },
      "source": [
        "import datetime\n",
        "datetime_object=datetime.datetime.now()\n",
        "print (datetime_object)"
      ],
      "execution_count": 0,
      "outputs": [
        {
          "output_type": "stream",
          "text": [
            "2019-09-08 04:52:12.645991\n"
          ],
          "name": "stdout"
        }
      ]
    },
    {
      "cell_type": "code",
      "metadata": {
        "id": "ywU6tcFIN0wu",
        "colab_type": "code",
        "outputId": "16105ae6-0e68-41a5-dd60-17007b96dfc9",
        "colab": {
          "base_uri": "https://localhost:8080/",
          "height": 34
        }
      },
      "source": [
        "import time\n",
        "t= time.time()\n",
        "for i in range(100000):\n",
        "  z=i*i\n",
        "tt=time.time()\n",
        "print(tt-t)"
      ],
      "execution_count": 0,
      "outputs": [
        {
          "output_type": "stream",
          "text": [
            "0.018410444259643555\n"
          ],
          "name": "stdout"
        }
      ]
    },
    {
      "cell_type": "code",
      "metadata": {
        "id": "WiEYRBQ5Okds",
        "colab_type": "code",
        "outputId": "61216803-5409-4063-d927-d356f0e05ebf",
        "colab": {
          "base_uri": "https://localhost:8080/",
          "height": 34
        }
      },
      "source": [
        "time.time()"
      ],
      "execution_count": 0,
      "outputs": [
        {
          "output_type": "execute_result",
          "data": {
            "text/plain": [
              "1567918569.249936"
            ]
          },
          "metadata": {
            "tags": []
          },
          "execution_count": 25
        }
      ]
    },
    {
      "cell_type": "code",
      "metadata": {
        "id": "Xe3m-jH9Oy8l",
        "colab_type": "code",
        "colab": {}
      },
      "source": [
        "time.sleep(6)"
      ],
      "execution_count": 0,
      "outputs": []
    },
    {
      "cell_type": "code",
      "metadata": {
        "id": "oz_8TFYuPWvj",
        "colab_type": "code",
        "outputId": "2a88171e-094e-4276-8314-7f58706ef55b",
        "colab": {
          "base_uri": "https://localhost:8080/",
          "height": 34
        }
      },
      "source": [
        "time.localtime()"
      ],
      "execution_count": 0,
      "outputs": [
        {
          "output_type": "execute_result",
          "data": {
            "text/plain": [
              "time.struct_time(tm_year=2019, tm_mon=9, tm_mday=8, tm_hour=5, tm_min=2, tm_sec=7, tm_wday=6, tm_yday=251, tm_isdst=0)"
            ]
          },
          "metadata": {
            "tags": []
          },
          "execution_count": 30
        }
      ]
    },
    {
      "cell_type": "code",
      "metadata": {
        "id": "1YEl1YAvQAdG",
        "colab_type": "code",
        "outputId": "339d5561-45b0-4efd-9b62-132b507d517e",
        "colab": {
          "base_uri": "https://localhost:8080/",
          "height": 34
        }
      },
      "source": [
        "import datetime\n",
        "d=datetime.date(year=2009, month=10, day=7)\n",
        "t=datetime.datetime(year=2009, month=10, day=7, hour=8, minute=33, second=4)\n",
        "print(t)"
      ],
      "execution_count": 0,
      "outputs": [
        {
          "output_type": "stream",
          "text": [
            "2009-10-07 08:33:04\n"
          ],
          "name": "stdout"
        }
      ]
    },
    {
      "cell_type": "code",
      "metadata": {
        "id": "hrnokMx6Q1m8",
        "colab_type": "code",
        "outputId": "bb1cd44c-6867-4c43-91ab-2de530c4bf55",
        "colab": {
          "base_uri": "https://localhost:8080/",
          "height": 34
        }
      },
      "source": [
        "import datetime\n",
        "d=datetime.date(year=2009, month=10, day=7)\n",
        "t=datetime.date(year=2003, month=7, day=5)\n",
        "a=d-t\n",
        "#b=d+t\n",
        "print(a)\n",
        "#print(b)"
      ],
      "execution_count": 0,
      "outputs": [
        {
          "output_type": "stream",
          "text": [
            "2286 days, 0:00:00\n"
          ],
          "name": "stdout"
        }
      ]
    },
    {
      "cell_type": "code",
      "metadata": {
        "id": "ZdWdpiT-R731",
        "colab_type": "code",
        "outputId": "6deeb9ad-e73b-4739-9384-9001b13d7b0d",
        "colab": {
          "base_uri": "https://localhost:8080/",
          "height": 34
        }
      },
      "source": [
        "import datetime\n",
        "t1=datetime.datetime(year=2009, month=10, day=7, hour=8, minute=33, second=4)\n",
        "x=datetime.timedelta(days=2, hours=12)\n",
        "t1+x"
      ],
      "execution_count": 0,
      "outputs": [
        {
          "output_type": "execute_result",
          "data": {
            "text/plain": [
              "datetime.datetime(2009, 10, 9, 20, 33, 4)"
            ]
          },
          "metadata": {
            "tags": []
          },
          "execution_count": 45
        }
      ]
    },
    {
      "cell_type": "code",
      "metadata": {
        "id": "vfGoGCe5UOEF",
        "colab_type": "code",
        "outputId": "e0582ee2-ddc6-4865-ddb9-27475d92852b",
        "colab": {
          "base_uri": "https://localhost:8080/",
          "height": 34
        }
      },
      "source": [
        "t1.strftime(\"%d-%B-%Y/%H:%M:%S\")"
      ],
      "execution_count": 0,
      "outputs": [
        {
          "output_type": "execute_result",
          "data": {
            "text/plain": [
              "'07-October-2009/08:33:04'"
            ]
          },
          "metadata": {
            "tags": []
          },
          "execution_count": 47
        }
      ]
    },
    {
      "cell_type": "code",
      "metadata": {
        "id": "hTWizojIT56e",
        "colab_type": "code",
        "outputId": "72552234-08e4-4ac3-eb7b-3f608f0fe467",
        "colab": {
          "base_uri": "https://localhost:8080/",
          "height": 306
        }
      },
      "source": [
        "datetime.datetime.strptime(\"2000-06-05 23:00:00\", \"%Y-%B-%d %H:%M:%S\")"
      ],
      "execution_count": 0,
      "outputs": [
        {
          "output_type": "error",
          "ename": "ValueError",
          "evalue": "ignored",
          "traceback": [
            "\u001b[0;31m---------------------------------------------------------------------------\u001b[0m",
            "\u001b[0;31mValueError\u001b[0m                                Traceback (most recent call last)",
            "\u001b[0;32m<ipython-input-54-d64b5ed04076>\u001b[0m in \u001b[0;36m<module>\u001b[0;34m()\u001b[0m\n\u001b[0;32m----> 1\u001b[0;31m \u001b[0mdatetime\u001b[0m\u001b[0;34m.\u001b[0m\u001b[0mdatetime\u001b[0m\u001b[0;34m.\u001b[0m\u001b[0mstrptime\u001b[0m\u001b[0;34m(\u001b[0m\u001b[0;34m\"2000-06-05 23:00:00\"\u001b[0m\u001b[0;34m,\u001b[0m \u001b[0;34m\"%Y-%B-%d %H:%M:%S\"\u001b[0m\u001b[0;34m)\u001b[0m\u001b[0;34m\u001b[0m\u001b[0;34m\u001b[0m\u001b[0m\n\u001b[0m",
            "\u001b[0;32m/usr/lib/python3.6/_strptime.py\u001b[0m in \u001b[0;36m_strptime_datetime\u001b[0;34m(cls, data_string, format)\u001b[0m\n\u001b[1;32m    563\u001b[0m     \"\"\"Return a class cls instance based on the input string and the\n\u001b[1;32m    564\u001b[0m     format string.\"\"\"\n\u001b[0;32m--> 565\u001b[0;31m     \u001b[0mtt\u001b[0m\u001b[0;34m,\u001b[0m \u001b[0mfraction\u001b[0m \u001b[0;34m=\u001b[0m \u001b[0m_strptime\u001b[0m\u001b[0;34m(\u001b[0m\u001b[0mdata_string\u001b[0m\u001b[0;34m,\u001b[0m \u001b[0mformat\u001b[0m\u001b[0;34m)\u001b[0m\u001b[0;34m\u001b[0m\u001b[0;34m\u001b[0m\u001b[0m\n\u001b[0m\u001b[1;32m    566\u001b[0m     \u001b[0mtzname\u001b[0m\u001b[0;34m,\u001b[0m \u001b[0mgmtoff\u001b[0m \u001b[0;34m=\u001b[0m \u001b[0mtt\u001b[0m\u001b[0;34m[\u001b[0m\u001b[0;34m-\u001b[0m\u001b[0;36m2\u001b[0m\u001b[0;34m:\u001b[0m\u001b[0;34m]\u001b[0m\u001b[0;34m\u001b[0m\u001b[0;34m\u001b[0m\u001b[0m\n\u001b[1;32m    567\u001b[0m     \u001b[0margs\u001b[0m \u001b[0;34m=\u001b[0m \u001b[0mtt\u001b[0m\u001b[0;34m[\u001b[0m\u001b[0;34m:\u001b[0m\u001b[0;36m6\u001b[0m\u001b[0;34m]\u001b[0m \u001b[0;34m+\u001b[0m \u001b[0;34m(\u001b[0m\u001b[0mfraction\u001b[0m\u001b[0;34m,\u001b[0m\u001b[0;34m)\u001b[0m\u001b[0;34m\u001b[0m\u001b[0;34m\u001b[0m\u001b[0m\n",
            "\u001b[0;32m/usr/lib/python3.6/_strptime.py\u001b[0m in \u001b[0;36m_strptime\u001b[0;34m(data_string, format)\u001b[0m\n\u001b[1;32m    360\u001b[0m     \u001b[0;32mif\u001b[0m \u001b[0;32mnot\u001b[0m \u001b[0mfound\u001b[0m\u001b[0;34m:\u001b[0m\u001b[0;34m\u001b[0m\u001b[0;34m\u001b[0m\u001b[0m\n\u001b[1;32m    361\u001b[0m         raise ValueError(\"time data %r does not match format %r\" %\n\u001b[0;32m--> 362\u001b[0;31m                          (data_string, format))\n\u001b[0m\u001b[1;32m    363\u001b[0m     \u001b[0;32mif\u001b[0m \u001b[0mlen\u001b[0m\u001b[0;34m(\u001b[0m\u001b[0mdata_string\u001b[0m\u001b[0;34m)\u001b[0m \u001b[0;34m!=\u001b[0m \u001b[0mfound\u001b[0m\u001b[0;34m.\u001b[0m\u001b[0mend\u001b[0m\u001b[0;34m(\u001b[0m\u001b[0;34m)\u001b[0m\u001b[0;34m:\u001b[0m\u001b[0;34m\u001b[0m\u001b[0;34m\u001b[0m\u001b[0m\n\u001b[1;32m    364\u001b[0m         raise ValueError(\"unconverted data remains: %s\" %\n",
            "\u001b[0;31mValueError\u001b[0m: time data '2000-06-05 23:00:00' does not match format '%Y-%B-%d %H:%M:%S'"
          ]
        }
      ]
    },
    {
      "cell_type": "code",
      "metadata": {
        "id": "z5hD3d3fV-mx",
        "colab_type": "code",
        "outputId": "d9a4ec08-05b6-4eec-b063-af093f2cc383",
        "colab": {
          "base_uri": "https://localhost:8080/",
          "height": 221
        }
      },
      "source": [
        "from pytz import all_timezones\n",
        "\n",
        "for zone in all_timezones:\n",
        "  if 'US' in zone:\n",
        "    print (zone)"
      ],
      "execution_count": 0,
      "outputs": [
        {
          "output_type": "stream",
          "text": [
            "US/Alaska\n",
            "US/Aleutian\n",
            "US/Arizona\n",
            "US/Central\n",
            "US/East-Indiana\n",
            "US/Eastern\n",
            "US/Hawaii\n",
            "US/Indiana-Starke\n",
            "US/Michigan\n",
            "US/Mountain\n",
            "US/Pacific\n",
            "US/Samoa\n"
          ],
          "name": "stdout"
        }
      ]
    },
    {
      "cell_type": "code",
      "metadata": {
        "id": "oKIC4qlQWkZI",
        "colab_type": "code",
        "outputId": "834f0000-12a8-472e-cd3e-9b7ea1b3fde6",
        "colab": {
          "base_uri": "https://localhost:8080/",
          "height": 238
        }
      },
      "source": [
        "from pytz import all_timezones\n",
        "print (len(all_timezones))\n",
        "for zone in all_timezones:\n",
        "  if 'US' in zone:\n",
        "    print (zone)"
      ],
      "execution_count": 0,
      "outputs": [
        {
          "output_type": "stream",
          "text": [
            "592\n",
            "US/Alaska\n",
            "US/Aleutian\n",
            "US/Arizona\n",
            "US/Central\n",
            "US/East-Indiana\n",
            "US/Eastern\n",
            "US/Hawaii\n",
            "US/Indiana-Starke\n",
            "US/Michigan\n",
            "US/Mountain\n",
            "US/Pacific\n",
            "US/Samoa\n"
          ],
          "name": "stdout"
        }
      ]
    },
    {
      "cell_type": "code",
      "metadata": {
        "id": "bhjzuv2uXMcz",
        "colab_type": "code",
        "outputId": "141a1c8c-1cc0-4145-94a6-db63d121c7c4",
        "colab": {
          "base_uri": "https://localhost:8080/",
          "height": 34
        }
      },
      "source": [
        "pip install numpy"
      ],
      "execution_count": 0,
      "outputs": [
        {
          "output_type": "stream",
          "text": [
            "Requirement already satisfied: numpy in /usr/local/lib/python3.6/dist-packages (1.16.5)\n"
          ],
          "name": "stdout"
        }
      ]
    },
    {
      "cell_type": "code",
      "metadata": {
        "id": "QZi2PvwCb8Dj",
        "colab_type": "code",
        "outputId": "a6739c43-2f59-446b-bbb4-c17420e1c191",
        "colab": {
          "base_uri": "https://localhost:8080/",
          "height": 68
        }
      },
      "source": [
        "import datetime\n",
        "x=datetime.datetime.now()\n",
        "print(x.year)\n",
        "print(x.month)\n",
        "print(x.strftime(\"%A\"))"
      ],
      "execution_count": 0,
      "outputs": [
        {
          "output_type": "stream",
          "text": [
            "2019\n",
            "9\n",
            "Sunday\n"
          ],
          "name": "stdout"
        }
      ]
    },
    {
      "cell_type": "code",
      "metadata": {
        "id": "tI00GDbAcieu",
        "colab_type": "code",
        "outputId": "6e9acc39-5c5f-4af6-8bde-9ad392f46dbe",
        "colab": {
          "base_uri": "https://localhost:8080/",
          "height": 34
        }
      },
      "source": [
        "import random\n",
        "random.randint(2,53)"
      ],
      "execution_count": 0,
      "outputs": [
        {
          "output_type": "execute_result",
          "data": {
            "text/plain": [
              "29"
            ]
          },
          "metadata": {
            "tags": []
          },
          "execution_count": 67
        }
      ]
    },
    {
      "cell_type": "code",
      "metadata": {
        "id": "BR7TUPNrl1Tq",
        "colab_type": "code",
        "outputId": "b3a6bb07-ac98-46c2-8f40-9f13f11ee281",
        "colab": {
          "base_uri": "https://localhost:8080/",
          "height": 34
        }
      },
      "source": [
        "random.random()*100\n"
      ],
      "execution_count": 0,
      "outputs": [
        {
          "output_type": "execute_result",
          "data": {
            "text/plain": [
              "21.742471290949595"
            ]
          },
          "metadata": {
            "tags": []
          },
          "execution_count": 70
        }
      ]
    },
    {
      "cell_type": "code",
      "metadata": {
        "id": "sjkMl7T1mPL3",
        "colab_type": "code",
        "outputId": "b76fd2c3-038b-44d5-f3d3-3121bc22e924",
        "colab": {
          "base_uri": "https://localhost:8080/",
          "height": 51
        }
      },
      "source": [
        "class Car:\n",
        "  def __init__(self,make,model,year,color):\n",
        "    self.make=make\n",
        "    self.model=model\n",
        "    self.year=year\n",
        "    self.color=color\n",
        "    self.position=0\n",
        "    self.speed=0\n",
        "    self.fuellevel=100\n",
        "    self.state=\"stopped\"\n",
        "     \n",
        "  def start(self):\n",
        "    self.state=\"started\"\n",
        "    \n",
        "  def accelerate(self,rate,time):\n",
        "    if self.state in[\"started\", \"running\"]:\n",
        "      self.speed= self.speed+ rate *time\n",
        "      self.position= self.position+(rate*time*time/2)\n",
        "    else:\n",
        "      pass\n",
        "   \n",
        "  def decelerate(self,rate,time):\n",
        "      if self.speed>0:\n",
        "        self.speed= self.speed- rate *time\n",
        "        self.position= self.position+(self.speed*time+(rate*time*time/2))\n",
        "      else:\n",
        "        pass\n",
        "      \n",
        "mycar=Car(\"maruti\", \"Dezire\", 2015, \"Gray\")\n",
        "mycar.start()\n",
        "mycar.accelerate(2.5, 10)\n",
        "print(mycar.speed, mycar.position)\n",
        "mycar.decelerate(2.5, 10)\n",
        "print(mycar.speed, mycar.position)"
      ],
      "execution_count": 0,
      "outputs": [
        {
          "output_type": "stream",
          "text": [
            "25.0 125.0\n",
            "0.0 250.0\n"
          ],
          "name": "stdout"
        }
      ]
    },
    {
      "cell_type": "code",
      "metadata": {
        "id": "VOcbCrJJvZrB",
        "colab_type": "code",
        "outputId": "ed83f849-ea63-4797-9549-e4f5d82a686a",
        "colab": {
          "base_uri": "https://localhost:8080/",
          "height": 367
        }
      },
      "source": [
        "import datetime\n",
        "import string\n",
        "import riak\n",
        "\n",
        "nikhat = {'user_name': 'nikhatmgr',\n",
        "           'full_name': 'Nikhat Manager',\n",
        "           'email': 'nikhat.manager@riak.com'}\n",
        "\n",
        "rahul = {'user_name': 'rahuluser',\n",
        "       'full_name': 'Rahul User',\n",
        "       'email': 'rahul.user@riak.com'}\n",
        "\n",
        "msg = {'sender': nikhat['user_name'],\n",
        "       'recipient': rahul['user_name'],\n",
        "       'created': datetime.utcnow().isoformat(),\n",
        "       'text': 'Welcome to the company!'}"
      ],
      "execution_count": 0,
      "outputs": [
        {
          "output_type": "error",
          "ename": "ModuleNotFoundError",
          "evalue": "ignored",
          "traceback": [
            "\u001b[0;31m---------------------------------------------------------------------------\u001b[0m",
            "\u001b[0;31mModuleNotFoundError\u001b[0m                       Traceback (most recent call last)",
            "\u001b[0;32m<ipython-input-80-d347acee67e5>\u001b[0m in \u001b[0;36m<module>\u001b[0;34m()\u001b[0m\n\u001b[1;32m      1\u001b[0m \u001b[0;32mimport\u001b[0m \u001b[0mdatetime\u001b[0m\u001b[0;34m\u001b[0m\u001b[0;34m\u001b[0m\u001b[0m\n\u001b[1;32m      2\u001b[0m \u001b[0;32mimport\u001b[0m \u001b[0mstring\u001b[0m\u001b[0;34m\u001b[0m\u001b[0;34m\u001b[0m\u001b[0m\n\u001b[0;32m----> 3\u001b[0;31m \u001b[0;32mimport\u001b[0m \u001b[0mriak\u001b[0m\u001b[0;34m\u001b[0m\u001b[0;34m\u001b[0m\u001b[0m\n\u001b[0m\u001b[1;32m      4\u001b[0m \u001b[0;34m\u001b[0m\u001b[0m\n\u001b[1;32m      5\u001b[0m nikhat = {'user_name': 'nikhatmgr',\n",
            "\u001b[0;31mModuleNotFoundError\u001b[0m: No module named 'riak'",
            "",
            "\u001b[0;31m---------------------------------------------------------------------------\u001b[0;32m\nNOTE: If your import is failing due to a missing package, you can\nmanually install dependencies using either !pip or !apt.\n\nTo view examples of installing some common dependencies, click the\n\"Open Examples\" button below.\n\u001b[0;31m---------------------------------------------------------------------------\u001b[0m\n"
          ]
        }
      ]
    },
    {
      "cell_type": "code",
      "metadata": {
        "id": "_csJwbN5wTnh",
        "colab_type": "code",
        "outputId": "8710c817-873f-4973-efe3-d2e9877daa8b",
        "colab": {
          "base_uri": "https://localhost:8080/",
          "height": 513
        }
      },
      "source": [
        "pip install riak"
      ],
      "execution_count": 0,
      "outputs": [
        {
          "output_type": "stream",
          "text": [
            "Collecting riak\n",
            "\u001b[?25l  Downloading https://files.pythonhosted.org/packages/85/f5/1a571ddc68f1dc7148f083f25210b7c7de8a9bc69d0ea5683ca6f3c189a9/riak-2.7.0.tar.gz (194kB)\n",
            "\u001b[K     |████████████████████████████████| 194kB 4.9MB/s \n",
            "\u001b[?25hRequirement already satisfied: six>=1.8.0 in /usr/local/lib/python3.6/dist-packages (from riak) (1.12.0)\n",
            "Collecting basho_erlastic>=2.1.1 (from riak)\n",
            "  Downloading https://files.pythonhosted.org/packages/f1/2a/f1c47fa0f03f5c7ef7550d23631fe4dc904259e3a2fe8b56fa9d79be9629/basho-erlastic-2.1.1.tar.gz\n",
            "Collecting python3_protobuf<2.6.0,>=2.4.1 (from riak)\n",
            "\u001b[?25l  Downloading https://files.pythonhosted.org/packages/7d/81/80e6973aa1ff38599b40e2c9db86478b239039654230c9d91be8b29c82d1/python3-protobuf-2.5.0.tar.gz (69kB)\n",
            "\u001b[K     |████████████████████████████████| 71kB 19.8MB/s \n",
            "\u001b[?25hRequirement already satisfied: setuptools in /usr/local/lib/python3.6/dist-packages (from python3_protobuf<2.6.0,>=2.4.1->riak) (41.2.0)\n",
            "Building wheels for collected packages: riak, basho-erlastic, python3-protobuf\n",
            "  Building wheel for riak (setup.py) ... \u001b[?25l\u001b[?25hdone\n",
            "  Created wheel for riak: filename=riak-2.7.0-cp36-none-any.whl size=198706 sha256=0ef2be8977ebb1311b8234a1bedeb96d39a19d5190f2ab2a5558d8d0bfea47c3\n",
            "  Stored in directory: /root/.cache/pip/wheels/c9/13/d4/3d36b7a6f25e152d28fdfeb3c2cc4eece7e05eb172e19f63db\n",
            "  Building wheel for basho-erlastic (setup.py) ... \u001b[?25l\u001b[?25hdone\n",
            "  Created wheel for basho-erlastic: filename=basho_erlastic-2.1.1-cp36-none-any.whl size=8295 sha256=29da20d2033071c50553f8e0b0b43507e26cb05425fa11269a8d6bffcaa101e4\n",
            "  Stored in directory: /root/.cache/pip/wheels/55/e5/b5/4db4171582c5e6a137296438253bd75e850caf27ffc5fe88a4\n",
            "  Building wheel for python3-protobuf (setup.py) ... \u001b[?25l\u001b[?25hdone\n",
            "  Created wheel for python3-protobuf: filename=python3_protobuf-2.5.0-cp36-none-any.whl size=91871 sha256=4f5901e5e945923b5b14421965cba447b5c9f2efadefad7467aa23bc9bbfd6ca\n",
            "  Stored in directory: /root/.cache/pip/wheels/f0/a5/db/2708b1b2aee7af9b88bea918cc464399d7a9d94c4e55618808\n",
            "Successfully built riak basho-erlastic python3-protobuf\n",
            "Installing collected packages: basho-erlastic, python3-protobuf, riak\n",
            "Successfully installed basho-erlastic-2.1.1 python3-protobuf-2.5.0 riak-2.7.0\n"
          ],
          "name": "stdout"
        },
        {
          "output_type": "display_data",
          "data": {
            "application/vnd.colab-display-data+json": {
              "pip_warning": {
                "packages": [
                  "google"
                ]
              }
            }
          },
          "metadata": {
            "tags": []
          }
        }
      ]
    },
    {
      "cell_type": "code",
      "metadata": {
        "id": "7Knpj7pfwnpk",
        "colab_type": "code",
        "colab": {}
      },
      "source": [
        "from datetime import datetime\n",
        "import string\n",
        "import riak\n",
        "\n",
        "nikhat = {'user_name': 'nikhatmgr',\n",
        "           'full_name': 'Nikhat Manager',\n",
        "           'email': 'nk24786@gmail.com'}\n",
        "\n",
        "rajat = {'user_name': 'rahuluser',\n",
        "       'full_name': 'Rahul User',\n",
        "       'email': 'rajatverma310795@gmail.com'}\n",
        "\n",
        "msg = {'sender': nikhat['user_name'],\n",
        "       'recipient': rajat['user_name'],\n",
        "       'created': datetime.utcnow().isoformat(),\n",
        "       'text': 'Welcome to the company!'}"
      ],
      "execution_count": 0,
      "outputs": []
    },
    {
      "cell_type": "code",
      "metadata": {
        "id": "QyGQ4aPyxtjL",
        "colab_type": "code",
        "outputId": "dc5f0022-f6c6-4573-d996-d64c53fcb45b",
        "colab": {
          "base_uri": "https://localhost:8080/",
          "height": 187
        }
      },
      "source": [
        "import random\n",
        "class Car:\n",
        "  def __init__(self,make, num_plate):\n",
        "    self.make= make\n",
        "    self.num_plate= num_plate\n",
        "    self.pos=0\n",
        "  def accelerate (self, rate,time):\n",
        "    self.pos= self.pos + (rate*time*time * 0.5)\n",
        "    \n",
        "  def __repr__(self):\n",
        "    return self.make + '|' + str(self.pos)\n",
        "\n",
        "\n",
        "brands= ['Maruti', 'Hyundai', 'Honda', 'Mahindra', 'Audi', 'Tata']\n",
        "my_cars= []\n",
        "for i in range (0,10):\n",
        "  b= random.choice(brands)\n",
        "  c= Car(b,i)\n",
        "  my_cars.append(c)\n",
        "  c.accelerate(random.randint(0,10), random.randint(10,60))\n",
        "sorted(my_cars, key= lambda c: c.pos, reverse= True)"
      ],
      "execution_count": 0,
      "outputs": [
        {
          "output_type": "execute_result",
          "data": {
            "text/plain": [
              "[Audi|10976.0,\n",
              " Hyundai|3610.0,\n",
              " Honda|3364.0,\n",
              " Tata|2890.0,\n",
              " Honda|2178.0,\n",
              " Honda|1822.5,\n",
              " Maruti|1568.0,\n",
              " Mahindra|900.0,\n",
              " Tata|793.5,\n",
              " Maruti|264.5]"
            ]
          },
          "metadata": {
            "tags": []
          },
          "execution_count": 10
        }
      ]
    },
    {
      "cell_type": "code",
      "metadata": {
        "id": "Ay-f0yMJFh2b",
        "colab_type": "code",
        "outputId": "a1dfa31e-d6c1-4d90-bcec-3bd2f60c7b6c",
        "colab": {
          "base_uri": "https://localhost:8080/",
          "height": 70
        }
      },
      "source": [
        "class Music_Library:\n",
        "  def __init__(self,artist, album, song):\n",
        "    self.artist=artist\n",
        "    self.album=album\n",
        "    self.song=song\n",
        "x=Music_Library(\"Arman Malik\", \"Love\", \"Ghar se nikalte hi\")\n",
        "print(x.artist)\n",
        "print(x.album)\n",
        "print(x.song)\n"
      ],
      "execution_count": 0,
      "outputs": [
        {
          "output_type": "stream",
          "text": [
            "Arman Malik\n",
            "Love\n",
            "Ghar se nikalte hi\n"
          ],
          "name": "stdout"
        }
      ]
    },
    {
      "cell_type": "code",
      "metadata": {
        "id": "t2Q7DiO2K220",
        "colab_type": "code",
        "outputId": "58ffdd97-4c5b-4319-807b-a52a5cc4eae9",
        "colab": {
          "base_uri": "https://localhost:8080/",
          "height": 238
        }
      },
      "source": [
        "class Music_Library:\n",
        "    class Art:\n",
        "      def __init__(self,artist, album, song):\n",
        "        self.artist=artist\n",
        "        self.album=album\n",
        "        self.song=song\n",
        "x=Art(\"Armaan\", \"Love\", \"Ghar se nikalte hi\")\n",
        "      \n",
        "print(x.artist)\n",
        "print(x.album)\n",
        "print(x.song)\n",
        "      \n",
        "class Playlist:\n",
        "    def __init__(self,song_name, album):\n",
        "      self.song_name=song_name\n",
        "      self.song=song\n",
        "y=Playlist(\"akhbaar\", \"Akhbaar\")\n",
        "print(y.song_name)\n",
        "print(y.album)\n",
        "      "
      ],
      "execution_count": 0,
      "outputs": [
        {
          "output_type": "error",
          "ename": "NameError",
          "evalue": "ignored",
          "traceback": [
            "\u001b[0;31m---------------------------------------------------------------------------\u001b[0m",
            "\u001b[0;31mNameError\u001b[0m                                 Traceback (most recent call last)",
            "\u001b[0;32m<ipython-input-38-3d439cb7a1ab>\u001b[0m in \u001b[0;36m<module>\u001b[0;34m()\u001b[0m\n\u001b[1;32m      5\u001b[0m         \u001b[0mself\u001b[0m\u001b[0;34m.\u001b[0m\u001b[0malbum\u001b[0m\u001b[0;34m=\u001b[0m\u001b[0malbum\u001b[0m\u001b[0;34m\u001b[0m\u001b[0;34m\u001b[0m\u001b[0m\n\u001b[1;32m      6\u001b[0m         \u001b[0mself\u001b[0m\u001b[0;34m.\u001b[0m\u001b[0msong\u001b[0m\u001b[0;34m=\u001b[0m\u001b[0msong\u001b[0m\u001b[0;34m\u001b[0m\u001b[0;34m\u001b[0m\u001b[0m\n\u001b[0;32m----> 7\u001b[0;31m \u001b[0mx\u001b[0m\u001b[0;34m=\u001b[0m\u001b[0mArt\u001b[0m\u001b[0;34m(\u001b[0m\u001b[0;34m\"Armaan\"\u001b[0m\u001b[0;34m,\u001b[0m \u001b[0;34m\"Love\"\u001b[0m\u001b[0;34m,\u001b[0m \u001b[0;34m\"Ghar se nikalte hi\"\u001b[0m\u001b[0;34m)\u001b[0m\u001b[0;34m\u001b[0m\u001b[0;34m\u001b[0m\u001b[0m\n\u001b[0m\u001b[1;32m      8\u001b[0m \u001b[0;34m\u001b[0m\u001b[0m\n\u001b[1;32m      9\u001b[0m \u001b[0mprint\u001b[0m\u001b[0;34m(\u001b[0m\u001b[0mx\u001b[0m\u001b[0;34m.\u001b[0m\u001b[0martist\u001b[0m\u001b[0;34m)\u001b[0m\u001b[0;34m\u001b[0m\u001b[0;34m\u001b[0m\u001b[0m\n",
            "\u001b[0;31mNameError\u001b[0m: name 'Art' is not defined"
          ]
        }
      ]
    },
    {
      "cell_type": "code",
      "metadata": {
        "id": "xvv8RIldJwYh",
        "colab_type": "code",
        "colab": {}
      },
      "source": [
        "class Person(object):                                        #Mixin\n",
        "  def __init__(self, name,surname, number):\n",
        "    self.name = name\n",
        "    self.surname  = surname\n",
        "    self.number = number\n",
        "    super(Person,self).__init__()\n",
        "\n",
        "class LearnerMixin(object):\n",
        "  def __init__(self):\n",
        "    self.classes = []\n",
        "    super(LearnerMixin, self).__init__()\n",
        "  def enrol(self,course):\n",
        "    self.classes.append(course)\n",
        "    \n",
        "class TeacherMixin(object):\n",
        "  def __init__(self):\n",
        "    self.courses_taught = []\n",
        "  def assign_teaching(self,course):\n",
        "    self.courses_taught.append(course)\n",
        "    \n",
        "class Tutor(Person, LearnerMixin, TeacherMixin):\n",
        "  def __init__(self,*args,**kwargs):\n",
        "    super(Tutor, self).__init__(*args,**kwargs)\n",
        "    \n",
        "ram = Tutor(\"Ram\", \"Kumar\", \"0001\")\n",
        "ram.enrol(\"amazon web services\")\n",
        "ram.assign_teaching(\"intro to python\")\n"
      ],
      "execution_count": 0,
      "outputs": []
    },
    {
      "cell_type": "code",
      "metadata": {
        "id": "tLJG3AE1O0TH",
        "colab_type": "code",
        "outputId": "f7ee1f49-6f87-4322-cab4-4a79f22121ea",
        "colab": {
          "base_uri": "https://localhost:8080/",
          "height": 238
        }
      },
      "source": [
        "class Person:\n",
        "    def __init__(self, salary):\n",
        "        self.salary = salary\n",
        "        print\n",
        "        \n",
        "class Employee(Person):\n",
        "    def __init__(self, name, gender, salary):\n",
        "        self.name = name\n",
        "        self.gender = gender\n",
        "        self.salary = salary\n",
        "        Person.__init__(self, '2500')\n",
        "          \n",
        "class SecGuard(Person):\n",
        "    def __init__(self, name, gender, salary):\n",
        "        Employee.__init__(self, name, gender, salary)\n",
        "        Person.__init__(self, '34000')\n",
        "    \n",
        "\n",
        "class Lecturer(Employee):\n",
        "    def __init__(self, name, gender, salary):\n",
        "        Employee.__init__(self, name, gender, salary)\n",
        "        Person.__init__(self, '1400000')\n",
        "        \n",
        "ob=Person()\n",
        "ob.printstrs()\n",
        "\n"
      ],
      "execution_count": 0,
      "outputs": [
        {
          "output_type": "error",
          "ename": "TypeError",
          "evalue": "ignored",
          "traceback": [
            "\u001b[0;31m---------------------------------------------------------------------------\u001b[0m",
            "\u001b[0;31mTypeError\u001b[0m                                 Traceback (most recent call last)",
            "\u001b[0;32m<ipython-input-49-a4191e8270ff>\u001b[0m in \u001b[0;36m<module>\u001b[0;34m()\u001b[0m\n\u001b[1;32m     21\u001b[0m         \u001b[0mPerson\u001b[0m\u001b[0;34m.\u001b[0m\u001b[0m__init__\u001b[0m\u001b[0;34m(\u001b[0m\u001b[0mself\u001b[0m\u001b[0;34m,\u001b[0m \u001b[0;34m'1400000'\u001b[0m\u001b[0;34m)\u001b[0m\u001b[0;34m\u001b[0m\u001b[0;34m\u001b[0m\u001b[0m\n\u001b[1;32m     22\u001b[0m \u001b[0;34m\u001b[0m\u001b[0m\n\u001b[0;32m---> 23\u001b[0;31m \u001b[0mob\u001b[0m\u001b[0;34m=\u001b[0m\u001b[0mPerson\u001b[0m\u001b[0;34m(\u001b[0m\u001b[0;34m)\u001b[0m\u001b[0;34m\u001b[0m\u001b[0;34m\u001b[0m\u001b[0m\n\u001b[0m\u001b[1;32m     24\u001b[0m \u001b[0mob\u001b[0m\u001b[0;34m.\u001b[0m\u001b[0mprintstrs\u001b[0m\u001b[0;34m(\u001b[0m\u001b[0;34m)\u001b[0m\u001b[0;34m\u001b[0m\u001b[0;34m\u001b[0m\u001b[0m\n\u001b[1;32m     25\u001b[0m \u001b[0;34m\u001b[0m\u001b[0m\n",
            "\u001b[0;31mTypeError\u001b[0m: __init__() missing 1 required positional argument: 'salary'"
          ]
        }
      ]
    },
    {
      "cell_type": "code",
      "metadata": {
        "id": "8hUQz1yqRAda",
        "colab_type": "code",
        "outputId": "ed7bbfd2-bfb2-4d57-a2f9-407ef9e4aa40",
        "colab": {
          "base_uri": "https://localhost:8080/",
          "height": 34
        }
      },
      "source": [
        "class Person:\n",
        "  def __init__(self, fname, lname):\n",
        "    self.firstname = fname\n",
        "    self.lastname = lname\n",
        "\n",
        "  def printname(self):\n",
        "    print(self.firstname, self.lastname)\n",
        "\n",
        "x = Person(\"Nikhat\", \"Ikram\")\n",
        "x.printname()\n"
      ],
      "execution_count": 0,
      "outputs": [
        {
          "output_type": "stream",
          "text": [
            "Nikhat Ikram\n"
          ],
          "name": "stdout"
        }
      ]
    },
    {
      "cell_type": "code",
      "metadata": {
        "id": "MvqY1Srtc4OT",
        "colab_type": "code",
        "colab": {}
      },
      "source": [
        "def fooBar():\n",
        "  print(\"fooBar\")"
      ],
      "execution_count": 0,
      "outputs": []
    },
    {
      "cell_type": "code",
      "metadata": {
        "id": "W-Q43HK_dBmD",
        "colab_type": "code",
        "outputId": "a094a292-a752-4c80-b383-2f00844e8ccf",
        "colab": {
          "base_uri": "https://localhost:8080/",
          "height": 34
        }
      },
      "source": [
        "fooBar()"
      ],
      "execution_count": 0,
      "outputs": [
        {
          "output_type": "stream",
          "text": [
            "fooBar\n"
          ],
          "name": "stdout"
        }
      ]
    },
    {
      "cell_type": "code",
      "metadata": {
        "id": "w-C1SNfydFPP",
        "colab_type": "code",
        "outputId": "50674bce-80b2-45fd-9b5c-e3d9bde39af5",
        "colab": {
          "base_uri": "https://localhost:8080/",
          "height": 70
        }
      },
      "source": [
        "def fooBar():\n",
        "  print(\"fooBar\")\n",
        "def my_decorator(passedFunc):\n",
        "  def wrapper_my_dec():\n",
        "    print(\"Befr func is passed\")\n",
        "    passedFunc()\n",
        "    print(\"After func is passed\")\n",
        "  return wrapper_my_dec\n",
        "fooBar =my_decorator(fooBar)\n",
        "fooBar()"
      ],
      "execution_count": 0,
      "outputs": [
        {
          "output_type": "stream",
          "text": [
            "Befr func is passed\n",
            "fooBar\n",
            "After func is passed\n"
          ],
          "name": "stdout"
        }
      ]
    },
    {
      "cell_type": "code",
      "metadata": {
        "id": "GUW2UDShdoNS",
        "colab_type": "code",
        "colab": {}
      },
      "source": [
        "import time\n",
        "def sleeper(func):\n",
        "  def wrapper_sleeper_dec():\n",
        "    time.sleep(5)\n",
        "    func()\n",
        "  return wrapper_sleeper_dec\n",
        "@sleeper\n",
        "def anyOtherFunction():\n",
        "  print(\"Output after 5 seconds\")\n",
        "  \n"
      ],
      "execution_count": 0,
      "outputs": []
    },
    {
      "cell_type": "code",
      "metadata": {
        "id": "h5bQPZZahPvo",
        "colab_type": "code",
        "outputId": "ffd7d427-bc09-4639-c6c4-b96d197adb35",
        "colab": {
          "base_uri": "https://localhost:8080/",
          "height": 34
        }
      },
      "source": [
        "anyOtherFunction()"
      ],
      "execution_count": 0,
      "outputs": [
        {
          "output_type": "stream",
          "text": [
            "Output after 5 seconds\n"
          ],
          "name": "stdout"
        }
      ]
    },
    {
      "cell_type": "code",
      "metadata": {
        "id": "mU26nUa2iDKg",
        "colab_type": "code",
        "outputId": "b54e8843-e730-4d08-8a05-7748637ec2b2",
        "colab": {
          "base_uri": "https://localhost:8080/",
          "height": 34
        }
      },
      "source": [
        "def dataCleaner(func):\n",
        "  def dataCleaner_wrapper(data, *args, **kwargs):\n",
        "    distinctList=list(set(data))\n",
        "    filteredList=filter(lambda x: x not in [None, False, 0], distinctList)\n",
        "    return func(filteredList, *args, **kwargs)\n",
        "  return dataCleaner_wrapper\n",
        "@dataCleaner  \n",
        "def myDataAnalysisFunction(data):\n",
        "  return list(map(lambda datum: datum*5, data))\n",
        "retVal= myDataAnalysisFunction([1,6,\"xyz\",\"abc\", None, False])\n",
        "print(\"Returned value is: \", retVal)\n"
      ],
      "execution_count": 0,
      "outputs": [
        {
          "output_type": "stream",
          "text": [
            "Returned value is:  [5, 'xyzxyzxyzxyzxyz', 30, 'abcabcabcabcabc']\n"
          ],
          "name": "stdout"
        }
      ]
    },
    {
      "cell_type": "code",
      "metadata": {
        "id": "1fnH2906jxjg",
        "colab_type": "code",
        "colab": {}
      },
      "source": [
        "searchWalaDost= \"https://api.adviceslip.com/advice/search/{query}\"\n",
        "  "
      ],
      "execution_count": 0,
      "outputs": []
    },
    {
      "cell_type": "code",
      "metadata": {
        "id": "6Nw233jknOlI",
        "colab_type": "code",
        "colab": {}
      },
      "source": [
        "import requests"
      ],
      "execution_count": 0,
      "outputs": []
    },
    {
      "cell_type": "code",
      "metadata": {
        "id": "vZu9jscsnRql",
        "colab_type": "code",
        "outputId": "5dd13835-d983-471d-94c6-176b419bd4ff",
        "colab": {
          "base_uri": "https://localhost:8080/",
          "height": 427
        }
      },
      "source": [
        "x=input(\"Enter your Query: \")\n",
        "meriLifeProblems= searchWalaDost.format(query= x)\n",
        "res= requests.get(meriLifeProblems)\n",
        "res.json()"
      ],
      "execution_count": 0,
      "outputs": [
        {
          "output_type": "stream",
          "text": [
            "Enter your Query: Life\n"
          ],
          "name": "stdout"
        },
        {
          "output_type": "execute_result",
          "data": {
            "text/plain": [
              "{'query': '',\n",
              " 'slips': [{'advice': 'A common regret in life is wishing one had the courage to be ones true self.',\n",
              "   'slip_id': '118'},\n",
              "  {'advice': \"A common regret in life is wishing one hadn't worked so hard.\",\n",
              "   'slip_id': '117'},\n",
              "  {'advice': \"Don't take life too seriously.\", 'slip_id': '147'},\n",
              "  {'advice': 'If you have grandparents or parents - Talk to them more. Ask them about their life experiences.',\n",
              "   'slip_id': '130'},\n",
              "  {'advice': 'Life can be a lot more interesting inside your head.',\n",
              "   'slip_id': '158'},\n",
              "  {'advice': 'Life is better when you sing about bananas.', 'slip_id': '14'},\n",
              "  {'advice': 'Life is short enough, don’t race to the finish.',\n",
              "   'slip_id': '156'},\n",
              "  {'advice': \"Some of life's best lessons are learnt at the worst times.\",\n",
              "   'slip_id': '164'},\n",
              "  {'advice': 'Value the people in your life.', 'slip_id': '193'},\n",
              "  {'advice': 'When something goes wrong in life, just shout \"plot twist!\" and carry on.',\n",
              "   'slip_id': '157'},\n",
              "  {'advice': \"You spend half your life asleep or in bed. It's worth spending money on a good mattress, decent pillows and a comfy duvet.\",\n",
              "   'slip_id': '122'}],\n",
              " 'total_results': '11'}"
            ]
          },
          "metadata": {
            "tags": []
          },
          "execution_count": 96
        }
      ]
    },
    {
      "cell_type": "code",
      "metadata": {
        "id": "1AO4bBIYvsFy",
        "colab_type": "code",
        "colab": {}
      },
      "source": [
        "res=  requests.get(\"https://cataas.com/cat/cute\")\n",
        "f=open(\"1.jpg\",\"wb\")\n",
        "f.write(res.content)\n",
        "f.close()"
      ],
      "execution_count": 0,
      "outputs": []
    },
    {
      "cell_type": "code",
      "metadata": {
        "id": "BlUmqqHZyad_",
        "colab_type": "code",
        "colab": {}
      },
      "source": [
        "\n",
        "\n",
        "             "
      ],
      "execution_count": 0,
      "outputs": []
    }
  ]
}